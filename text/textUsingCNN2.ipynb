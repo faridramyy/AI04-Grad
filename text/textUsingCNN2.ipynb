{
 "cells": [
  {
   "cell_type": "code",
   "execution_count": 13,
   "metadata": {},
   "outputs": [],
   "source": [
    "import pandas as pd\n",
    "import numpy as np\n",
    "import re\n",
    "from nltk.corpus import stopwords\n",
    "from nltk.stem import WordNetLemmatizer\n",
    "from collections import Counter\n",
    "from tensorflow.keras.preprocessing.text import Tokenizer\n",
    "from tensorflow.keras.preprocessing.sequence import pad_sequences\n",
    "from tensorflow.keras.models import Sequential\n",
    "from tensorflow.keras.layers import Embedding, Conv1D, MaxPooling1D, Flatten, Dense, Dropout\n",
    "from sklearn.preprocessing import LabelEncoder\n",
    "from sklearn.metrics import confusion_matrix, classification_report\n",
    "import matplotlib.pyplot as plt\n",
    "import seaborn as sns\n",
    "import nltk"
   ]
  },
  {
   "cell_type": "code",
   "execution_count": 14,
   "metadata": {},
   "outputs": [
    {
     "name": "stderr",
     "output_type": "stream",
     "text": [
      "[nltk_data] Downloading package stopwords to\n",
      "[nltk_data]     C:\\Users\\dell\\AppData\\Roaming\\nltk_data...\n",
      "[nltk_data]   Package stopwords is already up-to-date!\n",
      "[nltk_data] Downloading package wordnet to\n",
      "[nltk_data]     C:\\Users\\dell\\AppData\\Roaming\\nltk_data...\n",
      "[nltk_data]   Package wordnet is already up-to-date!\n",
      "[nltk_data] Downloading package omw-1.4 to\n",
      "[nltk_data]     C:\\Users\\dell\\AppData\\Roaming\\nltk_data...\n",
      "[nltk_data]   Package omw-1.4 is already up-to-date!\n"
     ]
    },
    {
     "data": {
      "text/plain": [
       "True"
      ]
     },
     "execution_count": 14,
     "metadata": {},
     "output_type": "execute_result"
    }
   ],
   "source": [
    "nltk.download(\"stopwords\")\n",
    "nltk.download(\"wordnet\")\n",
    "nltk.download(\"omw-1.4\")"
   ]
  },
  {
   "cell_type": "code",
   "execution_count": 26,
   "metadata": {},
   "outputs": [],
   "source": [
    "train = pd.read_table(\"../datasets/CREMA-D/text/train.txt\", delimiter=\";\", header=None)\n",
    "val = pd.read_table(\"../datasets/CREMA-D/text/val.txt\", delimiter=\";\", header=None)\n",
    "test = pd.read_table(\"../datasets/CREMA-D/text/test.txt\", delimiter=\";\", header=None)"
   ]
  },
  {
   "cell_type": "code",
   "execution_count": 61,
   "metadata": {},
   "outputs": [
    {
     "name": "stdout",
     "output_type": "stream",
     "text": [
      "                                                Text  Emotion  text_length\n",
      "0                            i didnt feel humiliated  sadness            4\n",
      "1  i can go from feeling so hopeless to so damned...  sadness           21\n",
      "2   im grabbing a minute to post i feel greedy wrong    anger           10\n",
      "3  i am ever feeling nostalgic about the fireplac...     love           18\n",
      "4                               i am feeling grouchy    anger            4\n",
      "Train Columns: 3\n"
     ]
    }
   ],
   "source": [
    "# Check the structure of the datasets\n",
    "print(train.head())\n",
    "print(\"Train Columns:\", train.shape[1])  # Number of columns in the train dataset\n"
   ]
  },
  {
   "cell_type": "code",
   "execution_count": 15,
   "metadata": {},
   "outputs": [],
   "source": [
    "\n",
    "def load_datasets():\n",
    "    train = pd.read_table(\"../datasets/CREMA-D/text/train.txt\", delimiter=\";\", header=None)\n",
    "    val = pd.read_table(\"../datasets/CREMA-D/text/val.txt\", delimiter=\";\", header=None)\n",
    "    test = pd.read_table(\"../datasets/CREMA-D/text/test.txt\", delimiter=\";\", header=None)\n",
    "\n",
    "    train.columns = [\"Text\", \"Emotion\"]\n",
    "    val.columns = [\"Text\", \"Emotion\"]\n",
    "    test.columns = [\"Text\", \"Emotion\"]\n",
    "\n",
    "    return train, val, test\n"
   ]
  },
  {
   "cell_type": "code",
   "execution_count": 23,
   "metadata": {},
   "outputs": [
    {
     "name": "stdout",
     "output_type": "stream",
     "text": [
      "Train Dataset Shape: (16000, 4)\n",
      "Validation Dataset Shape: (2000, 4)\n",
      "Test Dataset Shape: (2000, 4)\n",
      "                                                Text  Emotion  \\\n",
      "0                            i didnt feel humiliated  sadness   \n",
      "1  i can go from feeling so hopeless to so damned...  sadness   \n",
      "2   im grabbing a minute to post i feel greedy wrong    anger   \n",
      "3  i am ever feeling nostalgic about the fireplac...     love   \n",
      "4                               i am feeling grouchy    anger   \n",
      "\n",
      "                                                text  N_label  \n",
      "0                              didnt feel humiliated        4  \n",
      "1  go feeling hopeless damned hopeful around some...        4  \n",
      "2          im grabbing minute post feel greedy wrong        0  \n",
      "3  ever feeling nostalgic fireplace know still pr...        3  \n",
      "4                                    feeling grouchy        0  \n"
     ]
    }
   ],
   "source": [
    "# Display basic information about the datasets\n",
    "print(\"Train Dataset Shape:\", train.shape)\n",
    "print(\"Validation Dataset Shape:\", val.shape)\n",
    "print(\"Test Dataset Shape:\", test.shape)\n",
    "\n",
    "# Display the first few rows of the train dataset\n",
    "print(train.head())\n"
   ]
  },
  {
   "cell_type": "code",
   "execution_count": null,
   "metadata": {},
   "outputs": [],
   "source": []
  },
  {
   "cell_type": "code",
   "execution_count": 24,
   "metadata": {},
   "outputs": [
    {
     "name": "stdout",
     "output_type": "stream",
     "text": [
      "Train Missing Values:\n",
      " Text       0\n",
      "Emotion    0\n",
      "text       0\n",
      "N_label    0\n",
      "dtype: int64\n",
      "Validation Missing Values:\n",
      " Text       0\n",
      "Emotion    0\n",
      "text       0\n",
      "N_label    0\n",
      "dtype: int64\n",
      "Test Missing Values:\n",
      " Text       0\n",
      "Emotion    0\n",
      "text       0\n",
      "N_label    0\n",
      "dtype: int64\n"
     ]
    }
   ],
   "source": [
    "# Check for null values\n",
    "print(\"Train Missing Values:\\n\", train.isnull().sum())\n",
    "print(\"Validation Missing Values:\\n\", val.isnull().sum())\n",
    "print(\"Test Missing Values:\\n\", test.isnull().sum())\n"
   ]
  },
  {
   "cell_type": "code",
   "execution_count": 25,
   "metadata": {},
   "outputs": [
    {
     "name": "stdout",
     "output_type": "stream",
     "text": [
      "Train Class Distribution:\n",
      " Emotion\n",
      "joy         5362\n",
      "sadness     4666\n",
      "anger       2159\n",
      "fear        1937\n",
      "love        1304\n",
      "surprise     572\n",
      "Name: count, dtype: int64\n",
      "Validation Class Distribution:\n",
      " Emotion\n",
      "joy         704\n",
      "sadness     550\n",
      "anger       275\n",
      "fear        212\n",
      "love        178\n",
      "surprise     81\n",
      "Name: count, dtype: int64\n",
      "Test Class Distribution:\n",
      " Emotion\n",
      "joy         695\n",
      "sadness     581\n",
      "anger       275\n",
      "fear        224\n",
      "love        159\n",
      "surprise     66\n",
      "Name: count, dtype: int64\n"
     ]
    }
   ],
   "source": [
    "# Analyze class distribution\n",
    "print(\"Train Class Distribution:\\n\", train['Emotion'].value_counts())\n",
    "print(\"Validation Class Distribution:\\n\", val['Emotion'].value_counts())\n",
    "print(\"Test Class Distribution:\\n\", test['Emotion'].value_counts())\n"
   ]
  },
  {
   "cell_type": "code",
   "execution_count": 16,
   "metadata": {},
   "outputs": [],
   "source": [
    "\n",
    "def preprocess_data(train, val, test):\n",
    "    lemmatizer = WordNetLemmatizer()\n",
    "\n",
    "    def preprocess_with_lemmatization(line):\n",
    "        review = re.sub(\"[^a-zA-Z]\", \" \", line)\n",
    "        review = review.lower()\n",
    "        review = review.split()\n",
    "        review = [lemmatizer.lemmatize(word) for word in review if word not in stopwords.words(\"english\")]\n",
    "        return \" \".join(review)\n",
    "\n",
    "    train[\"text\"] = train[\"Text\"].apply(preprocess_with_lemmatization)\n",
    "    val[\"text\"] = val[\"Text\"].apply(preprocess_with_lemmatization)\n",
    "    test[\"text\"] = test[\"Text\"].apply(preprocess_with_lemmatization)\n",
    "\n",
    "    all_text = \" \".join(train[\"text\"].tolist() + val[\"text\"].tolist() + test[\"text\"].tolist())\n",
    "    word_freq = Counter(all_text.split())\n",
    "    threshold = 2\n",
    "\n",
    "    train[\"text\"] = train[\"text\"].apply(lambda x: \" \".join([word for word in x.split() if word_freq[word] >= threshold]))\n",
    "    val[\"text\"] = val[\"text\"].apply(lambda x: \" \".join([word for word in x.split() if word_freq[word] >= threshold]))\n",
    "    test[\"text\"] = test[\"text\"].apply(lambda x: \" \".join([word for word in x.split() if word_freq[word] >= threshold]))\n",
    "\n",
    "    return train, val, test\n"
   ]
  },
  {
   "cell_type": "code",
   "execution_count": null,
   "metadata": {},
   "outputs": [],
   "source": []
  },
  {
   "cell_type": "code",
   "execution_count": 17,
   "metadata": {},
   "outputs": [],
   "source": [
    "\n",
    "def encode_labels(train, val, test):\n",
    "    label_encoder = LabelEncoder()\n",
    "    train[\"N_label\"] = label_encoder.fit_transform(train[\"Emotion\"])\n",
    "    val[\"N_label\"] = label_encoder.transform(val[\"Emotion\"])\n",
    "    test[\"N_label\"] = label_encoder.transform(test[\"Emotion\"])\n",
    "\n",
    "    return train, val, test, label_encoder"
   ]
  },
  {
   "cell_type": "code",
   "execution_count": 18,
   "metadata": {},
   "outputs": [],
   "source": [
    "def load_glove_embeddings(file_path):\n",
    "    embedding_index = {}\n",
    "    with open(file_path, \"r\", encoding=\"utf-8\") as f:\n",
    "        for line in f:\n",
    "            values = line.split()\n",
    "            word = values[0]\n",
    "            coefs = np.asarray(values[1:], dtype=\"float32\")\n",
    "            embedding_index[word] = coefs\n",
    "    return embedding_index\n"
   ]
  },
  {
   "cell_type": "code",
   "execution_count": 19,
   "metadata": {},
   "outputs": [],
   "source": [
    "\n",
    "def prepare_data_and_embeddings(train, val, test, embedding_index, max_len=100, vocab_size=5000, embedding_dim=100):\n",
    "    tokenizer = Tokenizer(num_words=vocab_size)\n",
    "    tokenizer.fit_on_texts(train[\"text\"])\n",
    "\n",
    "    X_train = tokenizer.texts_to_sequences(train[\"text\"])\n",
    "    X_val = tokenizer.texts_to_sequences(val[\"text\"])\n",
    "    X_test = tokenizer.texts_to_sequences(test[\"text\"])\n",
    "\n",
    "    X_train = pad_sequences(X_train, maxlen=max_len, padding=\"post\")\n",
    "    X_val = pad_sequences(X_val, maxlen=max_len, padding=\"post\")\n",
    "    X_test = pad_sequences(X_test, maxlen=max_len, padding=\"post\")\n",
    "\n",
    "    y_train = np.array(train[\"N_label\"])\n",
    "    y_val = np.array(val[\"N_label\"])\n",
    "    y_test = np.array(test[\"N_label\"])\n",
    "\n",
    "    word_index = tokenizer.word_index\n",
    "    embedding_matrix = np.zeros((vocab_size, embedding_dim))\n",
    "    for word, i in word_index.items():\n",
    "        if i < vocab_size:\n",
    "            embedding_vector = embedding_index.get(word)\n",
    "            if embedding_vector is not None:\n",
    "                embedding_matrix[i] = embedding_vector\n",
    "\n",
    "    return X_train, X_val, X_test, y_train, y_val, y_test, embedding_matrix\n"
   ]
  },
  {
   "cell_type": "code",
   "execution_count": 20,
   "metadata": {},
   "outputs": [],
   "source": [
    "from tensorflow.keras.models import Sequential\n",
    "from tensorflow.keras.layers import Embedding, Conv1D, MaxPooling1D, Dropout, Dense, Flatten, BatchNormalization, GlobalMaxPooling1D\n",
    "from tensorflow.keras.regularizers import l2\n",
    "\n",
    "def build_and_compile_model(vocab_size, embedding_dim, max_len, embedding_matrix, num_classes):\n",
    "    model = Sequential()\n",
    "\n",
    "    # Embedding layer\n",
    "    model.add(Embedding(input_dim=vocab_size, output_dim=embedding_dim, weights=[embedding_matrix], input_length=max_len, trainable=False))\n",
    "\n",
    "    # Convolutional layers\n",
    "    model.add(Conv1D(256, kernel_size=3, activation='relu'))\n",
    "    model.add(BatchNormalization())\n",
    "    model.add(MaxPooling1D(pool_size=2))\n",
    "    model.add(Dropout(0.4))\n",
    "\n",
    "    model.add(Conv1D(128, kernel_size=5, activation='relu'))\n",
    "    model.add(BatchNormalization())\n",
    "    model.add(MaxPooling1D(pool_size=2))\n",
    "    model.add(Dropout(0.4))\n",
    "\n",
    "    # Fully connected layers\n",
    "    model.add(GlobalMaxPooling1D())  # Global max pooling\n",
    "    model.add(Dense(128, activation='relu', kernel_regularizer=l2(0.01)))  # Increase number of units and add L2 regularization\n",
    "    model.add(Dropout(0.4))\n",
    "    model.add(Dense(num_classes, activation='softmax'))\n",
    "\n",
    "    # Compile the model\n",
    "    model.compile(optimizer=\"adam\", loss=\"sparse_categorical_crossentropy\", metrics=[\"accuracy\"]) \n",
    "\n",
    "    return model\n"
   ]
  },
  {
   "cell_type": "code",
   "execution_count": 21,
   "metadata": {},
   "outputs": [],
   "source": [
    "\n",
    "def train_and_evaluate_model(model, X_train, y_train, X_val, y_val, X_test, y_test, label_encoder):\n",
    "    history = model.fit(\n",
    "        X_train, y_train,\n",
    "        validation_data=(X_val, y_val),\n",
    "        epochs=10,\n",
    "        batch_size=32,\n",
    "        verbose=1\n",
    "    )\n",
    "\n",
    "    y_pred = np.argmax(model.predict(X_test), axis=1)\n",
    "    cm = confusion_matrix(y_test, y_pred)\n",
    "    cm_df = pd.DataFrame(cm, index=label_encoder.classes_, columns=label_encoder.classes_)\n",
    "\n",
    "    plt.figure(figsize=(12, 8))\n",
    "    sns.heatmap(cm_df, annot=True, cmap=\"Blues\", fmt=\"d\", cbar=False)\n",
    "    plt.title(\"Confusion Matrix\")\n",
    "    plt.xlabel(\"Predicted\")\n",
    "    plt.ylabel(\"Actual\")\n",
    "    plt.show()\n",
    "\n",
    "    print(classification_report(y_test, y_pred, target_names=label_encoder.classes_))\n",
    "\n",
    "    test_loss, test_accuracy = model.evaluate(X_test, y_test)\n",
    "    print(f\"Test Accuracy: {test_accuracy * 100:.2f}%\")\n"
   ]
  },
  {
   "cell_type": "code",
   "execution_count": 22,
   "metadata": {},
   "outputs": [
    {
     "name": "stdout",
     "output_type": "stream",
     "text": [
      "Epoch 1/10\n",
      "500/500 [==============================] - 23s 42ms/step - loss: 3.0151 - accuracy: 0.3497 - val_loss: 2.3308 - val_accuracy: 0.4545\n",
      "Epoch 2/10\n",
      "500/500 [==============================] - 21s 42ms/step - loss: 1.9226 - accuracy: 0.5078 - val_loss: 1.5763 - val_accuracy: 0.6015\n",
      "Epoch 3/10\n",
      "500/500 [==============================] - 18s 37ms/step - loss: 1.4163 - accuracy: 0.5918 - val_loss: 1.0751 - val_accuracy: 0.7055\n",
      "Epoch 4/10\n",
      "500/500 [==============================] - 19s 38ms/step - loss: 1.0355 - accuracy: 0.6868 - val_loss: 0.7065 - val_accuracy: 0.7875\n",
      "Epoch 5/10\n",
      "500/500 [==============================] - 18s 36ms/step - loss: 0.7860 - accuracy: 0.7568 - val_loss: 0.5718 - val_accuracy: 0.8210\n",
      "Epoch 6/10\n",
      "500/500 [==============================] - 18s 36ms/step - loss: 0.6552 - accuracy: 0.7982 - val_loss: 0.4511 - val_accuracy: 0.8640\n",
      "Epoch 7/10\n",
      "500/500 [==============================] - 19s 38ms/step - loss: 0.5552 - accuracy: 0.8260 - val_loss: 0.4212 - val_accuracy: 0.8700\n",
      "Epoch 8/10\n",
      "500/500 [==============================] - 20s 41ms/step - loss: 0.4972 - accuracy: 0.8443 - val_loss: 0.3732 - val_accuracy: 0.8860\n",
      "Epoch 9/10\n",
      "500/500 [==============================] - 20s 40ms/step - loss: 0.4520 - accuracy: 0.8578 - val_loss: 0.3743 - val_accuracy: 0.8885\n",
      "Epoch 10/10\n",
      "500/500 [==============================] - 19s 38ms/step - loss: 0.4132 - accuracy: 0.8731 - val_loss: 0.3445 - val_accuracy: 0.8930\n",
      "63/63 [==============================] - 1s 9ms/step\n"
     ]
    },
    {
     "data": {
      "image/png": "[encoded data removed]",
      "text/plain": [
       "<Figure size 1200x800 with 1 Axes>"
      ]
     },
     "metadata": {},
     "output_type": "display_data"
    },
    {
     "name": "stdout",
     "output_type": "stream",
     "text": [
      "              precision    recall  f1-score   support\n",
      "\n",
      "       anger       0.90      0.91      0.90       275\n",
      "        fear       0.90      0.86      0.88       224\n",
      "         joy       0.87      0.94      0.90       695\n",
      "        love       0.83      0.65      0.73       159\n",
      "     sadness       0.95      0.91      0.93       581\n",
      "    surprise       0.66      0.77      0.71        66\n",
      "\n",
      "    accuracy                           0.89      2000\n",
      "   macro avg       0.85      0.84      0.84      2000\n",
      "weighted avg       0.89      0.89      0.89      2000\n",
      "\n",
      "63/63 [==============================] - 1s 9ms/step - loss: 0.3297 - accuracy: 0.8890\n",
      "Test Accuracy: 88.90%\n"
     ]
    }
   ],
   "source": [
    "if __name__ == \"__main__\":\n",
    "    # Load and preprocess datasets\n",
    "    train, val, test = load_datasets()\n",
    "    train, val, test = preprocess_data(train, val, test)\n",
    "    train, val, test, label_encoder = encode_labels(train, val, test)\n",
    "\n",
    "    # Load GloVe embeddings\n",
    "    embedding_index = load_glove_embeddings(\"../datasets/glove.6B.100d.txt\")\n",
    "\n",
    "\n",
    "    # Prepare data and embeddings\n",
    "    max_len = 100\n",
    "    vocab_size = 5000\n",
    "    embedding_dim = 100\n",
    "\n",
    "    X_train, X_val, X_test, y_train, y_val, y_test, embedding_matrix = prepare_data_and_embeddings(\n",
    "        train, val, test, embedding_index, max_len=max_len, vocab_size=vocab_size, embedding_dim=embedding_dim\n",
    "    )\n",
    "\n",
    "    # Build and compile the model\n",
    "    model = build_and_compile_model(vocab_size, embedding_dim, max_len, embedding_matrix, len(label_encoder.classes_))\n",
    "\n",
    "    # Train and evaluate the model\n",
    "    train_and_evaluate_model(model, X_train, y_train, X_val, y_val, X_test, y_test, label_encoder)\n"
   ]
  },
  {
   "cell_type": "code",
   "execution_count": 50,
   "metadata": {},
   "outputs": [],
   "source": [
    "traindata = pd.read_table(\"../datasets/CREMA-D/text/train.txt\", delimiter=\";\", header=None)\n",
    "valdata = pd.read_table(\"../datasets/CREMA-D/text/val.txt\", delimiter=\";\", header=None)\n",
    "testdata = pd.read_table(\"../datasets/CREMA-D/text/test.txt\", delimiter=\";\", header=None)"
   ]
  },
  {
   "cell_type": "code",
   "execution_count": 51,
   "metadata": {},
   "outputs": [],
   "source": [
    "traindata.columns = [\"Text\", \"Label\"]\n",
    "valdata.columns = [\"Text\", \"Label\"]\n",
    "testdata.columns = [\"Text\", \"Label\"]\n"
   ]
  },
  {
   "cell_type": "code",
   "execution_count": 53,
   "metadata": {},
   "outputs": [
    {
     "name": "stdout",
     "output_type": "stream",
     "text": [
      "Train Text Length:\n",
      " count    16000.000000\n",
      "mean        19.166313\n",
      "std         10.986905\n",
      "min          2.000000\n",
      "25%         11.000000\n",
      "50%         17.000000\n",
      "75%         25.000000\n",
      "max         66.000000\n",
      "Name: text_length, dtype: float64\n",
      "Validation Text Length:\n",
      " count    2000.000000\n",
      "mean       18.866000\n",
      "std        10.813025\n",
      "min         2.000000\n",
      "25%        10.000000\n",
      "50%        17.000000\n",
      "75%        25.000000\n",
      "max        61.000000\n",
      "Name: text_length, dtype: float64\n",
      "Test Text Length:\n",
      " count    2000.000000\n",
      "mean       19.154000\n",
      "std        11.012353\n",
      "min         3.000000\n",
      "25%        10.000000\n",
      "50%        17.000000\n",
      "75%        26.000000\n",
      "max        61.000000\n",
      "Name: text_length, dtype: float64\n"
     ]
    }
   ],
   "source": [
    "# Compute text length for each dataset\n",
    "traindata[\"text_length\"] = traindata[\"Text\"].apply(lambda x: len(x.split()))\n",
    "valdata[\"text_length\"] = valdata[\"Text\"].apply(lambda x: len(x.split()))\n",
    "testdata[\"text_length\"] = testdata[\"Text\"].apply(lambda x: len(x.split()))\n",
    "\n",
    "# Summary statistics for text lengths\n",
    "print(\"Train Text Length:\\n\", traindata[\"text_length\"].describe())\n",
    "print(\"Validation Text Length:\\n\", valdata[\"text_length\"].describe())\n",
    "print(\"Test Text Length:\\n\", testdata[\"text_length\"].describe())\n"
   ]
  },
  {
   "cell_type": "code",
   "execution_count": 54,
   "metadata": {},
   "outputs": [
    {
     "data": {
      "image/png": "[encoded data removed]",
      "text/plain": [
       "<Figure size 1200x600 with 1 Axes>"
      ]
     },
     "metadata": {},
     "output_type": "display_data"
    }
   ],
   "source": [
    "import matplotlib.pyplot as plt\n",
    "\n",
    "plt.figure(figsize=(12, 6))\n",
    "plt.hist(traindata[\"text_length\"], bins=30, alpha=0.7, label=\"Train\")\n",
    "plt.hist(valdata[\"text_length\"], bins=30, alpha=0.7, label=\"Validation\")\n",
    "plt.hist(testdata[\"text_length\"], bins=30, alpha=0.7, label=\"Test\")\n",
    "plt.xlabel(\"Number of Words\")\n",
    "plt.ylabel(\"Frequency\")\n",
    "plt.title(\"Text Length Distribution\")\n",
    "plt.legend()\n",
    "plt.show()\n"
   ]
  },
  {
   "cell_type": "code",
   "execution_count": 55,
   "metadata": {},
   "outputs": [
    {
     "name": "stdout",
     "output_type": "stream",
     "text": [
      "Train Outliers based on text length:\n",
      "                                                     Text     Label  \\\n",
      "0                                i didnt feel humiliated   sadness   \n",
      "4                                   i am feeling grouchy     anger   \n",
      "9                                    i feel romantic too      love   \n",
      "14     i have immense sympathy with the general point...       joy   \n",
      "21     i am feeling completely overwhelmed i have two...      fear   \n",
      "...                                                  ...       ...   \n",
      "15887  i guess this isnt a very exciting story but it...   sadness   \n",
      "15941  i get the feeling that i m totally isolated fr...   sadness   \n",
      "15976                             i didnt feel exhausted   sadness   \n",
      "15979  i have writer s block or feel too apprehensive...      fear   \n",
      "15989  i need to do this that and the other for colle...  surprise   \n",
      "\n",
      "       text_length  \n",
      "0                4  \n",
      "4                4  \n",
      "9                4  \n",
      "14              42  \n",
      "21              44  \n",
      "...            ...  \n",
      "15887           47  \n",
      "15941           57  \n",
      "15976            4  \n",
      "15979           44  \n",
      "15989           54  \n",
      "\n",
      "[1103 rows x 3 columns]\n",
      "Validation Outliers based on text length:\n",
      "                                                    Text    Label  text_length\n",
      "13                            i was feeling sentimental  sadness            4\n",
      "45    i cant sleep i switch on music if i need to wa...  sadness           49\n",
      "89                                  i didnt feel rushed    anger            4\n",
      "99    im not trying to sound sarcastic but only tryi...  sadness           43\n",
      "105                                      i feel cold in    anger            4\n",
      "...                                                 ...      ...          ...\n",
      "1910                                        i feel smug      joy            3\n",
      "1929                               i start feeling dumb  sadness            4\n",
      "1941  i did see a few people looking at the points a...      joy           49\n",
      "1959                             i feel grouchy tonight    anger            4\n",
      "1963  i called myself pro life and voted for perry w...      joy           52\n",
      "\n",
      "[124 rows x 3 columns]\n",
      "Test Outliers based on text length:\n",
      "                                                    Text    Label  text_length\n",
      "20    im not sure the feeling of loss will ever go a...  sadness           42\n",
      "22    i survey my own posts over the last few years ...      joy           46\n",
      "61                                i feel so embarrassed  sadness            4\n",
      "62    i spent wandering around still kinda dazed and...      joy           45\n",
      "68                            im feeling pretty anxious     fear            4\n",
      "...                                                 ...      ...          ...\n",
      "1927  ive been doing hour weeks and ill get paid for...  sadness           44\n",
      "1944  i got into the house feeling fairly calm the p...      joy           53\n",
      "1951                                i feel gorgeous yes      joy            4\n",
      "1975                              i feel scared anxious     fear            4\n",
      "1978  i dont want to always be judgmental of particu...  sadness           42\n",
      "\n",
      "[130 rows x 3 columns]\n"
     ]
    }
   ],
   "source": [
    "# Define thresholds for outliers\n",
    "min_threshold = traindata[\"text_length\"].quantile(0.05)  # Lower 5%\n",
    "max_threshold = traindata[\"text_length\"].quantile(0.95)  # Upper 5%\n",
    "\n",
    "# Identify outliers\n",
    "train_outliers = traindata[(traindata[\"text_length\"] < min_threshold) | (traindata[\"text_length\"] > max_threshold)]\n",
    "print(\"Train Outliers based on text length:\\n\", train_outliers)\n",
    "\n",
    "val_outliers = valdata[(valdata[\"text_length\"] < min_threshold) | (valdata[\"text_length\"] > max_threshold)]\n",
    "print(\"Validation Outliers based on text length:\\n\", val_outliers)\n",
    "\n",
    "test_outliers = testdata[(testdata[\"text_length\"] < min_threshold) | (testdata[\"text_length\"] > max_threshold)]\n",
    "print(\"Test Outliers based on text length:\\n\", test_outliers)\n"
   ]
  },
  {
   "cell_type": "code",
   "execution_count": 56,
   "metadata": {},
   "outputs": [
    {
     "name": "stdout",
     "output_type": "stream",
     "text": [
      "Train Label Distribution:\n",
      " Label\n",
      "joy         5362\n",
      "sadness     4666\n",
      "anger       2159\n",
      "fear        1937\n",
      "love        1304\n",
      "surprise     572\n",
      "Name: count, dtype: int64\n",
      "Validation Label Distribution:\n",
      " Label\n",
      "joy         704\n",
      "sadness     550\n",
      "anger       275\n",
      "fear        212\n",
      "love        178\n",
      "surprise     81\n",
      "Name: count, dtype: int64\n",
      "Test Label Distribution:\n",
      " Label\n",
      "joy         695\n",
      "sadness     581\n",
      "anger       275\n",
      "fear        224\n",
      "love        159\n",
      "surprise     66\n",
      "Name: count, dtype: int64\n"
     ]
    }
   ],
   "source": [
    "# Analyze label distributions\n",
    "print(\"Train Label Distribution:\\n\", traindata[\"Label\"].value_counts())\n",
    "print(\"Validation Label Distribution:\\n\", valdata[\"Label\"].value_counts())\n",
    "print(\"Test Label Distribution:\\n\", testdata[\"Label\"].value_counts())\n"
   ]
  },
  {
   "cell_type": "code",
   "execution_count": 57,
   "metadata": {},
   "outputs": [
    {
     "data": {
      "image/png": "[encoded data removed]",
      "text/plain": [
       "<Figure size 640x480 with 1 Axes>"
      ]
     },
     "metadata": {},
     "output_type": "display_data"
    },
    {
     "data": {
      "image/png": "[encoded data removed]",
      "text/plain": [
       "<Figure size 640x480 with 1 Axes>"
      ]
     },
     "metadata": {},
     "output_type": "display_data"
    },
    {
     "data": {
      "image/png": "[encoded data removed]",
      "text/plain": [
       "<Figure size 640x480 with 1 Axes>"
      ]
     },
     "metadata": {},
     "output_type": "display_data"
    }
   ],
   "source": [
    "traindata[\"Label\"].value_counts().plot(kind=\"bar\", title=\"Train Label Distribution\")\n",
    "plt.show()\n",
    "\n",
    "valdata[\"Label\"].value_counts().plot(kind=\"bar\", title=\"Validation Label Distribution\")\n",
    "plt.show()\n",
    "\n",
    "testdata[\"Label\"].value_counts().plot(kind=\"bar\", title=\"Test Label Distribution\")\n",
    "plt.show()\n"
   ]
  },
  {
   "cell_type": "code",
   "execution_count": 58,
   "metadata": {},
   "outputs": [
    {
     "name": "stdout",
     "output_type": "stream",
     "text": [
      "Duplicate Texts in Train Data:\n",
      "                                                     Text    Label  text_length\n",
      "364    i tend to stop breathing when i m feeling stre...  sadness           10\n",
      "1501   i feel on the verge of tears from weariness i ...     love           23\n",
      "1625   i was intensely conscious of how much cash i h...    anger           38\n",
      "1802                    i still feel completely accepted      joy            5\n",
      "2908   im still not sure why reilly feels the need to...     fear           13\n",
      "...                                                  ...      ...          ...\n",
      "15315  i will feel as though i am accepted by as well...      joy           20\n",
      "15329  i shy away from songs that talk about how i fe...      joy           24\n",
      "15572  i bet taylor swift basks in the knowledge that...    anger           18\n",
      "15705  i began to feel accepted by gaia on her own terms      joy           11\n",
      "15876  i was sitting in the corner stewing in my own ...    anger           17\n",
      "\n",
      "[62 rows x 3 columns]\n",
      "Duplicate Texts in Validation Data:\n",
      "                                                    Text  Label  text_length\n",
      "300   i have had several new members tell me how com...   love           27\n",
      "603   i have had several new members tell me how com...    joy           27\n",
      "774                            i feel so tortured by it   fear            6\n",
      "1993                           i feel so tortured by it  anger            6\n",
      "Duplicate Texts in Test Data:\n",
      " Empty DataFrame\n",
      "Columns: [Text, Label, text_length]\n",
      "Index: []\n"
     ]
    }
   ],
   "source": [
    "# Check for duplicates\n",
    "train_duplicates = traindata[traindata.duplicated(subset=[\"Text\"], keep=False)]\n",
    "print(\"Duplicate Texts in Train Data:\\n\", train_duplicates)\n",
    "\n",
    "val_duplicates = valdata[valdata.duplicated(subset=[\"Text\"], keep=False)]\n",
    "print(\"Duplicate Texts in Validation Data:\\n\", val_duplicates)\n",
    "\n",
    "test_duplicates = testdata[testdata.duplicated(subset=[\"Text\"], keep=False)]\n",
    "print(\"Duplicate Texts in Test Data:\\n\", test_duplicates)\n"
   ]
  },
  {
   "cell_type": "code",
   "execution_count": 59,
   "metadata": {},
   "outputs": [
    {
     "name": "stdout",
     "output_type": "stream",
     "text": [
      "Empty Texts in Train Data:\n",
      " Empty DataFrame\n",
      "Columns: [Text, Label, text_length]\n",
      "Index: []\n",
      "Very Short Texts in Train Data:\n",
      "                   Text    Label  text_length\n",
      "4150       earth crake     fear            2\n",
      "4997   during lectures      joy            2\n",
      "8824         in sweden     fear            2\n",
      "9355       no response    anger            2\n",
      "12204        one night      joy            2\n",
      "12546        at school    anger            2\n",
      "12801          one day  sadness            2\n",
      "13316   no description    anger            2\n"
     ]
    }
   ],
   "source": [
    "# Empty texts\n",
    "train_empty = traindata[traindata[\"Text\"].str.strip() == \"\"]\n",
    "print(\"Empty Texts in Train Data:\\n\", train_empty)\n",
    "\n",
    "# Very short texts\n",
    "train_very_short = traindata[traindata[\"text_length\"] < 3]  # Texts with fewer than 3 words\n",
    "print(\"Very Short Texts in Train Data:\\n\", train_very_short)\n"
   ]
  },
  {
   "cell_type": "code",
   "execution_count": 60,
   "metadata": {},
   "outputs": [
    {
     "name": "stdout",
     "output_type": "stream",
     "text": [
      "Texts with Non-standard Characters in Train Data:\n",
      "                                                     Text    Label  text_length\n",
      "0                                i didnt feel humiliated  sadness            4\n",
      "1      i can go from feeling so hopeless to so damned...  sadness           21\n",
      "2       im grabbing a minute to post i feel greedy wrong    anger           10\n",
      "3      i am ever feeling nostalgic about the fireplac...     love           18\n",
      "4                                   i am feeling grouchy    anger            4\n",
      "...                                                  ...      ...          ...\n",
      "15995  i just had a very brief time in the beanbag an...  sadness           24\n",
      "15996  i am now turning and i feel pathetic that i am...  sadness           20\n",
      "15997                     i feel strong and good overall      joy            6\n",
      "15998  i feel like this was such a rude comment and i...    anger           14\n",
      "15999  i know a lot but i feel so stupid because i ca...  sadness           15\n",
      "\n",
      "[16000 rows x 3 columns]\n"
     ]
    }
   ],
   "source": [
    "# Texts with non-alphanumeric characters\n",
    "train_non_standard = traindata[traindata[\"Text\"].str.contains(r\"[^a-zA-Z0-9.,!?\\\\s]\")]\n",
    "print(\"Texts with Non-standard Characters in Train Data:\\n\", train_non_standard)\n"
   ]
  }
 ],
 "metadata": {
  "kernelspec": {
   "display_name": "new_bert",
   "language": "python",
   "name": "python3"
  },
  "language_info": {
   "codemirror_mode": {
    "name": "ipython",
    "version": 3
   },
   "file_extension": ".py",
   "mimetype": "text/x-python",
   "name": "python",
   "nbconvert_exporter": "python",
   "pygments_lexer": "ipython3",
   "version": "3.9.20"
  }
 },
 "nbformat": 4,
 "nbformat_minor": 2
}
