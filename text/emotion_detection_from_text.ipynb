{
 "cells": [
  {
   "cell_type": "code",
   "execution_count": 12,
   "metadata": {},
   "outputs": [
    {
     "name": "stdout",
     "output_type": "stream",
     "text": [
      "Data shape: (20000, 2)\n"
     ]
    }
   ],
   "source": [
    "import pandas as pd\n",
    "\n",
    "train = pd.read_table(\n",
    "    \"../datasets/CREMA-D/text/train.txt\",\n",
    "    delimiter=\";\",\n",
    "    header=None,\n",
    ")\n",
    "\n",
    "val = pd.read_table(\n",
    "    \"../datasets/CREMA-D/text/val.txt\",\n",
    "    delimiter=\";\",\n",
    "    header=None,\n",
    ")\n",
    "\n",
    "test = pd.read_table(\n",
    "    \"../datasets/CREMA-D/text/test.txt\",\n",
    "    delimiter=\";\",\n",
    "    header=None,\n",
    ")\n",
    "\n",
    "train.columns = [\"Text\", \"Emotion\"]\n",
    "val.columns = [\"Text\", \"Emotion\"]\n",
    "test.columns = [\"Text\", \"Emotion\"]\n",
    "\n",
    "# print(\"Train head:\", train.head())\n",
    "# print(\"Train shape:\", train.shape)\n",
    "# print(\"-\" * 10)\n",
    "# print(\"Val head:\", val.head())\n",
    "# print(\"Val shape:\", val.shape)\n",
    "# print(\"-\" * 10)\n",
    "# print(\"Test head:\", test.head())\n",
    "# print(\"Test shape:\", test.shape)\n",
    "# print(\"-\" * 10)\n",
    "\n",
    "data = pd.concat([train, val, test], ignore_index=True)\n",
    "data.columns = [\"text\", \"label\"]\n",
    "\n",
    "# print(\"Data head:\", data.head())\n",
    "print(\"Data shape:\", data.shape)"
   ]
  },
  {
   "cell_type": "code",
   "execution_count": 13,
   "metadata": {},
   "outputs": [
    {
     "data": {
      "text/plain": [
       "0"
      ]
     },
     "execution_count": 13,
     "metadata": {},
     "output_type": "execute_result"
    }
   ],
   "source": [
    "data.isna().any(axis=1).sum()"
   ]
  },
  {
   "cell_type": "markdown",
   "metadata": {},
   "source": [
    "### Preprocess Function\n",
    "\n",
    "The preprocess function is designed to clean and normalize textual data by:\n",
    "\n",
    "1. **Removing unwanted characters**: Retaining only alphabetic characters.\n",
    "2. **Normalizing text**: Converting all characters to lowercase.\n",
    "3. **Tokenizing**: Splitting text into individual words.\n",
    "4. **Removing stopwords**: Eliminating common words that may not contribute to the analysis (e.g., \"and\", \"the\").\n",
    "5. **Stemming**: Reducing words to their root forms (e.g., \"running\" → \"run\").\n",
    "6. **Reconstructing the text**: Combining the processed words back into a single string.\n",
    "\n",
    "This process is essential in Natural Language Processing (NLP) tasks, such as emotion detection from text, to clean and prepare textual data for analysis or modeling.\n",
    "\n",
    "- **PorterStemmer**: A stemming algorithm provided by NLTK to reduce words to their base or root form.(e.g., \"connect\", \"connecting\", \"connected\" → \"connect\").\n",
    "- **stopwords**: A corpus in NLTK containing common words (like \"the\", \"is\", \"in\") that are typically removed in preprocessing because they carry minimal semantic value."
   ]
  },
  {
   "cell_type": "code",
   "execution_count": 14,
   "metadata": {},
   "outputs": [
    {
     "name": "stderr",
     "output_type": "stream",
     "text": [
      "[nltk_data] Downloading package stopwords to\n",
      "[nltk_data]     C:\\Users\\dell\\AppData\\Roaming\\nltk_data...\n",
      "[nltk_data]   Package stopwords is already up-to-date!\n"
     ]
    }
   ],
   "source": [
    "import nltk\n",
    "\n",
    "nltk.download(\"stopwords\")\n",
    "\n",
    "import re\n",
    "from nltk.stem import PorterStemmer\n",
    "from nltk.corpus import stopwords\n",
    "\n",
    "\n",
    "def preprocess(line):\n",
    "    review = re.sub(\"[^a-zA-Z]\", \" \", line)\n",
    "    review = review.lower()\n",
    "    review = review.split()\n",
    "\n",
    "    # apply Stemming + remove the stopwords\n",
    "    review = [\n",
    "        PorterStemmer().stem(word)\n",
    "        for word in review\n",
    "        if not word in stopwords.words(\"english\")\n",
    "    ]\n",
    "\n",
    "    return \" \".join(review)"
   ]
  },
  {
   "cell_type": "code",
   "execution_count": 15,
   "metadata": {},
   "outputs": [],
   "source": [
    "# Potential Enhancements and Best Practices\n",
    "# Using Lemmatization Instead of Stemming:\n",
    "\n",
    "# Difference:\n",
    "\n",
    "# Stemming: Cuts off word suffixes to get to the root form (e.g., \"running\" → \"run\").\n",
    "# Lemmatization: Uses vocabulary and morphological analysis to return the base or dictionary form of a word (e.g., \"better\" → \"good\").\n",
    "# Advantage: Lemmatization tends to produce more meaningful roots.\n",
    "\n",
    "################################################################################\n",
    "\n",
    "# from nltk.stem import WordNetLemmatizer\n",
    "# nltk.download('wordnet')\n",
    "\n",
    "# lemmatizer = WordNetLemmatizer()\n",
    "\n",
    "# def preprocess(line):\n",
    "#     review = re.sub('[^a-zA-Z]', ' ', line)\n",
    "#     review = review.lower()\n",
    "#     review = review.split()\n",
    "#     review = [lemmatizer.lemmatize(word) for word in review if word not in stopwords.words('english')]\n",
    "#     return ' '.join(review)\n"
   ]
  },
  {
   "cell_type": "code",
   "execution_count": 19,
   "metadata": {},
   "outputs": [],
   "source": [
    "\n",
    "# Preprocess training, validation, and test datasets\n",
    "train[\"text\"] = train[\"Text\"].apply(lambda x: preprocess(x))\n",
    "val[\"text\"] = val[\"Text\"].apply(lambda x: preprocess(x))\n",
    "test[\"text\"] = test[\"Text\"].apply(lambda x: preprocess(x))\n",
    "\n",
    "# Encode labels for training, validation, and test sets\n",
    "label_encoder = preprocessing.LabelEncoder()\n",
    "train[\"N_label\"] = label_encoder.fit_transform(train[\"Emotion\"])\n",
    "val[\"N_label\"] = label_encoder.transform(val[\"Emotion\"])  # Use the same encoder\n",
    "test[\"N_label\"] = label_encoder.transform(test[\"Emotion\"])  # Use the same encoder\n"
   ]
  },
  {
   "cell_type": "markdown",
   "metadata": {},
   "source": [
    "?????????????????????????????????????????????????????????????????????????????????????????????????????"
   ]
  },
  {
   "cell_type": "code",
   "execution_count": 20,
   "metadata": {},
   "outputs": [],
   "source": [
    "from sklearn.feature_extraction.text import CountVectorizer\n",
    "\n",
    "cv = CountVectorizer(max_features=5000, ngram_range=(1, 3))\n",
    "X_train = cv.fit_transform(train[\"text\"]).toarray()\n",
    "X_val = cv.transform(val[\"text\"]).toarray()\n",
    "X_test = cv.transform(test[\"text\"]).toarray()\n",
    "\n",
    "y_train = train[\"N_label\"]\n",
    "y_val = val[\"N_label\"]\n",
    "y_test = test[\"N_label\"]\n"
   ]
  },
  {
   "cell_type": "code",
   "execution_count": 24,
   "metadata": {},
   "outputs": [
    {
     "name": "stdout",
     "output_type": "stream",
     "text": [
      "Epoch 1/10\n",
      "1600/1600 [==============================] - 15s 9ms/step - loss: 0.6278 - accuracy: 0.7731 - val_loss: 0.3917 - val_accuracy: 0.8605\n",
      "Epoch 2/10\n",
      "1600/1600 [==============================] - 13s 8ms/step - loss: 0.1616 - accuracy: 0.9402 - val_loss: 0.4309 - val_accuracy: 0.8675\n",
      "Epoch 3/10\n",
      "1600/1600 [==============================] - 14s 8ms/step - loss: 0.0778 - accuracy: 0.9711 - val_loss: 0.4972 - val_accuracy: 0.8685\n",
      "Epoch 4/10\n",
      "1600/1600 [==============================] - 14s 9ms/step - loss: 0.0437 - accuracy: 0.9847 - val_loss: 0.6520 - val_accuracy: 0.8615\n",
      "Epoch 5/10\n",
      "1600/1600 [==============================] - 15s 9ms/step - loss: 0.0297 - accuracy: 0.9900 - val_loss: 0.7285 - val_accuracy: 0.8630\n",
      "Epoch 6/10\n",
      "1600/1600 [==============================] - 15s 9ms/step - loss: 0.0219 - accuracy: 0.9920 - val_loss: 0.8448 - val_accuracy: 0.8545\n",
      "Epoch 7/10\n",
      "1600/1600 [==============================] - 14s 9ms/step - loss: 0.0192 - accuracy: 0.9927 - val_loss: 0.8839 - val_accuracy: 0.8640\n",
      "Epoch 8/10\n",
      "1600/1600 [==============================] - 12s 8ms/step - loss: 0.0167 - accuracy: 0.9934 - val_loss: 0.9367 - val_accuracy: 0.8590\n",
      "Epoch 9/10\n",
      "1600/1600 [==============================] - 12s 8ms/step - loss: 0.0147 - accuracy: 0.9942 - val_loss: 0.9687 - val_accuracy: 0.8620\n",
      "Epoch 10/10\n",
      "1600/1600 [==============================] - 13s 8ms/step - loss: 0.0107 - accuracy: 0.9954 - val_loss: 1.0980 - val_accuracy: 0.8585\n"
     ]
    },
    {
     "data": {
      "text/plain": [
       "<keras.callbacks.History at 0x1ff9508f8e0>"
      ]
     },
     "execution_count": 24,
     "metadata": {},
     "output_type": "execute_result"
    }
   ],
   "source": [
    "model = Sequential()\n",
    "model.add(Dense(128, input_shape=(X_train.shape[1],), activation=\"relu\"))\n",
    "model.add(Dense(64, activation=\"relu\"))\n",
    "model.add(Dense(32, activation=\"relu\"))\n",
    "model.add(Dense(len(label_encoder.classes_), activation=\"softmax\"))\n",
    "\n",
    "model.compile(\n",
    "    loss=\"sparse_categorical_crossentropy\", optimizer=\"adam\", metrics=[\"accuracy\"]\n",
    ")\n",
    "\n",
    "model.fit(X_train, y_train, validation_data=(X_val, y_val), epochs=10, batch_size=10)\n"
   ]
  },
  {
   "cell_type": "code",
   "execution_count": 25,
   "metadata": {},
   "outputs": [
    {
     "name": "stdout",
     "output_type": "stream",
     "text": [
      "Test Loss: 1.1471\n",
      "Test Accuracy: 84.60%\n"
     ]
    }
   ],
   "source": [
    "# Evaluate the model on the test set\n",
    "test_loss, test_accuracy = model.evaluate(X_test, y_test, verbose=0)\n",
    "print(\"Test Loss: %.4f\" % test_loss)\n",
    "print(\"Test Accuracy: %.2f%%\" % (test_accuracy * 100))\n"
   ]
  },
  {
   "cell_type": "code",
   "execution_count": 27,
   "metadata": {},
   "outputs": [],
   "source": [
    "import numpy as np\n"
   ]
  }
 ],
 "metadata": {
  "kernelspec": {
   "display_name": "new_bert",
   "language": "python",
   "name": "python3"
  },
  "language_info": {
   "codemirror_mode": {
    "name": "ipython",
    "version": 3
   },
   "file_extension": ".py",
   "mimetype": "text/x-python",
   "name": "python",
   "nbconvert_exporter": "python",
   "pygments_lexer": "ipython3",
   "version": "3.9.20"
  }
 },
 "nbformat": 4,
 "nbformat_minor": 2
}
