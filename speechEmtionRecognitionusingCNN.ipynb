{
 "cells": [
  {
   "cell_type": "code",
   "execution_count": 2,
   "metadata": {},
   "outputs": [],
   "source": [
    "import os\n",
    "import pandas as pd\n",
    "import matplotlib.pyplot as plt\n",
    "import librosa\n",
    "import numpy as np\n",
    "import librosa.display\n",
    "import IPython.display as ipd\n"
   ]
  },
  {
   "cell_type": "code",
   "execution_count": 3,
   "metadata": {},
   "outputs": [],
   "source": [
    "Crema = \"C:\\\\Users\\\\dell\\\\Desktop\\\\graduation project\\\\AI04-Grad\\\\datasets\\\\CREMA-D\\\\AudioWAV\"\n"
   ]
  },
  {
   "cell_type": "code",
   "execution_count": 5,
   "metadata": {},
   "outputs": [
    {
     "data": {
      "text/plain": [
       "['1001_DFA_ANG_XX.wav',\n",
       " '1001_DFA_DIS_XX.wav',\n",
       " '1001_DFA_FEA_XX.wav',\n",
       " '1001_DFA_HAP_XX.wav',\n",
       " '1001_DFA_NEU_XX.wav']"
      ]
     },
     "execution_count": 5,
     "metadata": {},
     "output_type": "execute_result"
    }
   ],
   "source": [
    "dir_list= os.listdir(Crema)\n",
    "dir_list.sort()\n",
    "dir_list[:5]"
   ]
  },
  {
   "cell_type": "code",
   "execution_count": 6,
   "metadata": {},
   "outputs": [
    {
     "ename": "NameError",
     "evalue": "name 'CREMA' is not defined",
     "output_type": "error",
     "traceback": [
      "\u001b[1;31m---------------------------------------------------------------------------\u001b[0m",
      "\u001b[1;31mNameError\u001b[0m                                 Traceback (most recent call last)",
      "Cell \u001b[1;32mIn[6], line 28\u001b[0m\n\u001b[0;32m     26\u001b[0m emotionO\u001b[38;5;241m.\u001b[39mappend(get_emotion_crema(i)[\u001b[38;5;241m1\u001b[39m])\n\u001b[0;32m     27\u001b[0m gender\u001b[38;5;241m.\u001b[39mappend(get_emotion_crema(i)[\u001b[38;5;241m2\u001b[39m])\n\u001b[1;32m---> 28\u001b[0m path\u001b[38;5;241m.\u001b[39mappend(\u001b[43mCREMA\u001b[49m \u001b[38;5;241m+\u001b[39m i)\n",
      "\u001b[1;31mNameError\u001b[0m: name 'CREMA' is not defined"
     ]
    }
   ],
   "source": [
    "emotionG = []\n",
    "gender = []\n",
    "emotionO = []\n",
    "path = []\n",
    "female_ids = [1002,1003,1004,1006,1007,1008,1009,1010,1012,1013,1018,1020,1021,\n",
    "              1024,1025,1028,1029,1030,1037,1043,1046,1047,1049,1052,1053,1054,\n",
    "              1055,1056,1058,1060,1061,1063,1072,1073,1074,1075,1076,1078,1079,\n",
    "              1082,1084,1089,1091]\n",
    "\n",
    "temp_dict = {\"SAD\":\"sad\", \"ANG\": \"angry\", \"DIS\":\"disgust\", \"FEA\":\"fear\", \n",
    "             \"HAP\":\"happy\", \"NEU\":\"neutral\"}\n",
    "\n",
    "def get_emotion_crema(filename, ids=female_ids, dc=temp_dict):\n",
    "  filename = filename.split(\"_\")\n",
    "  emotionG1 = dc[filename[2]]\n",
    "  if int(filename[0]) in ids:\n",
    "    emotionG2 = \"_female\"\n",
    "  else:\n",
    "    emotionG2 = \"_male\"\n",
    "  emotionG = emotionG1 + emotionG2\n",
    "  return (emotionG, emotionG1, emotionG2[1:])\n",
    "\n",
    "\n",
    "for i in dir_list: \n",
    "  emotionG.append(get_emotion_crema(i)[0])\n",
    "  emotionO.append(get_emotion_crema(i)[1])\n",
    "  gender.append(get_emotion_crema(i)[2])\n",
    "  path.append(Crema + i)\n"
   ]
  }
 ],
 "metadata": {
  "kernelspec": {
   "display_name": "venv",
   "language": "python",
   "name": "python3"
  },
  "language_info": {
   "codemirror_mode": {
    "name": "ipython",
    "version": 3
   },
   "file_extension": ".py",
   "mimetype": "text/x-python",
   "name": "python",
   "nbconvert_exporter": "python",
   "pygments_lexer": "ipython3",
   "version": "3.12.4"
  }
 },
 "nbformat": 4,
 "nbformat_minor": 2
}
