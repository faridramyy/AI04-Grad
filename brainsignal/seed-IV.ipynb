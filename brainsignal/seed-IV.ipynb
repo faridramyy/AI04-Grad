{
 "cells": [
  {
   "cell_type": "code",
   "execution_count": 1,
   "metadata": {},
   "outputs": [],
   "source": [
    "#the enivironment i am using grad"
   ]
  },
  {
   "cell_type": "code",
   "execution_count": 9,
   "metadata": {},
   "outputs": [
    {
     "name": "stdout",
     "output_type": "stream",
     "text": [
      "Observations for session 1: []\n"
     ]
    }
   ],
   "source": [
    "import os\n",
    "import scipy.io\n",
    "\n",
    "# Define the parent directory for the dataset\n",
    "# parent_dir = r\"C:\\Users\\dell\\Desktop\\gradproject\\AI04-Grad\\datasets\\CREMA-D\\seed-IV\\eeg_raw_data\"\n",
    "parent_dir=\"../datasets/CREMA-D/seed-IV/eeg_raw_data\"\n",
    "# Specify the session to process (e.g., session 1)\n",
    "session = 1\n",
    "\n",
    "# Construct the path to the session directory\n",
    "session_path = os.path.join(parent_dir, str(session))\n",
    "\n",
    "# Check if the session directory exists\n",
    "if os.path.exists(session_path):\n",
    "    # List all observations (files) in the session directory\n",
    "    persons_list = os.listdir(session_path)\n",
    "    print(f\"Observations for session {session}: {persons_list}\")\n",
    "    \n",
    "    # Process each .mat file in the session directory\n",
    "    for person_file in persons_list:\n",
    "        if person_file.endswith('.mat'):  # Check for .mat files\n",
    "            file_path = os.path.join(session_path, person_file)\n",
    "            print(f\"Processing file: {file_path}\")\n",
    "            \n",
    "            # Load the .mat file\n",
    "            data = scipy.io.loadmat(file_path)\n",
    "            \n",
    "            # Print the keys in the .mat file to understand its structure\n",
    "            print(f\"Keys in {person_file}: {list(data.keys())}\")\n",
    "else:\n",
    "    print(f\"Session directory does not exist: {session_path}\")\n"
   ]
  },
  {
   "cell_type": "code",
   "execution_count": 10,
   "metadata": {},
   "outputs": [
    {
     "name": "stdout",
     "output_type": "stream",
     "text": [
      "Files organized into session folders.\n"
     ]
    }
   ],
   "source": [
    "import os\n",
    "import shutil\n",
    "\n",
    "# Base directory for EEG raw data\n",
    "base_dir = r\"C:\\Users\\dell\\Desktop\\gradproject\\AI04-Grad\\datasets\\CREMA-D\\seed-IV\\eeg_raw_data\"\n",
    "target_base_dir = r\"C:\\Users\\dell\\Desktop\\gradproject\\AI04-Grad\\datasets\\SEED-IV\"\n",
    "\n",
    "# Session mapping\n",
    "session_mapping = {\n",
    "    1: \"session1\",\n",
    "    2: \"session2\",\n",
    "    3: \"session3\"\n",
    "}\n",
    "\n",
    "# Move files to session folders\n",
    "for session, folder_name in session_mapping.items():\n",
    "    session_dir = os.path.join(target_base_dir, folder_name)\n",
    "    os.makedirs(session_dir, exist_ok=True)  # Create folder if not exists\n",
    "\n",
    "    session_source_dir = os.path.join(base_dir, str(session))\n",
    "    if os.path.exists(session_source_dir):\n",
    "        for file_name in os.listdir(session_source_dir):\n",
    "            if file_name.endswith(\".mat\"):\n",
    "                source_file = os.path.join(session_source_dir, file_name)\n",
    "                target_file = os.path.join(session_dir, file_name)\n",
    "                shutil.move(source_file, target_file)\n",
    "\n",
    "print(\"Files organized into session folders.\")\n"
   ]
  },
  {
   "cell_type": "code",
   "execution_count": 11,
   "metadata": {},
   "outputs": [
    {
     "name": "stdout",
     "output_type": "stream",
     "text": [
      "EEG Data Shapes: [(2, 2083262), (2, 2083262), (2, 2083262), (2, 2083262), (2, 2083262), (2, 2083262), (2, 2083262), (2, 2083262), (2, 2083262), (2, 2083262), (2, 2083262), (2, 2083262), (2, 2083262), (2, 2083262), (2, 2083262), (2, 2740462), (2, 2740462), (2, 2740462), (2, 2740462), (2, 2740462), (2, 2740462), (2, 2740462), (2, 2740462), (2, 2740462), (2, 2740462), (2, 2740462), (2, 2740462), (2, 2740462), (2, 2740462), (2, 2740462), (2, 2108062), (2, 2108062), (2, 2108062), (2, 2108062), (2, 2108062), (2, 2108062), (2, 2108062), (2, 2108062), (2, 2108062), (2, 2108062), (2, 2108062), (2, 2108062), (2, 2108062), (2, 2108062), (2, 2108062)]\n",
      "EEG Data Ranges: [(-120.7590103149414, 206.53009414672852), (-395.65563201904297, 310.68921089172363), (-818.0737495422363, 1427.1736145019531), (-364.1247749328613, 585.1686000823975), (-157.89270401000977, 182.12199211120605), (-327.70633697509766, 338.4053707122803), (-6891.906261444092, 2664.20841217041), (-575.3040313720703, 344.0678119659424), (-252.75349617004395, 316.35165214538574), (-529.6468734741211, 533.1635475158691), (-470.3402519226074, 430.5541515350342), (-1750.5288124084473, 1125.4847049713135), (-218.98746490478516, 335.1867198944092), (-168.02549362182617, 234.15684700012207), (-387.9964351654053, 338.2563591003418), (-434.9946975708008, 398.6060619354248), (-261.4855766296387, 334.4416618347168), (-1065.075397491455, 2527.952194213867), (-307.50036239624023, 366.8665885925293), (-472.06878662109375, 321.35844230651855), (-1482.6655387878418, 1607.7160835266113), (-426.560640335083, 468.31369400024414), (-561.4757537841797, 425.57716369628906), (-450.1938819885254, 355.12447357177734), (-1995.682716369629, 1432.9254627227783), (-150.23350715637207, 188.32087516784668), (-901.7586708068848, 479.966402053833), (-752.478837966919, 506.1626434326172), (-874.1915225982666, 2659.052610397339), (-831.9318294525146, 513.225793838501), (-953.5849094390869, 850.8861064910889), (-144.00482177734375, 254.75025177001953), (-1113.4743690490723, 928.6999702453613), (-8778.661489486694, 28550.446033477783), (-125.61678886413574, 194.69857215881348), (-1752.4957656860352, 1545.4590320587158), (-362.9326820373535, 735.849142074585), (-8956.78997039795, 9728.550910949707), (-355.12447357177734, 138.78941535949707), (-183.0756664276123, 336.4086151123047), (-124.45449829101562, 162.63127326965332), (-339.83588218688965, 374.9728202819824), (-277.40001678466797, 254.66084480285645), (-949.6808052062988, 1770.3473567962646), (-758.5585117340088, 1126.4979839324951)]\n"
     ]
    }
   ],
   "source": [
    "import os\n",
    "import scipy.io\n",
    "import numpy as np\n",
    "\n",
    "# Base directory for organized sessions\n",
    "base_dir = r\"C:\\Users\\dell\\Desktop\\gradproject\\AI04-Grad\\datasets\\SEED-IV\"\n",
    "sessions = [\"session1\", \"session2\", \"session3\"]\n",
    "\n",
    "# Initialize lists for data\n",
    "eeg_shapes = []\n",
    "eeg_ranges = []\n",
    "\n",
    "# Process each session\n",
    "for session in sessions:\n",
    "    session_dir = os.path.join(base_dir, session)\n",
    "    if not os.path.exists(session_dir):\n",
    "        print(f\"Session directory not found: {session_dir}\")\n",
    "        continue\n",
    "\n",
    "    for mat_file in os.listdir(session_dir):\n",
    "        if mat_file.endswith(\".mat\"):\n",
    "            file_path = os.path.join(session_dir, mat_file)\n",
    "            data = scipy.io.loadmat(file_path)\n",
    "\n",
    "            # Extract EEG data from keys\n",
    "            eeg_data = []\n",
    "            for key in data.keys():\n",
    "                if key.endswith(\"_eeg1\") or key.endswith(\"_eeg24\"):  # Adjust this logic based on keys\n",
    "                    eeg_data.append(data[key].flatten())\n",
    "\n",
    "            # Align and preprocess data\n",
    "            if len(eeg_data) > 0:\n",
    "                max_length = max(len(ch) for ch in eeg_data)\n",
    "                eeg_data_aligned = [\n",
    "                    np.pad(ch, (0, max_length - len(ch)), 'constant') if len(ch) < max_length else ch[:max_length]\n",
    "                    for ch in eeg_data\n",
    "                ]\n",
    "\n",
    "                eeg_data_aligned = np.stack(eeg_data_aligned, axis=0)\n",
    "                eeg_shapes.append(eeg_data_aligned.shape)\n",
    "                eeg_ranges.append((np.min(eeg_data_aligned), np.max(eeg_data_aligned)))\n",
    "\n",
    "# Output shapes and ranges for debugging\n",
    "print(\"EEG Data Shapes:\", eeg_shapes)\n",
    "print(\"EEG Data Ranges:\", eeg_ranges)\n"
   ]
  },
  {
   "cell_type": "code",
   "execution_count": 20,
   "metadata": {},
   "outputs": [
    {
     "name": "stdout",
     "output_type": "stream",
     "text": [
      "Collecting matplotlib\n",
      "  Downloading matplotlib-3.9.3-cp39-cp39-win_amd64.whl.metadata (11 kB)\n",
      "Collecting contourpy>=1.0.1 (from matplotlib)\n",
      "  Using cached contourpy-1.3.0-cp39-cp39-win_amd64.whl.metadata (5.4 kB)\n",
      "Collecting cycler>=0.10 (from matplotlib)\n",
      "  Using cached cycler-0.12.1-py3-none-any.whl.metadata (3.8 kB)\n",
      "Collecting fonttools>=4.22.0 (from matplotlib)\n",
      "  Using cached fonttools-4.55.0-cp39-cp39-win_amd64.whl.metadata (167 kB)\n",
      "Collecting kiwisolver>=1.3.1 (from matplotlib)\n",
      "  Using cached kiwisolver-1.4.7-cp39-cp39-win_amd64.whl.metadata (6.4 kB)\n",
      "Requirement already satisfied: numpy>=1.23 in c:\\users\\dell\\anaconda3\\envs\\new_env\\lib\\site-packages (from matplotlib) (2.0.2)\n",
      "Requirement already satisfied: packaging>=20.0 in c:\\users\\dell\\appdata\\roaming\\python\\python39\\site-packages (from matplotlib) (24.1)\n",
      "Requirement already satisfied: pillow>=8 in c:\\users\\dell\\appdata\\roaming\\python\\python39\\site-packages (from matplotlib) (8.4.0)\n",
      "Collecting pyparsing>=2.3.1 (from matplotlib)\n",
      "  Using cached pyparsing-3.2.0-py3-none-any.whl.metadata (5.0 kB)\n",
      "Requirement already satisfied: python-dateutil>=2.7 in c:\\users\\dell\\appdata\\roaming\\python\\python39\\site-packages (from matplotlib) (2.9.0.post0)\n",
      "Collecting importlib-resources>=3.2.0 (from matplotlib)\n",
      "  Using cached importlib_resources-6.4.5-py3-none-any.whl.metadata (4.0 kB)\n",
      "Requirement already satisfied: zipp>=3.1.0 in c:\\users\\dell\\appdata\\roaming\\python\\python39\\site-packages (from importlib-resources>=3.2.0->matplotlib) (3.20.2)\n",
      "Requirement already satisfied: six>=1.5 in c:\\users\\dell\\appdata\\roaming\\python\\python39\\site-packages (from python-dateutil>=2.7->matplotlib) (1.16.0)\n",
      "Downloading matplotlib-3.9.3-cp39-cp39-win_amd64.whl (7.8 MB)\n",
      "   ---------------------------------------- 0.0/7.8 MB ? eta -:--:--\n",
      "   -- ------------------------------------- 0.5/7.8 MB 4.2 MB/s eta 0:00:02\n",
      "   ------ --------------------------------- 1.3/7.8 MB 3.9 MB/s eta 0:00:02\n",
      "   ---------- ----------------------------- 2.1/7.8 MB 3.9 MB/s eta 0:00:02\n",
      "   -------------- ------------------------- 2.9/7.8 MB 3.9 MB/s eta 0:00:02\n",
      "   ------------------ --------------------- 3.7/7.8 MB 3.9 MB/s eta 0:00:02\n",
      "   -------------------- ------------------- 3.9/7.8 MB 3.9 MB/s eta 0:00:01\n",
      "   --------------------- ------------------ 4.2/7.8 MB 3.4 MB/s eta 0:00:02\n",
      "   ----------------------------- ---------- 5.8/7.8 MB 3.7 MB/s eta 0:00:01\n",
      "   --------------------------------- ------ 6.6/7.8 MB 3.7 MB/s eta 0:00:01\n",
      "   -------------------------------------- - 7.6/7.8 MB 3.8 MB/s eta 0:00:01\n",
      "   ---------------------------------------- 7.8/7.8 MB 3.7 MB/s eta 0:00:00\n",
      "Using cached contourpy-1.3.0-cp39-cp39-win_amd64.whl (211 kB)\n",
      "Using cached cycler-0.12.1-py3-none-any.whl (8.3 kB)\n",
      "Using cached fonttools-4.55.0-cp39-cp39-win_amd64.whl (2.2 MB)\n",
      "Using cached importlib_resources-6.4.5-py3-none-any.whl (36 kB)\n",
      "Using cached kiwisolver-1.4.7-cp39-cp39-win_amd64.whl (55 kB)\n",
      "Using cached pyparsing-3.2.0-py3-none-any.whl (106 kB)\n",
      "Installing collected packages: pyparsing, kiwisolver, importlib-resources, fonttools, cycler, contourpy, matplotlib\n",
      "Successfully installed contourpy-1.3.0 cycler-0.12.1 fonttools-4.55.0 importlib-resources-6.4.5 kiwisolver-1.4.7 matplotlib-3.9.3 pyparsing-3.2.0\n"
     ]
    },
    {
     "name": "stderr",
     "output_type": "stream",
     "text": [
      "ERROR: pip's dependency resolver does not currently take into account all the packages that are installed. This behaviour is the source of the following dependency conflicts.\n",
      "fer 22.5.1 requires keras>=2.0.0, which is not installed.\n",
      "fer 22.5.1 requires pandas, which is not installed.\n",
      "fer 22.5.1 requires requests, which is not installed.\n",
      "fer 22.5.1 requires tqdm>=4.62.1, which is not installed.\n"
     ]
    }
   ],
   "source": [
    "!pip install matplotlib"
   ]
  },
  {
   "cell_type": "code",
   "execution_count": 12,
   "metadata": {},
   "outputs": [
    {
     "data": {
      "image/png": "[encoded data removed]",
      "text/plain": [
       "<Figure size 1000x500 with 1 Axes>"
      ]
     },
     "metadata": {},
     "output_type": "display_data"
    }
   ],
   "source": [
    "import matplotlib.pyplot as plt\n",
    "\n",
    "# Example plot for EEG data from a single session\n",
    "eeg_sample = eeg_data_aligned[0]  # Take the first channel from aligned data\n",
    "plt.figure(figsize=(10, 5))\n",
    "plt.plot(eeg_sample)\n",
    "plt.title(\"EEG Signal from Channel 1\")\n",
    "plt.xlabel(\"Time\")\n",
    "plt.ylabel(\"Amplitude\")\n",
    "plt.show()\n"
   ]
  },
  {
   "cell_type": "code",
   "execution_count": 27,
   "metadata": {},
   "outputs": [
    {
     "name": "stdout",
     "output_type": "stream",
     "text": [
      "Collecting numpy==1.24.4\n",
      "  Downloading numpy-1.24.4-cp39-cp39-win_amd64.whl.metadata (5.6 kB)\n",
      "Downloading numpy-1.24.4-cp39-cp39-win_amd64.whl (14.9 MB)\n",
      "   ---------------------------------------- 0.0/14.9 MB ? eta -:--:--\n",
      "    --------------------------------------- 0.3/14.9 MB ? eta -:--:--\n",
      "   --- ------------------------------------ 1.3/14.9 MB 3.7 MB/s eta 0:00:04\n",
      "   ----- ---------------------------------- 2.1/14.9 MB 3.8 MB/s eta 0:00:04\n",
      "   ------- -------------------------------- 2.9/14.9 MB 3.9 MB/s eta 0:00:04\n",
      "   --------- ------------------------------ 3.7/14.9 MB 3.9 MB/s eta 0:00:03\n",
      "   --------- ------------------------------ 3.7/14.9 MB 3.9 MB/s eta 0:00:03\n",
      "   ------------ --------------------------- 4.7/14.9 MB 3.4 MB/s eta 0:00:03\n",
      "   -------------- ------------------------- 5.5/14.9 MB 3.4 MB/s eta 0:00:03\n",
      "   ------------------- -------------------- 7.1/14.9 MB 3.8 MB/s eta 0:00:03\n",
      "   --------------------- ------------------ 7.9/14.9 MB 3.9 MB/s eta 0:00:02\n",
      "   ----------------------- ---------------- 8.7/14.9 MB 3.9 MB/s eta 0:00:02\n",
      "   ------------------------- -------------- 9.4/14.9 MB 3.9 MB/s eta 0:00:02\n",
      "   --------------------------- ------------ 10.2/14.9 MB 3.8 MB/s eta 0:00:02\n",
      "   ----------------------------- ---------- 11.0/14.9 MB 3.8 MB/s eta 0:00:02\n",
      "   ------------------------------- -------- 11.8/14.9 MB 3.8 MB/s eta 0:00:01\n",
      "   --------------------------------- ------ 12.6/14.9 MB 3.8 MB/s eta 0:00:01\n",
      "   ----------------------------------- ---- 13.4/14.9 MB 3.8 MB/s eta 0:00:01\n",
      "   -------------------------------------- - 14.2/14.9 MB 3.8 MB/s eta 0:00:01\n",
      "   ---------------------------------------  14.7/14.9 MB 3.8 MB/s eta 0:00:01\n",
      "   ---------------------------------------- 14.9/14.9 MB 3.7 MB/s eta 0:00:00\n",
      "Installing collected packages: numpy\n",
      "  Attempting uninstall: numpy\n",
      "    Found existing installation: numpy 2.0.2\n",
      "    Uninstalling numpy-2.0.2:\n",
      "      Successfully uninstalled numpy-2.0.2\n",
      "Successfully installed numpy-1.24.4\n"
     ]
    },
    {
     "name": "stderr",
     "output_type": "stream",
     "text": [
      "  WARNING: Failed to remove contents in a temporary directory 'C:\\Users\\dell\\anaconda3\\envs\\new_env\\Lib\\site-packages\\~umpy.libs'.\n",
      "  You can safely remove it manually.\n",
      "  WARNING: Failed to remove contents in a temporary directory 'C:\\Users\\dell\\anaconda3\\envs\\new_env\\Lib\\site-packages\\~umpy'.\n",
      "  You can safely remove it manually.\n",
      "ERROR: pip's dependency resolver does not currently take into account all the packages that are installed. This behaviour is the source of the following dependency conflicts.\n",
      "albumentations 1.0.0 requires PyYAML, which is not installed.\n",
      "facenet-pytorch 2.5.2 requires requests, which is not installed.\n",
      "facenet-pytorch 2.5.2 requires torchvision, which is not installed.\n",
      "fer 22.5.1 requires keras>=2.0.0, which is not installed.\n",
      "fer 22.5.1 requires pandas, which is not installed.\n",
      "fer 22.5.1 requires requests, which is not installed.\n",
      "fer 22.5.1 requires tqdm>=4.62.1, which is not installed.\n",
      "moviepy 1.0.3 requires requests<3.0,>=2.8.1, which is not installed.\n",
      "moviepy 1.0.3 requires tqdm<5.0,>=4.11.2, which is not installed.\n",
      "scikit-image 0.19.3 requires networkx>=2.2, which is not installed.\n",
      "scikit-image 0.19.3 requires PyWavelets>=1.1.1, which is not installed.\n",
      "scikit-image 0.19.3 requires tifffile>=2019.7.26, which is not installed.\n"
     ]
    }
   ],
   "source": [
    "!pip install numpy==1.24.4\n"
   ]
  },
  {
   "cell_type": "code",
   "execution_count": 1,
   "metadata": {},
   "outputs": [
    {
     "name": "stdout",
     "output_type": "stream",
     "text": [
      "NumPy version: 1.26.4\n",
      "Scikit-learn version: 1.5.2\n"
     ]
    }
   ],
   "source": [
    "import numpy\n",
    "import sklearn\n",
    "\n",
    "print(f\"NumPy version: {numpy.__version__}\")\n",
    "print(f\"Scikit-learn version: {sklearn.__version__}\")\n"
   ]
  },
  {
   "cell_type": "code",
   "execution_count": 14,
   "metadata": {},
   "outputs": [],
   "source": [
    "from sklearn.metrics import mutual_info_score\n",
    "import numpy as np\n",
    "\n",
    "def mi_matrix(X, N):\n",
    "    \"\"\"\n",
    "    Compute the mutual information matrix for EEG signals.\n",
    "    \n",
    "    Parameters:\n",
    "    X (array-like): EEG data with shape (channels, samples).\n",
    "    N (int): Number of EEG channels.\n",
    "\n",
    "    Returns:\n",
    "    np.ndarray: Mutual information matrix of shape (N, N).\n",
    "    \"\"\"\n",
    "    mat = np.zeros((N, N), dtype=float)\n",
    "    for i in range(N):\n",
    "        for j in range(i, N):  # Mutual information matrix is symmetric\n",
    "            mat[i][j] = mutual_info_score(X[i].ravel(), X[j].ravel())\n",
    "            mat[j][i] = mat[i][j]\n",
    "    return mat\n"
   ]
  },
  {
   "cell_type": "code",
   "execution_count": 7,
   "metadata": {},
   "outputs": [],
   "source": [
    "def wasserstein_scalar_curvature(mi_matrix):\n",
    "    \"\"\"\n",
    "    Calculate the Wasserstein scalar curvature for the MI matrix.\n",
    "\n",
    "    Parameters:\n",
    "    mi_matrix (np.ndarray): Mutual information matrix.\n",
    "\n",
    "    Returns:\n",
    "    float: Wasserstein scalar curvature.\n",
    "    \"\"\"\n",
    "    lambdas = np.linalg.eigvals(mi_matrix)\n",
    "    if np.any(lambdas <= 0):\n",
    "        return 0  # Avoid issues with negative eigenvalues\n",
    "\n",
    "    n = len(lambdas)\n",
    "    curvature = sum([1 / (lambdas[i] + lambdas[j]) for i in range(n) for j in range(n)])\n",
    "    return curvature\n"
   ]
  },
  {
   "cell_type": "code",
   "execution_count": 19,
   "metadata": {},
   "outputs": [],
   "source": [
    "def extract_label_from_filename(filename):\n",
    "    \"\"\"\n",
    "    Extracts the label from the filename based on a predefined mapping.\n",
    "\n",
    "    Parameters:\n",
    "    filename (str): Name of the .mat file.\n",
    "\n",
    "    Returns:\n",
    "    int: Corresponding label ID.\n",
    "    \"\"\"\n",
    "    label_mapping = {\n",
    "        \"happy\": 0,\n",
    "        \"sad\": 1,\n",
    "        \"fear\": 2,\n",
    "        \"neutral\": 3\n",
    "    }\n",
    "    for label, label_id in label_mapping.items():\n",
    "        if label in filename.lower():\n",
    "            return label_id\n",
    "    raise ValueError(f\"Label not found in filename: {filename}\")\n"
   ]
  },
  {
   "cell_type": "code",
   "execution_count": null,
   "metadata": {},
   "outputs": [],
   "source": [
    "#####trying to see a problem "
   ]
  }
 ],
 "metadata": {
  "kernelspec": {
   "display_name": "grad",
   "language": "python",
   "name": "python3"
  },
  "language_info": {
   "codemirror_mode": {
    "name": "ipython",
    "version": 3
   },
   "file_extension": ".py",
   "mimetype": "text/x-python",
   "name": "python",
   "nbconvert_exporter": "python",
   "pygments_lexer": "ipython3",
   "version": "3.9.18"
  }
 },
 "nbformat": 4,
 "nbformat_minor": 2
}
