{
 "cells": [
  {
   "cell_type": "code",
   "execution_count": 1,
   "metadata": {},
   "outputs": [],
   "source": [
    "#the enivironment i am using grad"
   ]
  },
  {
   "cell_type": "code",
   "execution_count": 14,
   "metadata": {},
   "outputs": [
    {
     "name": "stdout",
     "output_type": "stream",
     "text": [
      "Observations for session 1: ['10_20151014.mat', '11_20150916.mat', '12_20150725.mat', '13_20151115.mat', '14_20151205.mat', '15_20150508.mat', '1_20160518.mat', '2_20150915.mat', '3_20150919.mat', '4_20151111.mat', '5_20160406.mat', '6_20150507.mat', '7_20150715.mat', '8_20151103.mat', '9_20151028.mat']\n",
      "Processing file: C:\\graduation project folder\\datasets\\seed_iv\\eeg_raw_data\\1\\10_20151014.mat\n",
      "Keys in 10_20151014.mat: ['__header__', '__version__', '__globals__', 'tyc_eeg1', 'tyc_eeg2', 'tyc_eeg3', 'tyc_eeg4', 'tyc_eeg5', 'tyc_eeg6', 'tyc_eeg7', 'tyc_eeg8', 'tyc_eeg9', 'tyc_eeg10', 'tyc_eeg11', 'tyc_eeg12', 'tyc_eeg13', 'tyc_eeg14', 'tyc_eeg15', 'tyc_eeg16', 'tyc_eeg17', 'tyc_eeg18', 'tyc_eeg19', 'tyc_eeg20', 'tyc_eeg21', 'tyc_eeg22', 'tyc_eeg23', 'tyc_eeg24']\n",
      "Processing file: C:\\graduation project folder\\datasets\\seed_iv\\eeg_raw_data\\1\\11_20150916.mat\n",
      "Keys in 11_20150916.mat: ['__header__', '__version__', '__globals__', 'whh_eeg1', 'whh_eeg2', 'whh_eeg3', 'whh_eeg4', 'whh_eeg5', 'whh_eeg6', 'whh_eeg7', 'whh_eeg8', 'whh_eeg9', 'whh_eeg10', 'whh_eeg11', 'whh_eeg12', 'whh_eeg13', 'whh_eeg14', 'whh_eeg15', 'whh_eeg16', 'whh_eeg17', 'whh_eeg18', 'whh_eeg19', 'whh_eeg20', 'whh_eeg21', 'whh_eeg22', 'whh_eeg23', 'whh_eeg24']\n",
      "Processing file: C:\\graduation project folder\\datasets\\seed_iv\\eeg_raw_data\\1\\12_20150725.mat\n",
      "Keys in 12_20150725.mat: ['__header__', '__version__', '__globals__', 'wll_eeg1', 'wll_eeg2', 'wll_eeg3', 'wll_eeg4', 'wll_eeg5', 'wll_eeg6', 'wll_eeg7', 'wll_eeg8', 'wll_eeg9', 'wll_eeg10', 'wll_eeg11', 'wll_eeg12', 'wll_eeg13', 'wll_eeg14', 'wll_eeg15', 'wll_eeg16', 'wll_eeg17', 'wll_eeg18', 'wll_eeg19', 'wll_eeg20', 'wll_eeg21', 'wll_eeg22', 'wll_eeg23', 'wll_eeg24']\n",
      "Processing file: C:\\graduation project folder\\datasets\\seed_iv\\eeg_raw_data\\1\\13_20151115.mat\n",
      "Keys in 13_20151115.mat: ['__header__', '__version__', '__globals__', 'wq_eeg1', 'wq_eeg2', 'wq_eeg3', 'wq_eeg4', 'wq_eeg5', 'wq_eeg6', 'wq_eeg7', 'wq_eeg8', 'wq_eeg9', 'wq_eeg10', 'wq_eeg11', 'wq_eeg12', 'wq_eeg13', 'wq_eeg14', 'wq_eeg15', 'wq_eeg16', 'wq_eeg17', 'wq_eeg18', 'wq_eeg19', 'wq_eeg20', 'wq_eeg21', 'wq_eeg22', 'wq_eeg23', 'wq_eeg24']\n",
      "Processing file: C:\\graduation project folder\\datasets\\seed_iv\\eeg_raw_data\\1\\14_20151205.mat\n",
      "Keys in 14_20151205.mat: ['__header__', '__version__', '__globals__', 'zjd_eeg1', 'zjd_eeg2', 'zjd_eeg3', 'zjd_eeg4', 'zjd_eeg5', 'zjd_eeg6', 'zjd_eeg7', 'zjd_eeg8', 'zjd_eeg9', 'zjd_eeg10', 'zjd_eeg11', 'zjd_eeg12', 'zjd_eeg13', 'zjd_eeg14', 'zjd_eeg15', 'zjd_eeg16', 'zjd_eeg17', 'zjd_eeg18', 'zjd_eeg19', 'zjd_eeg20', 'zjd_eeg21', 'zjd_eeg22', 'zjd_eeg23', 'zjd_eeg24']\n",
      "Processing file: C:\\graduation project folder\\datasets\\seed_iv\\eeg_raw_data\\1\\15_20150508.mat\n",
      "Keys in 15_20150508.mat: ['__header__', '__version__', '__globals__', 'zjy_eeg1', 'zjy_eeg2', 'zjy_eeg3', 'zjy_eeg4', 'zjy_eeg5', 'zjy_eeg6', 'zjy_eeg7', 'zjy_eeg8', 'zjy_eeg9', 'zjy_eeg10', 'zjy_eeg11', 'zjy_eeg12', 'zjy_eeg13', 'zjy_eeg14', 'zjy_eeg15', 'zjy_eeg16', 'zjy_eeg17', 'zjy_eeg18', 'zjy_eeg19', 'zjy_eeg20', 'zjy_eeg21', 'zjy_eeg22', 'zjy_eeg23', 'zjy_eeg24']\n",
      "Processing file: C:\\graduation project folder\\datasets\\seed_iv\\eeg_raw_data\\1\\1_20160518.mat\n",
      "Keys in 1_20160518.mat: ['__header__', '__version__', '__globals__', 'cz_eeg1', 'cz_eeg2', 'cz_eeg3', 'cz_eeg4', 'cz_eeg5', 'cz_eeg6', 'cz_eeg7', 'cz_eeg8', 'cz_eeg9', 'cz_eeg10', 'cz_eeg11', 'cz_eeg12', 'cz_eeg13', 'cz_eeg14', 'cz_eeg15', 'cz_eeg16', 'cz_eeg17', 'cz_eeg18', 'cz_eeg19', 'cz_eeg20', 'cz_eeg21', 'cz_eeg22', 'cz_eeg23', 'cz_eeg24']\n",
      "Processing file: C:\\graduation project folder\\datasets\\seed_iv\\eeg_raw_data\\1\\2_20150915.mat\n",
      "Keys in 2_20150915.mat: ['__header__', '__version__', '__globals__', 'ha_eeg1', 'ha_eeg2', 'ha_eeg3', 'ha_eeg4', 'ha_eeg5', 'ha_eeg6', 'ha_eeg7', 'ha_eeg8', 'ha_eeg9', 'ha_eeg10', 'ha_eeg11', 'ha_eeg12', 'ha_eeg13', 'ha_eeg14', 'ha_eeg15', 'ha_eeg16', 'ha_eeg17', 'ha_eeg18', 'ha_eeg19', 'ha_eeg20', 'ha_eeg21', 'ha_eeg22', 'ha_eeg23', 'ha_eeg24']\n",
      "Processing file: C:\\graduation project folder\\datasets\\seed_iv\\eeg_raw_data\\1\\3_20150919.mat\n",
      "Keys in 3_20150919.mat: ['__header__', '__version__', '__globals__', 'hql_eeg1', 'hql_eeg2', 'hql_eeg3', 'hql_eeg4', 'hql_eeg5', 'hql_eeg6', 'hql_eeg7', 'hql_eeg8', 'hql_eeg9', 'hql_eeg10', 'hql_eeg11', 'hql_eeg12', 'hql_eeg13', 'hql_eeg14', 'hql_eeg15', 'hql_eeg16', 'hql_eeg17', 'hql_eeg18', 'hql_eeg19', 'hql_eeg20', 'hql_eeg21', 'hql_eeg22', 'hql_eeg23', 'hql_eeg24']\n",
      "Processing file: C:\\graduation project folder\\datasets\\seed_iv\\eeg_raw_data\\1\\4_20151111.mat\n",
      "Keys in 4_20151111.mat: ['__header__', '__version__', '__globals__', 'ldy_eeg1', 'ldy_eeg2', 'ldy_eeg3', 'ldy_eeg4', 'ldy_eeg5', 'ldy_eeg6', 'ldy_eeg7', 'ldy_eeg8', 'ldy_eeg9', 'ldy_eeg10', 'ldy_eeg11', 'ldy_eeg12', 'ldy_eeg13', 'ldy_eeg14', 'ldy_eeg15', 'ldy_eeg16', 'ldy_eeg17', 'ldy_eeg18', 'ldy_eeg19', 'ldy_eeg20', 'ldy_eeg21', 'ldy_eeg22', 'ldy_eeg23', 'ldy_eeg24']\n",
      "Processing file: C:\\graduation project folder\\datasets\\seed_iv\\eeg_raw_data\\1\\5_20160406.mat\n",
      "Keys in 5_20160406.mat: ['__header__', '__version__', '__globals__', 'ly_eeg1', 'ly_eeg2', 'ly_eeg3', 'ly_eeg4', 'ly_eeg5', 'ly_eeg6', 'ly_eeg7', 'ly_eeg8', 'ly_eeg9', 'ly_eeg10', 'ly_eeg11', 'ly_eeg12', 'ly_eeg13', 'ly_eeg14', 'ly_eeg15', 'ly_eeg16', 'ly_eeg17', 'ly_eeg18', 'ly_eeg19', 'ly_eeg20', 'ly_eeg21', 'ly_eeg22', 'ly_eeg23', 'ly_eeg24']\n",
      "Processing file: C:\\graduation project folder\\datasets\\seed_iv\\eeg_raw_data\\1\\6_20150507.mat\n",
      "Keys in 6_20150507.mat: ['__header__', '__version__', '__globals__', 'mhw_eeg1', 'mhw_eeg2', 'mhw_eeg3', 'mhw_eeg4', 'mhw_eeg5', 'mhw_eeg6', 'mhw_eeg7', 'mhw_eeg8', 'mhw_eeg9', 'mhw_eeg10', 'mhw_eeg11', 'mhw_eeg12', 'mhw_eeg13', 'mhw_eeg14', 'mhw_eeg15', 'mhw_eeg16', 'mhw_eeg17', 'mhw_eeg18', 'mhw_eeg19', 'mhw_eeg20', 'mhw_eeg21', 'mhw_eeg22', 'mhw_eeg23', 'mhw_eeg24']\n",
      "Processing file: C:\\graduation project folder\\datasets\\seed_iv\\eeg_raw_data\\1\\7_20150715.mat\n",
      "Keys in 7_20150715.mat: ['__header__', '__version__', '__globals__', 'mz_eeg1', 'mz_eeg2', 'mz_eeg3', 'mz_eeg4', 'mz_eeg5', 'mz_eeg6', 'mz_eeg7', 'mz_eeg8', 'mz_eeg9', 'mz_eeg10', 'mz_eeg11', 'mz_eeg12', 'mz_eeg13', 'mz_eeg14', 'mz_eeg15', 'mz_eeg16', 'mz_eeg17', 'mz_eeg18', 'mz_eeg19', 'mz_eeg20', 'mz_eeg21', 'mz_eeg22', 'mz_eeg23', 'mz_eeg24']\n",
      "Processing file: C:\\graduation project folder\\datasets\\seed_iv\\eeg_raw_data\\1\\8_20151103.mat\n",
      "Keys in 8_20151103.mat: ['__header__', '__version__', '__globals__', 'qyt_eeg1', 'qyt_eeg2', 'qyt_eeg3', 'qyt_eeg4', 'qyt_eeg5', 'qyt_eeg6', 'qyt_eeg7', 'qyt_eeg8', 'qyt_eeg9', 'qyt_eeg10', 'qyt_eeg11', 'qyt_eeg12', 'qyt_eeg13', 'qyt_eeg14', 'qyt_eeg15', 'qyt_eeg16', 'qyt_eeg17', 'qyt_eeg18', 'qyt_eeg19', 'qyt_eeg20', 'qyt_eeg21', 'qyt_eeg22', 'qyt_eeg23', 'qyt_eeg24']\n",
      "Processing file: C:\\graduation project folder\\datasets\\seed_iv\\eeg_raw_data\\1\\9_20151028.mat\n",
      "Keys in 9_20151028.mat: ['__header__', '__version__', '__globals__', 'rx_eeg1', 'rx_eeg2', 'rx_eeg3', 'rx_eeg4', 'rx_eeg5', 'rx_eeg6', 'rx_eeg7', 'rx_eeg8', 'rx_eeg9', 'rx_eeg10', 'rx_eeg11', 'rx_eeg12', 'rx_eeg13', 'rx_eeg14', 'rx_eeg15', 'rx_eeg16', 'rx_eeg17', 'rx_eeg18', 'rx_eeg19', 'rx_eeg20', 'rx_eeg21', 'rx_eeg22', 'rx_eeg23', 'rx_eeg24']\n"
     ]
    }
   ],
   "source": [
    "import os\n",
    "import scipy.io\n",
    "\n",
    "# Define the parent directory for the dataset\n",
    "# parent_dir = r\"C:\\Users\\dell\\Desktop\\gradproject\\AI04-Grad\\datasets\\CREMA-D\\seed-IV\\eeg_raw_data\"\n",
    "parent_dir=\"C:\\graduation project folder\\datasets\\seed_iv\\eeg_raw_data\"\n",
    "# Specify the session to process (e.g., session 1)\n",
    "session = 1\n",
    "\n",
    "# Construct the path to the session directory\n",
    "session_path = os.path.join(parent_dir, str(session))\n",
    "\n",
    "# Check if the session directory exists\n",
    "if os.path.exists(session_path):\n",
    "    # List all observations (files) in the session directory\n",
    "    persons_list = os.listdir(session_path)\n",
    "    print(f\"Observations for session {session}: {persons_list}\")\n",
    "    \n",
    "    # Process each .mat file in the session directory\n",
    "    for person_file in persons_list:\n",
    "        if person_file.endswith('.mat'):  # Check for .mat files\n",
    "            file_path = os.path.join(session_path, person_file)\n",
    "            print(f\"Processing file: {file_path}\")\n",
    "            \n",
    "            # Load the .mat file\n",
    "            data = scipy.io.loadmat(file_path)\n",
    "            \n",
    "            # Print the keys in the .mat file to understand its structure\n",
    "            print(f\"Keys in {person_file}: {list(data.keys())}\")\n",
    "else:\n",
    "    print(f\"Session directory does not exist: {session_path}\")\n"
   ]
  },
  {
   "cell_type": "code",
   "execution_count": 15,
   "metadata": {},
   "outputs": [
    {
     "name": "stdout",
     "output_type": "stream",
     "text": [
      "Observations for session 2: ['10_20151021.mat', '11_20150921.mat', '12_20150804.mat', '13_20151125.mat', '14_20151208.mat', '15_20150514.mat', '1_20161125.mat', '2_20150920.mat', '3_20151018.mat', '4_20151118.mat', '5_20160413.mat', '6_20150511.mat', '7_20150717.mat', '8_20151110.mat', '9_20151119.mat']\n",
      "Processing file: C:\\graduation project folder\\datasets\\seed_iv\\eeg_raw_data\\2\\10_20151021.mat\n",
      "Keys in 10_20151021.mat: ['__header__', '__version__', '__globals__', 'tyc_eeg1', 'tyc_eeg2', 'tyc_eeg3', 'tyc_eeg4', 'tyc_eeg5', 'tyc_eeg6', 'tyc_eeg7', 'tyc_eeg8', 'tyc_eeg9', 'tyc_eeg10', 'tyc_eeg11', 'tyc_eeg12', 'tyc_eeg13', 'tyc_eeg14', 'tyc_eeg15', 'tyc_eeg16', 'tyc_eeg17', 'tyc_eeg18', 'tyc_eeg19', 'tyc_eeg20', 'tyc_eeg21', 'tyc_eeg22', 'tyc_eeg23', 'tyc_eeg24']\n",
      "Processing file: C:\\graduation project folder\\datasets\\seed_iv\\eeg_raw_data\\2\\11_20150921.mat\n",
      "Keys in 11_20150921.mat: ['__header__', '__version__', '__globals__', 'whh_eeg1', 'whh_eeg2', 'whh_eeg3', 'whh_eeg4', 'whh_eeg5', 'whh_eeg6', 'whh_eeg7', 'whh_eeg8', 'whh_eeg9', 'whh_eeg10', 'whh_eeg11', 'whh_eeg12', 'whh_eeg13', 'whh_eeg14', 'whh_eeg15', 'whh_eeg16', 'whh_eeg17', 'whh_eeg18', 'whh_eeg19', 'whh_eeg20', 'whh_eeg21', 'whh_eeg22', 'whh_eeg23', 'whh_eeg24']\n",
      "Processing file: C:\\graduation project folder\\datasets\\seed_iv\\eeg_raw_data\\2\\12_20150804.mat\n",
      "Keys in 12_20150804.mat: ['__header__', '__version__', '__globals__', 'wll_eeg1', 'wll_eeg2', 'wll_eeg3', 'wll_eeg4', 'wll_eeg5', 'wll_eeg6', 'wll_eeg7', 'wll_eeg8', 'wll_eeg9', 'wll_eeg10', 'wll_eeg11', 'wll_eeg12', 'wll_eeg13', 'wll_eeg14', 'wll_eeg15', 'wll_eeg16', 'wll_eeg17', 'wll_eeg18', 'wll_eeg19', 'wll_eeg20', 'wll_eeg21', 'wll_eeg22', 'wll_eeg23', 'wll_eeg24']\n",
      "Processing file: C:\\graduation project folder\\datasets\\seed_iv\\eeg_raw_data\\2\\13_20151125.mat\n",
      "Error processing file C:\\graduation project folder\\datasets\\seed_iv\\eeg_raw_data\\2\\13_20151125.mat: Error -3 while decompressing data: invalid code lengths set\n",
      "Processing file: C:\\graduation project folder\\datasets\\seed_iv\\eeg_raw_data\\2\\14_20151208.mat\n",
      "Keys in 14_20151208.mat: ['__header__', '__version__', '__globals__', 'zjd_eeg1', 'zjd_eeg2', 'zjd_eeg3', 'zjd_eeg4', 'zjd_eeg5', 'zjd_eeg6', 'zjd_eeg7', 'zjd_eeg8', 'zjd_eeg9', 'zjd_eeg10', 'zjd_eeg11', 'zjd_eeg12', 'zjd_eeg13', 'zjd_eeg14', 'zjd_eeg15', 'zjd_eeg16', 'zjd_eeg17', 'zjd_eeg18', 'zjd_eeg19', 'zjd_eeg20', 'zjd_eeg21', 'zjd_eeg22', 'zjd_eeg23', 'zjd_eeg24']\n",
      "Processing file: C:\\graduation project folder\\datasets\\seed_iv\\eeg_raw_data\\2\\15_20150514.mat\n",
      "Keys in 15_20150514.mat: ['__header__', '__version__', '__globals__', 'zjy_eeg1', 'zjy_eeg2', 'zjy_eeg3', 'zjy_eeg4', 'zjy_eeg5', 'zjy_eeg6', 'zjy_eeg7', 'zjy_eeg8', 'zjy_eeg9', 'zjy_eeg10', 'zjy_eeg11', 'zjy_eeg12', 'zjy_eeg13', 'zjy_eeg14', 'zjy_eeg15', 'zjy_eeg16', 'zjy_eeg17', 'zjy_eeg18', 'zjy_eeg19', 'zjy_eeg20', 'zjy_eeg21', 'zjy_eeg22', 'zjy_eeg23', 'zjy_eeg24']\n",
      "Processing file: C:\\graduation project folder\\datasets\\seed_iv\\eeg_raw_data\\2\\1_20161125.mat\n",
      "Keys in 1_20161125.mat: ['__header__', '__version__', '__globals__', 'cz_eeg1', 'cz_eeg2', 'cz_eeg3', 'cz_eeg4', 'cz_eeg5', 'cz_eeg6', 'cz_eeg7', 'cz_eeg8', 'cz_eeg9', 'cz_eeg10', 'cz_eeg11', 'cz_eeg12', 'cz_eeg13', 'cz_eeg14', 'cz_eeg15', 'cz_eeg16', 'cz_eeg17', 'cz_eeg18', 'cz_eeg19', 'cz_eeg20', 'cz_eeg21', 'cz_eeg22', 'cz_eeg23', 'cz_eeg24']\n",
      "Processing file: C:\\graduation project folder\\datasets\\seed_iv\\eeg_raw_data\\2\\2_20150920.mat\n",
      "Keys in 2_20150920.mat: ['__header__', '__version__', '__globals__', 'ha_eeg1', 'ha_eeg2', 'ha_eeg3', 'ha_eeg4', 'ha_eeg5', 'ha_eeg6', 'ha_eeg7', 'ha_eeg8', 'ha_eeg9', 'ha_eeg10', 'ha_eeg11', 'ha_eeg12', 'ha_eeg13', 'ha_eeg14', 'ha_eeg15', 'ha_eeg16', 'ha_eeg17', 'ha_eeg18', 'ha_eeg19', 'ha_eeg20', 'ha_eeg21', 'ha_eeg22', 'ha_eeg23', 'ha_eeg24']\n",
      "Processing file: C:\\graduation project folder\\datasets\\seed_iv\\eeg_raw_data\\2\\3_20151018.mat\n",
      "Keys in 3_20151018.mat: ['__header__', '__version__', '__globals__', 'hql_eeg1', 'hql_eeg2', 'hql_eeg3', 'hql_eeg4', 'hql_eeg5', 'hql_eeg6', 'hql_eeg7', 'hql_eeg8', 'hql_eeg9', 'hql_eeg10', 'hql_eeg11', 'hql_eeg12', 'hql_eeg13', 'hql_eeg14', 'hql_eeg15', 'hql_eeg16', 'hql_eeg17', 'hql_eeg18', 'hql_eeg19', 'hql_eeg20', 'hql_eeg21', 'hql_eeg22', 'hql_eeg23', 'hql_eeg24']\n",
      "Processing file: C:\\graduation project folder\\datasets\\seed_iv\\eeg_raw_data\\2\\4_20151118.mat\n",
      "Keys in 4_20151118.mat: ['__header__', '__version__', '__globals__', 'ldy_eeg1', 'ldy_eeg2', 'ldy_eeg3', 'ldy_eeg4', 'ldy_eeg5', 'ldy_eeg6', 'ldy_eeg7', 'ldy_eeg8', 'ldy_eeg9', 'ldy_eeg10', 'ldy_eeg11', 'ldy_eeg12', 'ldy_eeg13', 'ldy_eeg14', 'ldy_eeg15', 'ldy_eeg16', 'ldy_eeg17', 'ldy_eeg18', 'ldy_eeg19', 'ldy_eeg20', 'ldy_eeg21', 'ldy_eeg22', 'ldy_eeg23', 'ldy_eeg24']\n",
      "Processing file: C:\\graduation project folder\\datasets\\seed_iv\\eeg_raw_data\\2\\5_20160413.mat\n",
      "Keys in 5_20160413.mat: ['__header__', '__version__', '__globals__', 'ly_eeg1', 'ly_eeg2', 'ly_eeg3', 'ly_eeg4', 'ly_eeg5', 'ly_eeg6', 'ly_eeg7', 'ly_eeg8', 'ly_eeg9', 'ly_eeg10', 'ly_eeg11', 'ly_eeg12', 'ly_eeg13', 'ly_eeg14', 'ly_eeg15', 'ly_eeg16', 'ly_eeg17', 'ly_eeg18', 'ly_eeg19', 'ly_eeg20', 'ly_eeg21', 'ly_eeg22', 'ly_eeg23', 'ly_eeg24']\n",
      "Processing file: C:\\graduation project folder\\datasets\\seed_iv\\eeg_raw_data\\2\\6_20150511.mat\n",
      "Keys in 6_20150511.mat: ['__header__', '__version__', '__globals__', 'mhw_eeg1', 'mhw_eeg2', 'mhw_eeg3', 'mhw_eeg4', 'mhw_eeg5', 'mhw_eeg6', 'mhw_eeg7', 'mhw_eeg8', 'mhw_eeg9', 'mhw_eeg10', 'mhw_eeg11', 'mhw_eeg12', 'mhw_eeg13', 'mhw_eeg14', 'mhw_eeg15', 'mhw_eeg16', 'mhw_eeg17', 'mhw_eeg18', 'mhw_eeg19', 'mhw_eeg20', 'mhw_eeg21', 'mhw_eeg22', 'mhw_eeg23', 'mhw_eeg24']\n",
      "Processing file: C:\\graduation project folder\\datasets\\seed_iv\\eeg_raw_data\\2\\7_20150717.mat\n",
      "Keys in 7_20150717.mat: ['__header__', '__version__', '__globals__', 'mz_eeg1', 'mz_eeg2', 'mz_eeg3', 'mz_eeg4', 'mz_eeg5', 'mz_eeg6', 'mz_eeg7', 'mz_eeg8', 'mz_eeg9', 'mz_eeg10', 'mz_eeg11', 'mz_eeg12', 'mz_eeg13', 'mz_eeg14', 'mz_eeg15', 'mz_eeg16', 'mz_eeg17', 'mz_eeg18', 'mz_eeg19', 'mz_eeg20', 'mz_eeg21', 'mz_eeg22', 'mz_eeg23', 'mz_eeg24']\n",
      "Processing file: C:\\graduation project folder\\datasets\\seed_iv\\eeg_raw_data\\2\\8_20151110.mat\n",
      "Keys in 8_20151110.mat: ['__header__', '__version__', '__globals__', 'qyt_eeg1', 'qyt_eeg2', 'qyt_eeg3', 'qyt_eeg4', 'qyt_eeg5', 'qyt_eeg6', 'qyt_eeg7', 'qyt_eeg8', 'qyt_eeg9', 'qyt_eeg10', 'qyt_eeg11', 'qyt_eeg12', 'qyt_eeg13', 'qyt_eeg14', 'qyt_eeg15', 'qyt_eeg16', 'qyt_eeg17', 'qyt_eeg18', 'qyt_eeg19', 'qyt_eeg20', 'qyt_eeg21', 'qyt_eeg22', 'qyt_eeg23', 'qyt_eeg24']\n",
      "Processing file: C:\\graduation project folder\\datasets\\seed_iv\\eeg_raw_data\\2\\9_20151119.mat\n",
      "Keys in 9_20151119.mat: ['__header__', '__version__', '__globals__', 'rx_eeg1', 'rx_eeg2', 'rx_eeg3', 'rx_eeg4', 'rx_eeg5', 'rx_eeg6', 'rx_eeg7', 'rx_eeg8', 'rx_eeg9', 'rx_eeg10', 'rx_eeg11', 'rx_eeg12', 'rx_eeg13', 'rx_eeg14', 'rx_eeg15', 'rx_eeg16', 'rx_eeg17', 'rx_eeg18', 'rx_eeg19', 'rx_eeg20', 'rx_eeg21', 'rx_eeg22', 'rx_eeg23', 'rx_eeg24']\n"
     ]
    }
   ],
   "source": [
    "import os\n",
    "import scipy.io\n",
    "\n",
    "\n",
    "parent_dir=\"C:\\graduation project folder\\datasets\\seed_iv\\eeg_raw_data\"\n",
    "# Specify the session to process (e.g., session 1)\n",
    "session = 2\n",
    "\n",
    "# Construct the path to the session directory\n",
    "session_path = os.path.join(parent_dir, str(session))\n",
    "\n",
    "# Check if the session directory exists\n",
    "if os.path.exists(session_path):\n",
    "    # List all observations (files) in the session directory\n",
    "    persons_list = os.listdir(session_path)\n",
    "    print(f\"Observations for session {session}: {persons_list}\")\n",
    "    \n",
    "    # Process each .mat file in the session directory\n",
    "    for person_file in persons_list:\n",
    "        if person_file.endswith('.mat'):  # Check for .mat files\n",
    "            file_path = os.path.join(session_path, person_file)\n",
    "            print(f\"Processing file: {file_path}\")\n",
    "            \n",
    "            try:\n",
    "            # Attempt to load the .mat file\n",
    "                 data = scipy.io.loadmat(file_path)\n",
    "                 print(f\"Keys in {person_file}: {list(data.keys())}\")\n",
    "            except Exception as e:\n",
    "                 print(f\"Error processing file {file_path}: {e}\")\n",
    "else:\n",
    "    print(f\"Session directory does not exist: {session_path}\")"
   ]
  },
  {
   "cell_type": "code",
   "execution_count": 16,
   "metadata": {},
   "outputs": [
    {
     "name": "stdout",
     "output_type": "stream",
     "text": [
      "Observations for session 3: ['10_20151023.mat', '11_20151011.mat', '12_20150807.mat', '13_20161130.mat', '14_20151215.mat', '15_20150527.mat', '1_20161126.mat', '2_20151012.mat', '3_20151101.mat', '4_20151123.mat', '5_20160420.mat', '6_20150512.mat', '7_20150721.mat', '8_20151117.mat', '9_20151209.mat']\n",
      "Processing file: C:\\graduation project folder\\datasets\\seed_iv\\eeg_raw_data\\3\\10_20151023.mat\n",
      "Keys in 10_20151023.mat: ['__header__', '__version__', '__globals__', 'tyc_eeg1', 'tyc_eeg2', 'tyc_eeg3', 'tyc_eeg4', 'tyc_eeg5', 'tyc_eeg6', 'tyc_eeg7', 'tyc_eeg8', 'tyc_eeg9', 'tyc_eeg10', 'tyc_eeg11', 'tyc_eeg12', 'tyc_eeg13', 'tyc_eeg14', 'tyc_eeg15', 'tyc_eeg16', 'tyc_eeg17', 'tyc_eeg18', 'tyc_eeg19', 'tyc_eeg20', 'tyc_eeg21', 'tyc_eeg22', 'tyc_eeg23', 'tyc_eeg24']\n",
      "Processing file: C:\\graduation project folder\\datasets\\seed_iv\\eeg_raw_data\\3\\11_20151011.mat\n",
      "Keys in 11_20151011.mat: ['__header__', '__version__', '__globals__', 'whh_eeg1', 'whh_eeg2', 'whh_eeg3', 'whh_eeg4', 'whh_eeg5', 'whh_eeg6', 'whh_eeg7', 'whh_eeg8', 'whh_eeg9', 'whh_eeg10', 'whh_eeg11', 'whh_eeg12', 'whh_eeg13', 'whh_eeg14', 'whh_eeg15', 'whh_eeg16', 'whh_eeg17', 'whh_eeg18', 'whh_eeg19', 'whh_eeg20', 'whh_eeg21', 'whh_eeg22', 'whh_eeg23', 'whh_eeg24']\n",
      "Processing file: C:\\graduation project folder\\datasets\\seed_iv\\eeg_raw_data\\3\\12_20150807.mat\n",
      "Keys in 12_20150807.mat: ['__header__', '__version__', '__globals__', 'wll_eeg1', 'wll_eeg2', 'wll_eeg3', 'wll_eeg4', 'wll_eeg5', 'wll_eeg6', 'wll_eeg7', 'wll_eeg8', 'wll_eeg9', 'wll_eeg10', 'wll_eeg11', 'wll_eeg12', 'wll_eeg13', 'wll_eeg14', 'wll_eeg15', 'wll_eeg16', 'wll_eeg17', 'wll_eeg18', 'wll_eeg19', 'wll_eeg20', 'wll_eeg21', 'wll_eeg22', 'wll_eeg23', 'wll_eeg24']\n",
      "Processing file: C:\\graduation project folder\\datasets\\seed_iv\\eeg_raw_data\\3\\13_20161130.mat\n",
      "Keys in 13_20161130.mat: ['__header__', '__version__', '__globals__', 'wq_eeg1', 'wq_eeg2', 'wq_eeg3', 'wq_eeg4', 'wq_eeg5', 'wq_eeg6', 'wq_eeg7', 'wq_eeg8', 'wq_eeg9', 'wq_eeg10', 'wq_eeg11', 'wq_eeg12', 'wq_eeg13', 'wq_eeg14', 'wq_eeg15', 'wq_eeg16', 'wq_eeg17', 'wq_eeg18', 'wq_eeg19', 'wq_eeg20', 'wq_eeg21', 'wq_eeg22', 'wq_eeg23', 'wq_eeg24']\n",
      "Processing file: C:\\graduation project folder\\datasets\\seed_iv\\eeg_raw_data\\3\\14_20151215.mat\n",
      "Keys in 14_20151215.mat: ['__header__', '__version__', '__globals__', 'zjd_eeg1', 'zjd_eeg2', 'zjd_eeg3', 'zjd_eeg4', 'zjd_eeg5', 'zjd_eeg6', 'zjd_eeg7', 'zjd_eeg8', 'zjd_eeg9', 'zjd_eeg10', 'zjd_eeg11', 'zjd_eeg12', 'zjd_eeg13', 'zjd_eeg14', 'zjd_eeg15', 'zjd_eeg16', 'zjd_eeg17', 'zjd_eeg18', 'zjd_eeg19', 'zjd_eeg20', 'zjd_eeg21', 'zjd_eeg22', 'zjd_eeg23', 'zjd_eeg24']\n",
      "Processing file: C:\\graduation project folder\\datasets\\seed_iv\\eeg_raw_data\\3\\15_20150527.mat\n",
      "Keys in 15_20150527.mat: ['__header__', '__version__', '__globals__', 'zjy_eeg1', 'zjy_eeg2', 'zjy_eeg3', 'zjy_eeg4', 'zjy_eeg5', 'zjy_eeg6', 'zjy_eeg7', 'zjy_eeg8', 'zjy_eeg9', 'zjy_eeg10', 'zjy_eeg11', 'zjy_eeg12', 'zjy_eeg13', 'zjy_eeg14', 'zjy_eeg15', 'zjy_eeg16', 'zjy_eeg17', 'zjy_eeg18', 'zjy_eeg19', 'zjy_eeg20', 'zjy_eeg21', 'zjy_eeg22', 'zjy_eeg23', 'zjy_eeg24']\n",
      "Processing file: C:\\graduation project folder\\datasets\\seed_iv\\eeg_raw_data\\3\\1_20161126.mat\n",
      "Keys in 1_20161126.mat: ['__header__', '__version__', '__globals__', 'cz_eeg1', 'cz_eeg2', 'cz_eeg3', 'cz_eeg4', 'cz_eeg5', 'cz_eeg6', 'cz_eeg7', 'cz_eeg8', 'cz_eeg9', 'cz_eeg10', 'cz_eeg11', 'cz_eeg12', 'cz_eeg13', 'cz_eeg14', 'cz_eeg15', 'cz_eeg16', 'cz_eeg17', 'cz_eeg18', 'cz_eeg19', 'cz_eeg20', 'cz_eeg21', 'cz_eeg22', 'cz_eeg23', 'cz_eeg24']\n",
      "Processing file: C:\\graduation project folder\\datasets\\seed_iv\\eeg_raw_data\\3\\2_20151012.mat\n",
      "Keys in 2_20151012.mat: ['__header__', '__version__', '__globals__', 'ha_eeg1', 'ha_eeg2', 'ha_eeg3', 'ha_eeg4', 'ha_eeg5', 'ha_eeg6', 'ha_eeg7', 'ha_eeg8', 'ha_eeg9', 'ha_eeg10', 'ha_eeg11', 'ha_eeg12', 'ha_eeg13', 'ha_eeg14', 'ha_eeg15', 'ha_eeg16', 'ha_eeg17', 'ha_eeg18', 'ha_eeg19', 'ha_eeg20', 'ha_eeg21', 'ha_eeg22', 'ha_eeg23', 'ha_eeg24']\n",
      "Processing file: C:\\graduation project folder\\datasets\\seed_iv\\eeg_raw_data\\3\\3_20151101.mat\n",
      "Keys in 3_20151101.mat: ['__header__', '__version__', '__globals__', 'hql_eeg1', 'hql_eeg2', 'hql_eeg3', 'hql_eeg4', 'hql_eeg5', 'hql_eeg6', 'hql_eeg7', 'hql_eeg8', 'hql_eeg9', 'hql_eeg10', 'hql_eeg11', 'hql_eeg12', 'hql_eeg13', 'hql_eeg14', 'hql_eeg15', 'hql_eeg16', 'hql_eeg17', 'hql_eeg18', 'hql_eeg19', 'hql_eeg20', 'hql_eeg21', 'hql_eeg22', 'hql_eeg23', 'hql_eeg24']\n",
      "Processing file: C:\\graduation project folder\\datasets\\seed_iv\\eeg_raw_data\\3\\4_20151123.mat\n",
      "Keys in 4_20151123.mat: ['__header__', '__version__', '__globals__', 'ldy_eeg1', 'ldy_eeg2', 'ldy_eeg3', 'ldy_eeg4', 'ldy_eeg5', 'ldy_eeg6', 'ldy_eeg7', 'ldy_eeg8', 'ldy_eeg9', 'ldy_eeg10', 'ldy_eeg11', 'ldy_eeg12', 'ldy_eeg13', 'ldy_eeg14', 'ldy_eeg15', 'ldy_eeg16', 'ldy_eeg17', 'ldy_eeg18', 'ldy_eeg19', 'ldy_eeg20', 'ldy_eeg21', 'ldy_eeg22', 'ldy_eeg23', 'ldy_eeg24']\n",
      "Processing file: C:\\graduation project folder\\datasets\\seed_iv\\eeg_raw_data\\3\\5_20160420.mat\n",
      "Keys in 5_20160420.mat: ['__header__', '__version__', '__globals__', 'ly_eeg1', 'ly_eeg2', 'ly_eeg3', 'ly_eeg4', 'ly_eeg5', 'ly_eeg6', 'ly_eeg7', 'ly_eeg8', 'ly_eeg9', 'ly_eeg10', 'ly_eeg11', 'ly_eeg12', 'ly_eeg13', 'ly_eeg14', 'ly_eeg15', 'ly_eeg16', 'ly_eeg17', 'ly_eeg18', 'ly_eeg19', 'ly_eeg20', 'ly_eeg21', 'ly_eeg22', 'ly_eeg23', 'ly_eeg24']\n",
      "Processing file: C:\\graduation project folder\\datasets\\seed_iv\\eeg_raw_data\\3\\6_20150512.mat\n",
      "Keys in 6_20150512.mat: ['__header__', '__version__', '__globals__', 'mhw_eeg1', 'mhw_eeg2', 'mhw_eeg3', 'mhw_eeg4', 'mhw_eeg5', 'mhw_eeg6', 'mhw_eeg7', 'mhw_eeg8', 'mhw_eeg9', 'mhw_eeg10', 'mhw_eeg11', 'mhw_eeg12', 'mhw_eeg13', 'mhw_eeg14', 'mhw_eeg15', 'mhw_eeg16', 'mhw_eeg17', 'mhw_eeg18', 'mhw_eeg19', 'mhw_eeg20', 'mhw_eeg21', 'mhw_eeg22', 'mhw_eeg23', 'mhw_eeg24']\n",
      "Processing file: C:\\graduation project folder\\datasets\\seed_iv\\eeg_raw_data\\3\\7_20150721.mat\n",
      "Keys in 7_20150721.mat: ['__header__', '__version__', '__globals__', 'mz_eeg1', 'mz_eeg2', 'mz_eeg3', 'mz_eeg4', 'mz_eeg5', 'mz_eeg6', 'mz_eeg7', 'mz_eeg8', 'mz_eeg9', 'mz_eeg10', 'mz_eeg11', 'mz_eeg12', 'mz_eeg13', 'mz_eeg14', 'mz_eeg15', 'mz_eeg16', 'mz_eeg17', 'mz_eeg18', 'mz_eeg19', 'mz_eeg20', 'mz_eeg21', 'mz_eeg22', 'mz_eeg23', 'mz_eeg24']\n",
      "Processing file: C:\\graduation project folder\\datasets\\seed_iv\\eeg_raw_data\\3\\8_20151117.mat\n",
      "Keys in 8_20151117.mat: ['__header__', '__version__', '__globals__', 'qyt_eeg1', 'qyt_eeg2', 'qyt_eeg3', 'qyt_eeg4', 'qyt_eeg5', 'qyt_eeg6', 'qyt_eeg7', 'qyt_eeg8', 'qyt_eeg9', 'qyt_eeg10', 'qyt_eeg11', 'qyt_eeg12', 'qyt_eeg13', 'qyt_eeg14', 'qyt_eeg15', 'qyt_eeg16', 'qyt_eeg17', 'qyt_eeg18', 'qyt_eeg19', 'qyt_eeg20', 'qyt_eeg21', 'qyt_eeg22', 'qyt_eeg23', 'qyt_eeg24']\n",
      "Processing file: C:\\graduation project folder\\datasets\\seed_iv\\eeg_raw_data\\3\\9_20151209.mat\n",
      "Keys in 9_20151209.mat: ['__header__', '__version__', '__globals__', 'rx_eeg1', 'rx_eeg2', 'rx_eeg3', 'rx_eeg4', 'rx_eeg5', 'rx_eeg6', 'rx_eeg7', 'rx_eeg8', 'rx_eeg9', 'rx_eeg10', 'rx_eeg11', 'rx_eeg12', 'rx_eeg13', 'rx_eeg14', 'rx_eeg15', 'rx_eeg16', 'rx_eeg17', 'rx_eeg18', 'rx_eeg19', 'rx_eeg20', 'rx_eeg21', 'rx_eeg22', 'rx_eeg23', 'rx_eeg24']\n"
     ]
    }
   ],
   "source": [
    "import os\n",
    "import scipy.io\n",
    "\n",
    "\n",
    "parent_dir=\"C:\\graduation project folder\\datasets\\seed_iv\\eeg_raw_data\"\n",
    "# Specify the session to process (e.g., session 1)\n",
    "session = 3\n",
    "\n",
    "# Construct the path to the session directory\n",
    "session_path = os.path.join(parent_dir, str(session))\n",
    "\n",
    "# Check if the session directory exists\n",
    "if os.path.exists(session_path):\n",
    "    # List all observations (files) in the session directory\n",
    "    persons_list = os.listdir(session_path)\n",
    "    print(f\"Observations for session {session}: {persons_list}\")\n",
    "    \n",
    "    # Process each .mat file in the session directory\n",
    "    for person_file in persons_list:\n",
    "        if person_file.endswith('.mat'):  # Check for .mat files\n",
    "            file_path = os.path.join(session_path, person_file)\n",
    "            print(f\"Processing file: {file_path}\")\n",
    "            \n",
    "            try:\n",
    "            # Attempt to load the .mat file\n",
    "                data = scipy.io.loadmat(file_path)\n",
    "                print(f\"Keys in {person_file}: {list(data.keys())}\")\n",
    "            except Exception as e:\n",
    "                print(f\"Error processing file {file_path}: {e}\")\n",
    "else:\n",
    "    print(f\"Session directory does not exist: {session_path}\")"
   ]
  },
  {
   "cell_type": "code",
   "execution_count": 17,
   "metadata": {},
   "outputs": [
    {
     "name": "stdout",
     "output_type": "stream",
     "text": [
      "Files organized into session folders.\n"
     ]
    }
   ],
   "source": [
    "import os\n",
    "import shutil\n",
    "\n",
    "# Base directory for EEG raw data\n",
    "base_dir = r\"C:\\graduation project folder\\datasets\\seed_iv\\eeg_raw_data\"\n",
    "target_base_dir = r\"C:\\graduation project folder\\datasets\\Final_SeedIV\"\n",
    "\n",
    "# Session mapping\n",
    "session_mapping = {\n",
    "    1: \"session1\",\n",
    "    2: \"session2\",\n",
    "    3: \"session3\"\n",
    "}\n",
    "\n",
    "# Move files to session folders\n",
    "for session, folder_name in session_mapping.items():\n",
    "    session_dir = os.path.join(target_base_dir, folder_name)\n",
    "    os.makedirs(session_dir, exist_ok=True)  # Create folder if not exists\n",
    "\n",
    "    session_source_dir = os.path.join(base_dir, str(session))\n",
    "    if os.path.exists(session_source_dir):\n",
    "        for file_name in os.listdir(session_source_dir):\n",
    "            if file_name.endswith(\".mat\"):\n",
    "                source_file = os.path.join(session_source_dir, file_name)\n",
    "                target_file = os.path.join(session_dir, file_name)\n",
    "                shutil.move(source_file, target_file)\n",
    "\n",
    "print(\"Files organized into session folders.\")\n"
   ]
  },
  {
   "cell_type": "code",
   "execution_count": null,
   "metadata": {},
   "outputs": [],
   "source": [
    "import os\n",
    "import scipy.io\n",
    "import numpy as np\n",
    "\n",
    "# Base directory for organized sessions\n",
    "base_dir = r\"C:\\graduation project folder\\datasets\\Final_SeedIV\"\n",
    "sessions = [\"session1\", \"session2\", \"session3\"]\n",
    "\n",
    "# Initialize lists for data\n",
    "eeg_shapes = []\n",
    "eeg_ranges = []\n",
    "\n",
    "# Process each session\n",
    "for session in sessions:\n",
    "    session_dir = os.path.join(base_dir, session)\n",
    "    if not os.path.exists(session_dir):\n",
    "        print(f\"Session directory not found: {session_dir}\")\n",
    "        continue\n",
    "\n",
    "    for mat_file in os.listdir(session_dir):\n",
    "        if mat_file.endswith(\".mat\"):\n",
    "            file_path = os.path.join(session_dir, mat_file)\n",
    "            try:\n",
    "            # Attempt to load the .mat file\n",
    "                data = scipy.io.loadmat(file_path)\n",
    "                \n",
    "            except Exception as e:\n",
    "                print(f\"Error processing file {file_path}: {e}\")\n",
    "\n",
    "            # Extract EEG data from keys\n",
    "            eeg_data = []\n",
    "            for key in data.keys():\n",
    "                if key.endswith(\"_eeg1\") or key.endswith(\"_eeg24\"):  # Adjust this logic based on keys\n",
    "                    eeg_data.append(data[key].flatten())\n",
    "\n",
    "            # Align and preprocess data\n",
    "            if len(eeg_data) > 0:\n",
    "                max_length = max(len(ch) for ch in eeg_data)\n",
    "                eeg_data_aligned = [\n",
    "                    np.pad(ch, (0, max_length - len(ch)), 'constant') if len(ch) < max_length else ch[:max_length]\n",
    "                    for ch in eeg_data\n",
    "                ]\n",
    "\n",
    "                eeg_data_aligned = np.stack(eeg_data_aligned, axis=0)\n",
    "                eeg_shapes.append(eeg_data_aligned.shape)\n",
    "                eeg_ranges.append((np.min(eeg_data_aligned), np.max(eeg_data_aligned)))\n",
    "\n",
    "# Output shapes and ranges for debugging\n",
    "print(\"EEG Data Shapes:\", eeg_shapes)\n",
    "print(\"EEG Data Ranges:\", eeg_ranges)\n"
   ]
  },
  {
   "cell_type": "code",
   "execution_count": null,
   "metadata": {},
   "outputs": [],
   "source": [
    "import matplotlib.pyplot as plt\n",
    "\n",
    "# Example plot for EEG data from a single session\n",
    "eeg_sample = eeg_data_aligned[0]  # Take the first channel from aligned data\n",
    "plt.figure(figsize=(10, 5))\n",
    "plt.plot(eeg_sample)\n",
    "plt.title(\"EEG Signal from Channel 1\")\n",
    "plt.xlabel(\"Time\")\n",
    "plt.ylabel(\"Amplitude\")\n",
    "plt.show()\n"
   ]
  },
  {
   "cell_type": "code",
   "execution_count": 20,
   "metadata": {},
   "outputs": [
    {
     "name": "stdout",
     "output_type": "stream",
     "text": [
      "NumPy version: 1.24.4\n",
      "Scikit-learn version: 1.0.2\n"
     ]
    }
   ],
   "source": [
    "import numpy\n",
    "import sklearn\n",
    "\n",
    "print(f\"NumPy version: {numpy.__version__}\")\n",
    "print(f\"Scikit-learn version: {sklearn.__version__}\")\n"
   ]
  },
  {
   "cell_type": "code",
   "execution_count": 21,
   "metadata": {},
   "outputs": [],
   "source": [
    "from sklearn.metrics import mutual_info_score\n",
    "import numpy as np\n",
    "\n",
    "def mi_matrix(X, N):\n",
    "    \"\"\"\n",
    "    Compute the mutual information matrix for EEG signals.\n",
    "    \n",
    "    Parameters:\n",
    "    X (array-like): EEG data with shape (channels, samples).\n",
    "    N (int): Number of EEG channels.\n",
    "\n",
    "    Returns:\n",
    "    np.ndarray: Mutual information matrix of shape (N, N).\n",
    "    \"\"\"\n",
    "    mat = np.zeros((N, N), dtype=float)\n",
    "    for i in range(N):\n",
    "        for j in range(i, N):  # Mutual information matrix is symmetric\n",
    "            mat[i][j] = mutual_info_score(X[i].ravel(), X[j].ravel())\n",
    "            mat[j][i] = mat[i][j]\n",
    "    return mat\n"
   ]
  },
  {
   "cell_type": "code",
   "execution_count": 23,
   "metadata": {},
   "outputs": [],
   "source": [
    "def wasserstein_scalar_curvature(mi_matrix):\n",
    "    \"\"\"\n",
    "    Calculate the Wasserstein scalar curvature for the MI matrix.\n",
    "\n",
    "    Parameters:\n",
    "    mi_matrix (np.ndarray): Mutual information matrix.\n",
    "\n",
    "    Returns:\n",
    "    float: Wasserstein scalar curvature.\n",
    "    \"\"\"\n",
    "    lambdas = np.linalg.eigvals(mi_matrix)\n",
    "    if np.any(lambdas <= 0):\n",
    "        return 0  # Avoid issues with negative eigenvalues\n",
    "\n",
    "    n = len(lambdas)\n",
    "    curvature = sum([1 / (lambdas[i] + lambdas[j]) for i in range(n) for j in range(n)])\n",
    "    return curvature\n"
   ]
  },
  {
   "cell_type": "code",
   "execution_count": 24,
   "metadata": {},
   "outputs": [],
   "source": [
    "def extract_label_from_filename(filename):\n",
    "    \"\"\"\n",
    "    Extracts the label from the filename based on a predefined mapping.\n",
    "\n",
    "    Parameters:\n",
    "    filename (str): Name of the .mat file.\n",
    "\n",
    "    Returns:\n",
    "    int: Corresponding label ID.\n",
    "    \"\"\"\n",
    "    label_mapping = {\n",
    "        \"happy\": 0,\n",
    "        \"sad\": 1,\n",
    "        \"fear\": 2,\n",
    "        \"neutral\": 3\n",
    "    }\n",
    "    for label, label_id in label_mapping.items():\n",
    "        if label in filename.lower():\n",
    "            return label_id\n",
    "    raise ValueError(f\"Label not found in filename: {filename}\")\n"
   ]
  },
  {
   "cell_type": "code",
   "execution_count": null,
   "metadata": {},
   "outputs": [],
   "source": [
    "def normalize_eeg(data):\n",
    "    return (data - np.min(data)) / (np.max(data) - np.min(data))\n"
   ]
  },
  {
   "cell_type": "code",
   "execution_count": 42,
   "metadata": {},
   "outputs": [
    {
     "name": "stdout",
     "output_type": "stream",
     "text": [
      "dict_keys(['__header__', '__version__', '__globals__', 'ha_eeg1', 'ha_eeg2', 'ha_eeg3', 'ha_eeg4', 'ha_eeg5', 'ha_eeg6', 'ha_eeg7', 'ha_eeg8', 'ha_eeg9', 'ha_eeg10', 'ha_eeg11', 'ha_eeg12', 'ha_eeg13', 'ha_eeg14', 'ha_eeg15', 'ha_eeg16', 'ha_eeg17', 'ha_eeg18', 'ha_eeg19', 'ha_eeg20', 'ha_eeg21', 'ha_eeg22', 'ha_eeg23', 'ha_eeg24'])\n"
     ]
    }
   ],
   "source": [
    "file_path = r\"C:\\graduation project folder\\datasets\\Final_SeedIV\\session1\\2_20150915.mat\"\n",
    "data = loadmat(file_path)\n",
    "print(data.keys())\n",
    "\n"
   ]
  },
  {
   "cell_type": "code",
   "execution_count": null,
   "metadata": {},
   "outputs": [],
   "source": [
    "import os\n",
    "from scipy.io import loadmat\n",
    "import numpy as np\n",
    "\n",
    "# Define the path to the session folder\n",
    "base_dir = r\"C:\\graduation project folder\\datasets\\Final_SeedIV\"\n",
    "sessions = [\"session1\", \"session2\", \"session3\"]\n",
    "\n",
    "# Function to process each session\n",
    "def process_session(session_dir):\n",
    "    for mat_file in os.listdir(session_dir):\n",
    "        if mat_file.endswith(\".mat\"):\n",
    "            file_path = os.path.join(session_dir, mat_file)\n",
    "            try:\n",
    "                data = loadmat(file_path)\n",
    "                print(f\"\\nProcessing file: {mat_file}\")\n",
    "                for key in data.keys():\n",
    "                    # Focus on keys ending with \"_eeg1\" to \"_eeg24\"\n",
    "                    if key.endswith(\"_eeg1\") or key.endswith(\"_eeg24\"):\n",
    "                        signal = data[key]\n",
    "                        print(f\"Key: {key}, Shape: {signal.shape}, Min: {np.min(signal)}, Max: {np.max(signal)}\")\n",
    "            except Exception as e:\n",
    "                print(f\"Error processing file {mat_file}: {e}\")\n",
    "\n",
    "# Iterate through sessions\n",
    "for session in sessions:\n",
    "    session_dir = os.path.join(base_dir, session)\n",
    "    print(f\"\\n--- Session: {session} ---\")\n",
    "    process_session(session_dir)\n"
   ]
  },
  {
   "cell_type": "code",
   "execution_count": null,
   "metadata": {},
   "outputs": [],
   "source": [
    "import os\n",
    "from scipy.io import loadmat\n",
    "import numpy as np\n",
    "from collections import Counter\n",
    "\n",
    "# Define paths and session directories\n",
    "base_dir = r\"C:\\graduation project folder\\datasets\\Final_SeedIV\"\n",
    "sessions = [\"session1\", \"session2\", \"session3\"]\n",
    "\n",
    "# Adjusted parameters\n",
    "sampling_rate = 256  # Replace with actual sampling rate if different\n",
    "segment_size = sampling_rate * 4  # 4 seconds window\n",
    "overlap = segment_size // 2  # 50% overlap\n",
    "max_length = 2000000  # Optional truncation length\n",
    "\n",
    "eeg_data = []\n",
    "labels = []\n",
    "skipped_files = []  # To track files that were skipped due to errors\n",
    "file_segment_counts = []  # To track segments per file\n",
    "\n",
    "session_labels = {\n",
    "    \"session1\": [1, 2, 3, 0, 2, 0, 0, 1, 0, 1, 2, 1, 1, 1, 2],\n",
    "    \"session2\": [2, 1, 3, 0, 0, 2, 0, 2, 3, 3, 2, 3, 2, 0, 1],\n",
    "    \"session3\": [1, 2, 2, 1, 3, 3, 3, 1, 1, 2, 1, 0, 2, 3, 3]\n",
    "}\n",
    "\n",
    "# Helper function to sort files numerically\n",
    "def sort_files_numerically(file_list):\n",
    "    return sorted(file_list, key=lambda x: int(x.split('_')[0]))\n",
    "\n",
    "# Iterate through sessions\n",
    "for session in sessions:\n",
    "    print(f\"\\n--- Processing Session: {session} ---\")\n",
    "    session_dir = os.path.join(base_dir, session)\n",
    "    file_list = [f for f in os.listdir(session_dir) if f.endswith(\".mat\")]\n",
    "    file_list = sort_files_numerically(file_list)  # Sort files numerically\n",
    "    label_list = session_labels[session]\n",
    "\n",
    "    if len(file_list) != len(label_list):\n",
    "        raise ValueError(f\"Mismatch between files and labels in {session}\")\n",
    "\n",
    "    for idx, mat_file in enumerate(file_list):\n",
    "        try:\n",
    "            file_path = os.path.join(session_dir, mat_file)\n",
    "            print(f\"\\nProcessing file: {mat_file}\")\n",
    "            data = loadmat(file_path)  # Load the .mat file\n",
    "\n",
    "            eeg_signals = []\n",
    "            for key in data.keys():\n",
    "                # Look for keys ending in \"_eeg1\" to \"_eeg24\"\n",
    "                if key.endswith(tuple(f\"_eeg{i}\" for i in range(1, 25))):\n",
    "                    signal = data[key].flatten()\n",
    "\n",
    "                    # Debugging signal properties\n",
    "                    print(f\"Key: {key}, Length: {len(signal)}, Min: {signal.min()}, Max: {signal.max()}\")\n",
    "\n",
    "                    # Normalize signal\n",
    "                    signal = (signal - np.min(signal)) / (np.max(signal) - np.min(signal))\n",
    "\n",
    "                    # Pad short signals\n",
    "                    if len(signal) < segment_size:\n",
    "                        print(f\"Signal too short: {len(signal)}. Padding.\")\n",
    "                        signal = np.pad(signal, (0, segment_size - len(signal)), 'constant')\n",
    "\n",
    "                    # Truncate long signals\n",
    "                    if len(signal) > max_length:\n",
    "                        print(f\"Signal too long: {len(signal)}. Truncating to {max_length}.\")\n",
    "                        signal = signal[:max_length]\n",
    "\n",
    "                    # Segment into windows\n",
    "                    windows = [\n",
    "                        signal[i:i + segment_size]\n",
    "                        for i in range(0, len(signal) - segment_size + 1, segment_size - overlap)\n",
    "                    ]\n",
    "                    eeg_signals.append(windows)\n",
    "\n",
    "            if eeg_signals:\n",
    "                num_segments = min(len(channel) for channel in eeg_signals)\n",
    "                eeg_signals = [channel[:num_segments] for channel in eeg_signals]\n",
    "                eeg_signals_stacked = np.array(eeg_signals).transpose(1, 0, 2)\n",
    "                eeg_data.extend(eeg_signals_stacked)\n",
    "                labels.extend([label_list[idx]] * eeg_signals_stacked.shape[0])\n",
    "                file_segment_counts.append((mat_file, label_list[idx], eeg_signals_stacked.shape[0]))\n",
    "            else:\n",
    "                print(f\"No valid segments for file: {mat_file}\")\n",
    "                file_segment_counts.append((mat_file, label_list[idx], 0))\n",
    "\n",
    "        except Exception as e:\n",
    "            print(f\"Error processing {mat_file} in {session}: {e}\")\n",
    "            skipped_files.append((session, mat_file))\n",
    "\n",
    "# Convert to arrays\n",
    "eeg_data = np.array(eeg_data)\n",
    "labels = np.array(labels)\n",
    "\n",
    "# Debugging outputs\n",
    "print(\"\\n--- Debugging Outputs ---\")\n",
    "print(f\"Processed EEG Data Shape: {eeg_data.shape}\")\n",
    "print(f\"Processed Labels Shape: {labels.shape}\")\n",
    "\n",
    "# Count segments by label\n",
    "segment_counts = Counter(labels)\n",
    "print(\"\\nSegment Counts per Label:\", segment_counts)\n",
    "\n",
    "# File-level segment counts\n",
    "print(\"\\nSegments per File and Label:\")\n",
    "for file_name, label, segment_count in file_segment_counts:\n",
    "    print(f\"File: {file_name}, Label: {label}, Segments: {segment_count}\")\n",
    "\n"
   ]
  },
  {
   "cell_type": "code",
   "execution_count": 46,
   "metadata": {},
   "outputs": [
    {
     "name": "stdout",
     "output_type": "stream",
     "text": [
      "EEG Data Shape: (52660, 24, 1024)\n",
      "Labels Shape: (52660,)\n",
      "Unique Labels: [0 1 2 3]\n",
      "Segments per Label: Counter({1: 15941, 2: 14320, 3: 12216, 0: 10183})\n"
     ]
    }
   ],
   "source": [
    "print(f\"EEG Data Shape: {eeg_data.shape}\")\n",
    "print(f\"Labels Shape: {labels.shape}\")\n",
    "print(f\"Unique Labels: {np.unique(labels)}\")\n",
    "print(f\"Segments per Label: {Counter(labels)}\")\n"
   ]
  },
  {
   "cell_type": "code",
   "execution_count": 47,
   "metadata": {},
   "outputs": [
    {
     "name": "stdout",
     "output_type": "stream",
     "text": [
      "Data Min: 0.0, Max: 1.0\n"
     ]
    }
   ],
   "source": [
    "eeg_data = (eeg_data - np.min(eeg_data)) / (np.max(eeg_data) - np.min(eeg_data))\n",
    "print(f\"Data Min: {np.min(eeg_data)}, Max: {np.max(eeg_data)}\")\n"
   ]
  },
  {
   "cell_type": "code",
   "execution_count": 48,
   "metadata": {},
   "outputs": [
    {
     "name": "stdout",
     "output_type": "stream",
     "text": [
      "Segments with all zeros: 0\n"
     ]
    }
   ],
   "source": [
    "print(f\"Segments with all zeros: {np.sum(np.all(eeg_data == 0, axis=(1, 2)))}\")\n"
   ]
  },
  {
   "cell_type": "code",
   "execution_count": 49,
   "metadata": {},
   "outputs": [
    {
     "data": {
      "image/png": "[encoded data removed]",
      "text/plain": [
       "<Figure size 640x480 with 1 Axes>"
      ]
     },
     "metadata": {},
     "output_type": "display_data"
    }
   ],
   "source": [
    "import matplotlib.pyplot as plt\n",
    "\n",
    "# Visualize the first channel of the first segment\n",
    "plt.plot(eeg_data[0, 0, :])\n",
    "plt.title(f\"Segment 0, Channel 0, Label: {labels[0]}\")\n",
    "plt.xlabel(\"Time\")\n",
    "plt.ylabel(\"Amplitude\")\n",
    "plt.show()\n"
   ]
  },
  {
   "cell_type": "code",
   "execution_count": 50,
   "metadata": {},
   "outputs": [
    {
     "name": "stdout",
     "output_type": "stream",
     "text": [
      "Training Data Shape: (42128, 24, 1024), Training Labels Shape: (42128,)\n",
      "Testing Data Shape: (10532, 24, 1024), Testing Labels Shape: (10532,)\n"
     ]
    }
   ],
   "source": [
    "from sklearn.model_selection import train_test_split\n",
    "\n",
    "# Split the data\n",
    "X_train, X_test, y_train, y_test = train_test_split(\n",
    "    eeg_data, labels, test_size=0.2, random_state=42, stratify=labels\n",
    ")\n",
    "\n",
    "print(f\"Training Data Shape: {X_train.shape}, Training Labels Shape: {y_train.shape}\")\n",
    "print(f\"Testing Data Shape: {X_test.shape}, Testing Labels Shape: {y_test.shape}\")\n"
   ]
  },
  {
   "cell_type": "code",
   "execution_count": 51,
   "metadata": {},
   "outputs": [
    {
     "name": "stdout",
     "output_type": "stream",
     "text": [
      "Model: \"sequential\"\n",
      "_________________________________________________________________\n",
      " Layer (type)                Output Shape              Param #   \n",
      "=================================================================\n",
      " conv2d (Conv2D)             (None, 22, 1022, 32)      320       \n",
      "                                                                 \n",
      " max_pooling2d (MaxPooling2D  (None, 11, 511, 32)      0         \n",
      " )                                                               \n",
      "                                                                 \n",
      " conv2d_1 (Conv2D)           (None, 9, 509, 64)        18496     \n",
      "                                                                 \n",
      " max_pooling2d_1 (MaxPooling  (None, 4, 254, 64)       0         \n",
      " 2D)                                                             \n",
      "                                                                 \n",
      " flatten (Flatten)           (None, 65024)             0         \n",
      "                                                                 \n",
      " dense (Dense)               (None, 128)               8323200   \n",
      "                                                                 \n",
      " dropout (Dropout)           (None, 128)               0         \n",
      "                                                                 \n",
      " dense_1 (Dense)             (None, 4)                 516       \n",
      "                                                                 \n",
      "=================================================================\n",
      "Total params: 8,342,532\n",
      "Trainable params: 8,342,532\n",
      "Non-trainable params: 0\n",
      "_________________________________________________________________\n"
     ]
    }
   ],
   "source": [
    "import tensorflow as tf\n",
    "from tensorflow.keras.models import Sequential\n",
    "from tensorflow.keras.layers import Conv2D, MaxPooling2D, Flatten, Dense, Dropout\n",
    "\n",
    "# Reshape data for CNN input (add channel dimension)\n",
    "X_train_cnn = X_train[..., np.newaxis]\n",
    "X_test_cnn = X_test[..., np.newaxis]\n",
    "\n",
    "# Build the CNN\n",
    "model = Sequential([\n",
    "    Conv2D(32, kernel_size=(3, 3), activation='relu', input_shape=(24, 1024, 1)),\n",
    "    MaxPooling2D(pool_size=(2, 2)),\n",
    "    Conv2D(64, kernel_size=(3, 3), activation='relu'),\n",
    "    MaxPooling2D(pool_size=(2, 2)),\n",
    "    Flatten(),\n",
    "    Dense(128, activation='relu'),\n",
    "    Dropout(0.5),\n",
    "    Dense(4, activation='softmax')  # 4 output classes\n",
    "])\n",
    "\n",
    "model.compile(optimizer='adam', loss='sparse_categorical_crossentropy', metrics=['accuracy'])\n",
    "model.summary()\n"
   ]
  },
  {
   "cell_type": "code",
   "execution_count": 52,
   "metadata": {},
   "outputs": [
    {
     "name": "stdout",
     "output_type": "stream",
     "text": [
      "Epoch 1/10\n",
      "1317/1317 [==============================] - 339s 253ms/step - loss: 0.1472 - accuracy: 0.9455 - val_loss: 0.0066 - val_accuracy: 0.9980\n",
      "Epoch 2/10\n",
      "1317/1317 [==============================] - 358s 272ms/step - loss: 0.0183 - accuracy: 0.9945 - val_loss: 0.0019 - val_accuracy: 0.9992\n",
      "Epoch 3/10\n",
      "1317/1317 [==============================] - 340s 258ms/step - loss: 0.0148 - accuracy: 0.9958 - val_loss: 0.0044 - val_accuracy: 0.9988\n",
      "Epoch 4/10\n",
      "1317/1317 [==============================] - 310s 236ms/step - loss: 0.0117 - accuracy: 0.9967 - val_loss: 0.0049 - val_accuracy: 0.9987\n",
      "Epoch 5/10\n",
      "1317/1317 [==============================] - 314s 238ms/step - loss: 0.0083 - accuracy: 0.9974 - val_loss: 0.0037 - val_accuracy: 0.9991\n",
      "Epoch 6/10\n",
      "1317/1317 [==============================] - 318s 241ms/step - loss: 0.0146 - accuracy: 0.9962 - val_loss: 0.0046 - val_accuracy: 0.9991\n",
      "Epoch 7/10\n",
      "1317/1317 [==============================] - 298s 226ms/step - loss: 0.0074 - accuracy: 0.9980 - val_loss: 0.0031 - val_accuracy: 0.9990\n",
      "Epoch 8/10\n",
      "1317/1317 [==============================] - 311s 236ms/step - loss: 0.0106 - accuracy: 0.9970 - val_loss: 5.7887e-04 - val_accuracy: 0.9997\n",
      "Epoch 9/10\n",
      "1317/1317 [==============================] - 319s 242ms/step - loss: 0.0081 - accuracy: 0.9980 - val_loss: 0.0020 - val_accuracy: 0.9995\n",
      "Epoch 10/10\n",
      "1317/1317 [==============================] - 319s 242ms/step - loss: 0.0079 - accuracy: 0.9980 - val_loss: 9.8260e-04 - val_accuracy: 0.9997\n"
     ]
    }
   ],
   "source": [
    "history = model.fit(X_train_cnn, y_train, validation_data=(X_test_cnn, y_test), epochs=10, batch_size=32)\n",
    "\n",
    "# Save the model\n",
    "model.save(\"eeg_cnn_model.h5\")\n"
   ]
  },
  {
   "cell_type": "code",
   "execution_count": 53,
   "metadata": {},
   "outputs": [
    {
     "name": "stdout",
     "output_type": "stream",
     "text": [
      "330/330 - 18s - loss: 9.8260e-04 - accuracy: 0.9997 - 18s/epoch - 54ms/step\n",
      "Test Accuracy: 1.00\n"
     ]
    }
   ],
   "source": [
    "# Evaluate on test data\n",
    "test_loss, test_acc = model.evaluate(X_test_cnn, y_test, verbose=2)\n",
    "print(f\"Test Accuracy: {test_acc:.2f}\")\n"
   ]
  },
  {
   "cell_type": "code",
   "execution_count": 54,
   "metadata": {},
   "outputs": [
    {
     "data": {
      "image/png": "[encoded data removed]",
      "text/plain": [
       "<Figure size 640x480 with 1 Axes>"
      ]
     },
     "metadata": {},
     "output_type": "display_data"
    },
    {
     "data": {
      "image/png": "[encoded data removed]",
      "text/plain": [
       "<Figure size 640x480 with 1 Axes>"
      ]
     },
     "metadata": {},
     "output_type": "display_data"
    }
   ],
   "source": [
    "import matplotlib.pyplot as plt\n",
    "\n",
    "# Accuracy plot\n",
    "plt.plot(history.history['accuracy'], label='Training Accuracy')\n",
    "plt.plot(history.history['val_accuracy'], label='Validation Accuracy')\n",
    "plt.xlabel('Epoch')\n",
    "plt.ylabel('Accuracy')\n",
    "plt.legend()\n",
    "plt.title('Training and Validation Accuracy')\n",
    "plt.show()\n",
    "\n",
    "# Loss plot\n",
    "plt.plot(history.history['loss'], label='Training Loss')\n",
    "plt.plot(history.history['val_loss'], label='Validation Loss')\n",
    "plt.xlabel('Epoch')\n",
    "plt.ylabel('Loss')\n",
    "plt.legend()\n",
    "plt.title('Training and Validation Loss')\n",
    "plt.show()\n"
   ]
  }
 ],
 "metadata": {
  "kernelspec": {
   "display_name": "bassem_env",
   "language": "python",
   "name": "python3"
  },
  "language_info": {
   "codemirror_mode": {
    "name": "ipython",
    "version": 3
   },
   "file_extension": ".py",
   "mimetype": "text/x-python",
   "name": "python",
   "nbconvert_exporter": "python",
   "pygments_lexer": "ipython3",
   "version": "3.9.20"
  }
 },
 "nbformat": 4,
 "nbformat_minor": 2
}
