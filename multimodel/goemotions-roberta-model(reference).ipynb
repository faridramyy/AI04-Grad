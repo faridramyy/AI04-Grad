{
 "cells": [
  {
   "cell_type": "markdown",
   "metadata": {},
   "source": [
    "# Importing the Libraries"
   ]
  },
  {
   "cell_type": "code",
   "execution_count": 3,
   "metadata": {
    "execution": {
     "iopub.execute_input": "2023-07-12T17:46:27.170453Z",
     "iopub.status.busy": "2023-07-12T17:46:27.170110Z",
     "iopub.status.idle": "2023-07-12T17:46:42.742295Z",
     "shell.execute_reply": "2023-07-12T17:46:42.741078Z",
     "shell.execute_reply.started": "2023-07-12T17:46:27.170424Z"
    },
    "trusted": true
   },
   "outputs": [
    {
     "name": "stderr",
     "output_type": "stream",
     "text": [
      "[nltk_data] Downloading package stopwords to\n",
      "[nltk_data]     C:\\Users\\dell\\AppData\\Roaming\\nltk_data...\n",
      "[nltk_data]   Package stopwords is already up-to-date!\n",
      "[nltk_data] Downloading package wordnet to\n",
      "[nltk_data]     C:\\Users\\dell\\AppData\\Roaming\\nltk_data...\n",
      "[nltk_data]   Package wordnet is already up-to-date!\n"
     ]
    }
   ],
   "source": [
    "import nltk\n",
    "nltk.download('stopwords')\n",
    "nltk.download('wordnet')\n",
    "from nltk.corpus import stopwords, wordnet\n",
    "from nltk.stem import WordNetLemmatizer\n",
    "import contractions"
   ]
  },
  {
   "cell_type": "code",
   "execution_count": 5,
   "metadata": {},
   "outputs": [
    {
     "name": "stdout",
     "output_type": "stream",
     "text": [
      "Collecting emoji\n",
      "  Downloading emoji-2.14.0-py3-none-any.whl.metadata (5.7 kB)\n",
      "Downloading emoji-2.14.0-py3-none-any.whl (586 kB)\n",
      "   ---------------------------------------- 0.0/586.9 kB ? eta -:--:--\n",
      "   ---------------------------------------- 0.0/586.9 kB ? eta -:--:--\n",
      "   ----------------- ---------------------- 262.1/586.9 kB ? eta -:--:--\n",
      "   -------------------------------------- 586.9/586.9 kB 902.1 kB/s eta 0:00:00\n",
      "Installing collected packages: emoji\n",
      "Successfully installed emoji-2.14.0\n"
     ]
    }
   ],
   "source": [
    "!pip install emoji"
   ]
  },
  {
   "cell_type": "code",
   "execution_count": 6,
   "metadata": {
    "execution": {
     "iopub.execute_input": "2023-07-12T17:46:42.745115Z",
     "iopub.status.busy": "2023-07-12T17:46:42.744731Z",
     "iopub.status.idle": "2023-07-12T17:46:51.792775Z",
     "shell.execute_reply": "2023-07-12T17:46:51.791779Z",
     "shell.execute_reply.started": "2023-07-12T17:46:42.745077Z"
    },
    "trusted": true
   },
   "outputs": [],
   "source": [
    "import os\n",
    "import re\n",
    "import string\n",
    "import emoji\n",
    "import json\n",
    "import numpy as np\n",
    "import pandas as pd\n",
    "import matplotlib.pyplot as plt\n",
    "import tensorflow as tf\n",
    "\n",
    "import warnings\n",
    "warnings.filterwarnings('ignore')"
   ]
  },
  {
   "cell_type": "markdown",
   "metadata": {},
   "source": [
    "# Loading Data"
   ]
  },
  {
   "cell_type": "code",
   "execution_count": 9,
   "metadata": {
    "execution": {
     "iopub.execute_input": "2023-07-12T17:46:51.795137Z",
     "iopub.status.busy": "2023-07-12T17:46:51.794303Z",
     "iopub.status.idle": "2023-07-12T17:46:52.004016Z",
     "shell.execute_reply": "2023-07-12T17:46:52.002952Z",
     "shell.execute_reply.started": "2023-07-12T17:46:51.795101Z"
    },
    "trusted": true
   },
   "outputs": [],
   "source": [
    "train_data = pd.read_csv(\"../datasets/CREMA-D/goemtions/data/train.tsv\", sep='\\t', header=None, names=['Text', 'Class', 'ID'])\n",
    "valid_data = pd.read_csv(\"../datasets/CREMA-D/goemtions/data/dev.tsv\", sep='\\t', header=None, names=['Text', 'Class', 'ID'])\n",
    "test_data = pd.read_csv(\"../datasets/CREMA-D/goemtions/data/test.tsv\", sep='\\t', header=None, names=['Text', 'Class', 'ID'])"
   ]
  },
  {
   "cell_type": "code",
   "execution_count": 10,
   "metadata": {
    "execution": {
     "iopub.execute_input": "2023-07-12T17:46:52.007305Z",
     "iopub.status.busy": "2023-07-12T17:46:52.006863Z",
     "iopub.status.idle": "2023-07-12T17:46:52.027888Z",
     "shell.execute_reply": "2023-07-12T17:46:52.026721Z",
     "shell.execute_reply.started": "2023-07-12T17:46:52.007265Z"
    },
    "trusted": true
   },
   "outputs": [
    {
     "data": {
      "text/html": [
       "<div>\n",
       "<style scoped>\n",
       "    .dataframe tbody tr th:only-of-type {\n",
       "        vertical-align: middle;\n",
       "    }\n",
       "\n",
       "    .dataframe tbody tr th {\n",
       "        vertical-align: top;\n",
       "    }\n",
       "\n",
       "    .dataframe thead th {\n",
       "        text-align: right;\n",
       "    }\n",
       "</style>\n",
       "<table border=\"1\" class=\"dataframe\">\n",
       "  <thead>\n",
       "    <tr style=\"text-align: right;\">\n",
       "      <th></th>\n",
       "      <th>Text</th>\n",
       "      <th>Class</th>\n",
       "      <th>ID</th>\n",
       "    </tr>\n",
       "  </thead>\n",
       "  <tbody>\n",
       "    <tr>\n",
       "      <th>0</th>\n",
       "      <td>My favourite food is anything I didn't have to...</td>\n",
       "      <td>27</td>\n",
       "      <td>eebbqej</td>\n",
       "    </tr>\n",
       "    <tr>\n",
       "      <th>1</th>\n",
       "      <td>Now if he does off himself, everyone will thin...</td>\n",
       "      <td>27</td>\n",
       "      <td>ed00q6i</td>\n",
       "    </tr>\n",
       "    <tr>\n",
       "      <th>2</th>\n",
       "      <td>WHY THE FUCK IS BAYLESS ISOING</td>\n",
       "      <td>2</td>\n",
       "      <td>eezlygj</td>\n",
       "    </tr>\n",
       "    <tr>\n",
       "      <th>3</th>\n",
       "      <td>To make her feel threatened</td>\n",
       "      <td>14</td>\n",
       "      <td>ed7ypvh</td>\n",
       "    </tr>\n",
       "    <tr>\n",
       "      <th>4</th>\n",
       "      <td>Dirty Southern Wankers</td>\n",
       "      <td>3</td>\n",
       "      <td>ed0bdzj</td>\n",
       "    </tr>\n",
       "  </tbody>\n",
       "</table>\n",
       "</div>"
      ],
      "text/plain": [
       "                                                Text Class       ID\n",
       "0  My favourite food is anything I didn't have to...    27  eebbqej\n",
       "1  Now if he does off himself, everyone will thin...    27  ed00q6i\n",
       "2                     WHY THE FUCK IS BAYLESS ISOING     2  eezlygj\n",
       "3                        To make her feel threatened    14  ed7ypvh\n",
       "4                             Dirty Southern Wankers     3  ed0bdzj"
      ]
     },
     "execution_count": 10,
     "metadata": {},
     "output_type": "execute_result"
    }
   ],
   "source": [
    "train_data.head()"
   ]
  },
  {
   "cell_type": "code",
   "execution_count": 11,
   "metadata": {
    "execution": {
     "iopub.execute_input": "2023-07-12T17:46:52.030065Z",
     "iopub.status.busy": "2023-07-12T17:46:52.029414Z",
     "iopub.status.idle": "2023-07-12T17:46:52.094671Z",
     "shell.execute_reply": "2023-07-12T17:46:52.093750Z",
     "shell.execute_reply.started": "2023-07-12T17:46:52.030027Z"
    },
    "trusted": true
   },
   "outputs": [
    {
     "name": "stdout",
     "output_type": "stream",
     "text": [
      "<class 'pandas.core.frame.DataFrame'>\n",
      "RangeIndex: 43410 entries, 0 to 43409\n",
      "Data columns (total 3 columns):\n",
      " #   Column  Non-Null Count  Dtype \n",
      "---  ------  --------------  ----- \n",
      " 0   Text    43410 non-null  object\n",
      " 1   Class   43410 non-null  object\n",
      " 2   ID      43410 non-null  object\n",
      "dtypes: object(3)\n",
      "memory usage: 1017.5+ KB\n"
     ]
    }
   ],
   "source": [
    "train_data.info()"
   ]
  },
  {
   "cell_type": "markdown",
   "metadata": {},
   "source": [
    "# Data Preparation\n",
    "\n",
    "Converting our data to be of format Text -> Labels (one hot type) with Ekman Taxonomy"
   ]
  },
  {
   "cell_type": "code",
   "execution_count": 12,
   "metadata": {
    "execution": {
     "iopub.execute_input": "2023-07-12T17:46:52.096433Z",
     "iopub.status.busy": "2023-07-12T17:46:52.096086Z",
     "iopub.status.idle": "2023-07-12T17:46:52.169946Z",
     "shell.execute_reply": "2023-07-12T17:46:52.169024Z",
     "shell.execute_reply.started": "2023-07-12T17:46:52.096399Z"
    },
    "trusted": true
   },
   "outputs": [],
   "source": [
    "train_data['Class List'] = train_data['Class'].apply(lambda x: x.split(','))\n",
    "train_data['Class Length'] = train_data['Class List'].apply(lambda x: len(x))\n",
    "\n",
    "valid_data['Class List'] = valid_data['Class'].apply(lambda x: x.split(','))\n",
    "valid_data['Class Length'] = valid_data['Class List'].apply(lambda x: len(x))\n",
    "\n",
    "test_data['Class List'] = test_data['Class'].apply(lambda x: x.split(','))\n",
    "test_data['Class Length'] = test_data['Class List'].apply(lambda x: len(x))"
   ]
  },
  {
   "cell_type": "code",
   "execution_count": 13,
   "metadata": {
    "execution": {
     "iopub.execute_input": "2023-07-12T17:46:52.172014Z",
     "iopub.status.busy": "2023-07-12T17:46:52.171416Z",
     "iopub.status.idle": "2023-07-12T17:46:52.188228Z",
     "shell.execute_reply": "2023-07-12T17:46:52.187190Z",
     "shell.execute_reply.started": "2023-07-12T17:46:52.171979Z"
    },
    "trusted": true
   },
   "outputs": [
    {
     "data": {
      "text/html": [
       "<div>\n",
       "<style scoped>\n",
       "    .dataframe tbody tr th:only-of-type {\n",
       "        vertical-align: middle;\n",
       "    }\n",
       "\n",
       "    .dataframe tbody tr th {\n",
       "        vertical-align: top;\n",
       "    }\n",
       "\n",
       "    .dataframe thead th {\n",
       "        text-align: right;\n",
       "    }\n",
       "</style>\n",
       "<table border=\"1\" class=\"dataframe\">\n",
       "  <thead>\n",
       "    <tr style=\"text-align: right;\">\n",
       "      <th></th>\n",
       "      <th>Text</th>\n",
       "      <th>Class</th>\n",
       "      <th>ID</th>\n",
       "      <th>Class List</th>\n",
       "      <th>Class Length</th>\n",
       "    </tr>\n",
       "  </thead>\n",
       "  <tbody>\n",
       "    <tr>\n",
       "      <th>0</th>\n",
       "      <td>My favourite food is anything I didn't have to...</td>\n",
       "      <td>27</td>\n",
       "      <td>eebbqej</td>\n",
       "      <td>[27]</td>\n",
       "      <td>1</td>\n",
       "    </tr>\n",
       "    <tr>\n",
       "      <th>1</th>\n",
       "      <td>Now if he does off himself, everyone will thin...</td>\n",
       "      <td>27</td>\n",
       "      <td>ed00q6i</td>\n",
       "      <td>[27]</td>\n",
       "      <td>1</td>\n",
       "    </tr>\n",
       "    <tr>\n",
       "      <th>2</th>\n",
       "      <td>WHY THE FUCK IS BAYLESS ISOING</td>\n",
       "      <td>2</td>\n",
       "      <td>eezlygj</td>\n",
       "      <td>[2]</td>\n",
       "      <td>1</td>\n",
       "    </tr>\n",
       "    <tr>\n",
       "      <th>3</th>\n",
       "      <td>To make her feel threatened</td>\n",
       "      <td>14</td>\n",
       "      <td>ed7ypvh</td>\n",
       "      <td>[14]</td>\n",
       "      <td>1</td>\n",
       "    </tr>\n",
       "    <tr>\n",
       "      <th>4</th>\n",
       "      <td>Dirty Southern Wankers</td>\n",
       "      <td>3</td>\n",
       "      <td>ed0bdzj</td>\n",
       "      <td>[3]</td>\n",
       "      <td>1</td>\n",
       "    </tr>\n",
       "  </tbody>\n",
       "</table>\n",
       "</div>"
      ],
      "text/plain": [
       "                                                Text Class       ID  \\\n",
       "0  My favourite food is anything I didn't have to...    27  eebbqej   \n",
       "1  Now if he does off himself, everyone will thin...    27  ed00q6i   \n",
       "2                     WHY THE FUCK IS BAYLESS ISOING     2  eezlygj   \n",
       "3                        To make her feel threatened    14  ed7ypvh   \n",
       "4                             Dirty Southern Wankers     3  ed0bdzj   \n",
       "\n",
       "  Class List  Class Length  \n",
       "0       [27]             1  \n",
       "1       [27]             1  \n",
       "2        [2]             1  \n",
       "3       [14]             1  \n",
       "4        [3]             1  "
      ]
     },
     "execution_count": 13,
     "metadata": {},
     "output_type": "execute_result"
    }
   ],
   "source": [
    "train_data.head()"
   ]
  },
  {
   "cell_type": "code",
   "execution_count": 14,
   "metadata": {
    "execution": {
     "iopub.execute_input": "2023-07-12T17:46:52.191160Z",
     "iopub.status.busy": "2023-07-12T17:46:52.190446Z",
     "iopub.status.idle": "2023-07-12T17:46:52.199556Z",
     "shell.execute_reply": "2023-07-12T17:46:52.198186Z",
     "shell.execute_reply.started": "2023-07-12T17:46:52.191124Z"
    },
    "trusted": true
   },
   "outputs": [
    {
     "data": {
      "text/plain": [
       "Class Length\n",
       "1    36308\n",
       "2     6541\n",
       "3      532\n",
       "4       28\n",
       "5        1\n",
       "Name: count, dtype: int64"
      ]
     },
     "execution_count": 14,
     "metadata": {},
     "output_type": "execute_result"
    }
   ],
   "source": [
    "train_data[\"Class Length\"].value_counts()"
   ]
  },
  {
   "cell_type": "code",
   "execution_count": 16,
   "metadata": {
    "execution": {
     "iopub.execute_input": "2023-07-12T17:46:52.201639Z",
     "iopub.status.busy": "2023-07-12T17:46:52.201221Z",
     "iopub.status.idle": "2023-07-12T17:46:52.215121Z",
     "shell.execute_reply": "2023-07-12T17:46:52.214138Z",
     "shell.execute_reply.started": "2023-07-12T17:46:52.201605Z"
    },
    "trusted": true
   },
   "outputs": [],
   "source": [
    "with open('../datasets/CREMA-D/goemtions/data/ekman_mapping.json') as file:\n",
    "    ekman_mapping = json.load(file)"
   ]
  },
  {
   "cell_type": "code",
   "execution_count": 17,
   "metadata": {
    "execution": {
     "iopub.execute_input": "2023-07-12T17:46:52.221583Z",
     "iopub.status.busy": "2023-07-12T17:46:52.221291Z",
     "iopub.status.idle": "2023-07-12T17:46:52.229191Z",
     "shell.execute_reply": "2023-07-12T17:46:52.228153Z",
     "shell.execute_reply.started": "2023-07-12T17:46:52.221560Z"
    },
    "trusted": true
   },
   "outputs": [
    {
     "data": {
      "text/plain": [
       "{'anger': ['anger', 'annoyance', 'disapproval'],\n",
       " 'disgust': ['disgust'],\n",
       " 'fear': ['fear', 'nervousness'],\n",
       " 'joy': ['joy',\n",
       "  'amusement',\n",
       "  'approval',\n",
       "  'excitement',\n",
       "  'gratitude',\n",
       "  'love',\n",
       "  'optimism',\n",
       "  'relief',\n",
       "  'pride',\n",
       "  'admiration',\n",
       "  'desire',\n",
       "  'caring'],\n",
       " 'sadness': ['sadness', 'disappointment', 'embarrassment', 'grief', 'remorse'],\n",
       " 'surprise': ['surprise', 'realization', 'confusion', 'curiosity']}"
      ]
     },
     "execution_count": 17,
     "metadata": {},
     "output_type": "execute_result"
    }
   ],
   "source": [
    "ekman_mapping"
   ]
  },
  {
   "cell_type": "code",
   "execution_count": 19,
   "metadata": {
    "execution": {
     "iopub.execute_input": "2023-07-12T17:46:52.231577Z",
     "iopub.status.busy": "2023-07-12T17:46:52.230687Z",
     "iopub.status.idle": "2023-07-12T17:46:52.244822Z",
     "shell.execute_reply": "2023-07-12T17:46:52.243794Z",
     "shell.execute_reply.started": "2023-07-12T17:46:52.231543Z"
    },
    "trusted": true
   },
   "outputs": [
    {
     "name": "stdout",
     "output_type": "stream",
     "text": [
      "['admiration', 'amusement', 'anger', 'annoyance', 'approval', 'caring', 'confusion', 'curiosity', 'desire', 'disappointment', 'disapproval', 'disgust', 'embarrassment', 'excitement', 'fear', 'gratitude', 'grief', 'joy', 'love', 'nervousness', 'optimism', 'pride', 'realization', 'relief', 'remorse', 'sadness', 'surprise', 'neutral']\n"
     ]
    }
   ],
   "source": [
    "emotion_file = open(\"../datasets/CREMA-D/goemtions/data/emotions.txt\", \"r\")\n",
    "emotion_list = emotion_file.read()\n",
    "emotion_list = emotion_list.split(\"\\n\")\n",
    "print(emotion_list)"
   ]
  },
  {
   "cell_type": "code",
   "execution_count": 20,
   "metadata": {
    "execution": {
     "iopub.execute_input": "2023-07-12T17:46:52.246482Z",
     "iopub.status.busy": "2023-07-12T17:46:52.246075Z",
     "iopub.status.idle": "2023-07-12T17:46:52.252064Z",
     "shell.execute_reply": "2023-07-12T17:46:52.250979Z",
     "shell.execute_reply.started": "2023-07-12T17:46:52.246441Z"
    },
    "trusted": true
   },
   "outputs": [],
   "source": [
    "def idx2class(idx_list):\n",
    "    arr = []\n",
    "    for i in idx_list:\n",
    "        arr.append(emotion_list[int(i)])\n",
    "    return arr"
   ]
  },
  {
   "cell_type": "code",
   "execution_count": 21,
   "metadata": {
    "execution": {
     "iopub.execute_input": "2023-07-12T17:46:52.254203Z",
     "iopub.status.busy": "2023-07-12T17:46:52.253656Z",
     "iopub.status.idle": "2023-07-12T17:46:52.543977Z",
     "shell.execute_reply": "2023-07-12T17:46:52.542709Z",
     "shell.execute_reply.started": "2023-07-12T17:46:52.254172Z"
    },
    "trusted": true
   },
   "outputs": [],
   "source": [
    "train_data['Emotions'] = train_data['Class List'].apply(idx2class)\n",
    "valid_data['Emotions'] = valid_data['Class List'].apply(idx2class)\n",
    "test_data['Emotions'] = test_data['Class List'].apply(idx2class)"
   ]
  },
  {
   "cell_type": "code",
   "execution_count": 22,
   "metadata": {
    "execution": {
     "iopub.execute_input": "2023-07-12T17:46:52.546186Z",
     "iopub.status.busy": "2023-07-12T17:46:52.545519Z",
     "iopub.status.idle": "2023-07-12T17:46:52.654584Z",
     "shell.execute_reply": "2023-07-12T17:46:52.653553Z",
     "shell.execute_reply.started": "2023-07-12T17:46:52.546147Z"
    },
    "trusted": true
   },
   "outputs": [
    {
     "data": {
      "text/plain": [
       "Emotions\n",
       "[neutral]                                        12823\n",
       "[admiration]                                      2710\n",
       "[approval]                                        1873\n",
       "[gratitude]                                       1857\n",
       "[amusement]                                       1652\n",
       "                                                 ...  \n",
       "[confusion, gratitude, realization]                  1\n",
       "[disappointment, disapproval, nervousness]           1\n",
       "[curiosity, disapproval, sadness]                    1\n",
       "[curiosity, disappointment, remorse, sadness]        1\n",
       "[admiration, amusement, love]                        1\n",
       "Name: count, Length: 711, dtype: int64"
      ]
     },
     "execution_count": 22,
     "metadata": {},
     "output_type": "execute_result"
    }
   ],
   "source": [
    "train_data[\"Emotions\"].value_counts()"
   ]
  },
  {
   "cell_type": "code",
   "execution_count": 23,
   "metadata": {
    "execution": {
     "iopub.execute_input": "2023-07-12T17:46:52.656536Z",
     "iopub.status.busy": "2023-07-12T17:46:52.656167Z",
     "iopub.status.idle": "2023-07-12T17:46:52.676833Z",
     "shell.execute_reply": "2023-07-12T17:46:52.675676Z",
     "shell.execute_reply.started": "2023-07-12T17:46:52.656502Z"
    },
    "trusted": true
   },
   "outputs": [
    {
     "data": {
      "text/html": [
       "<div>\n",
       "<style scoped>\n",
       "    .dataframe tbody tr th:only-of-type {\n",
       "        vertical-align: middle;\n",
       "    }\n",
       "\n",
       "    .dataframe tbody tr th {\n",
       "        vertical-align: top;\n",
       "    }\n",
       "\n",
       "    .dataframe thead th {\n",
       "        text-align: right;\n",
       "    }\n",
       "</style>\n",
       "<table border=\"1\" class=\"dataframe\">\n",
       "  <thead>\n",
       "    <tr style=\"text-align: right;\">\n",
       "      <th></th>\n",
       "      <th>Text</th>\n",
       "      <th>Class</th>\n",
       "      <th>ID</th>\n",
       "      <th>Class List</th>\n",
       "      <th>Class Length</th>\n",
       "      <th>Emotions</th>\n",
       "    </tr>\n",
       "  </thead>\n",
       "  <tbody>\n",
       "    <tr>\n",
       "      <th>0</th>\n",
       "      <td>My favourite food is anything I didn't have to...</td>\n",
       "      <td>27</td>\n",
       "      <td>eebbqej</td>\n",
       "      <td>[27]</td>\n",
       "      <td>1</td>\n",
       "      <td>[neutral]</td>\n",
       "    </tr>\n",
       "    <tr>\n",
       "      <th>1</th>\n",
       "      <td>Now if he does off himself, everyone will thin...</td>\n",
       "      <td>27</td>\n",
       "      <td>ed00q6i</td>\n",
       "      <td>[27]</td>\n",
       "      <td>1</td>\n",
       "      <td>[neutral]</td>\n",
       "    </tr>\n",
       "    <tr>\n",
       "      <th>2</th>\n",
       "      <td>WHY THE FUCK IS BAYLESS ISOING</td>\n",
       "      <td>2</td>\n",
       "      <td>eezlygj</td>\n",
       "      <td>[2]</td>\n",
       "      <td>1</td>\n",
       "      <td>[anger]</td>\n",
       "    </tr>\n",
       "    <tr>\n",
       "      <th>3</th>\n",
       "      <td>To make her feel threatened</td>\n",
       "      <td>14</td>\n",
       "      <td>ed7ypvh</td>\n",
       "      <td>[14]</td>\n",
       "      <td>1</td>\n",
       "      <td>[fear]</td>\n",
       "    </tr>\n",
       "    <tr>\n",
       "      <th>4</th>\n",
       "      <td>Dirty Southern Wankers</td>\n",
       "      <td>3</td>\n",
       "      <td>ed0bdzj</td>\n",
       "      <td>[3]</td>\n",
       "      <td>1</td>\n",
       "      <td>[annoyance]</td>\n",
       "    </tr>\n",
       "  </tbody>\n",
       "</table>\n",
       "</div>"
      ],
      "text/plain": [
       "                                                Text Class       ID  \\\n",
       "0  My favourite food is anything I didn't have to...    27  eebbqej   \n",
       "1  Now if he does off himself, everyone will thin...    27  ed00q6i   \n",
       "2                     WHY THE FUCK IS BAYLESS ISOING     2  eezlygj   \n",
       "3                        To make her feel threatened    14  ed7ypvh   \n",
       "4                             Dirty Southern Wankers     3  ed0bdzj   \n",
       "\n",
       "  Class List  Class Length     Emotions  \n",
       "0       [27]             1    [neutral]  \n",
       "1       [27]             1    [neutral]  \n",
       "2        [2]             1      [anger]  \n",
       "3       [14]             1       [fear]  \n",
       "4        [3]             1  [annoyance]  "
      ]
     },
     "execution_count": 23,
     "metadata": {},
     "output_type": "execute_result"
    }
   ],
   "source": [
    "train_data.head()"
   ]
  },
  {
   "cell_type": "code",
   "execution_count": 24,
   "metadata": {
    "execution": {
     "iopub.execute_input": "2023-07-12T17:46:52.679038Z",
     "iopub.status.busy": "2023-07-12T17:46:52.678651Z",
     "iopub.status.idle": "2023-07-12T17:46:52.687365Z",
     "shell.execute_reply": "2023-07-12T17:46:52.686308Z",
     "shell.execute_reply.started": "2023-07-12T17:46:52.678982Z"
    },
    "trusted": true
   },
   "outputs": [],
   "source": [
    "def EmotionMapping(emotion_list):\n",
    "    map_list = []\n",
    "    \n",
    "    for i in emotion_list:\n",
    "        if i in ekman_mapping['anger']:\n",
    "            map_list.append('anger')\n",
    "        if i in ekman_mapping['disgust']:\n",
    "            map_list.append('disgust')\n",
    "        if i in ekman_mapping['fear']:\n",
    "            map_list.append('fear')\n",
    "        if i in ekman_mapping['joy']:\n",
    "            map_list.append('joy')\n",
    "        if i in ekman_mapping['sadness']:\n",
    "            map_list.append('sadness')\n",
    "        if i in ekman_mapping['surprise']:\n",
    "            map_list.append('surprise')\n",
    "        if i == 'neutral':\n",
    "            map_list.append('neutral')\n",
    "            \n",
    "    return map_list"
   ]
  },
  {
   "cell_type": "code",
   "execution_count": 25,
   "metadata": {
    "execution": {
     "iopub.execute_input": "2023-07-12T17:46:52.689707Z",
     "iopub.status.busy": "2023-07-12T17:46:52.688684Z",
     "iopub.status.idle": "2023-07-12T17:46:52.787506Z",
     "shell.execute_reply": "2023-07-12T17:46:52.786476Z",
     "shell.execute_reply.started": "2023-07-12T17:46:52.689671Z"
    },
    "trusted": true
   },
   "outputs": [],
   "source": [
    "train_data['Mapped Emotions'] = train_data['Emotions'].apply(EmotionMapping)\n",
    "valid_data['Mapped Emotions'] = valid_data['Emotions'].apply(EmotionMapping)\n",
    "test_data['Mapped Emotions'] = test_data['Emotions'].apply(EmotionMapping)"
   ]
  },
  {
   "cell_type": "code",
   "execution_count": 26,
   "metadata": {
    "execution": {
     "iopub.execute_input": "2023-07-12T17:46:52.789876Z",
     "iopub.status.busy": "2023-07-12T17:46:52.789246Z",
     "iopub.status.idle": "2023-07-12T17:46:52.829260Z",
     "shell.execute_reply": "2023-07-12T17:46:52.828305Z",
     "shell.execute_reply.started": "2023-07-12T17:46:52.789833Z"
    },
    "trusted": true
   },
   "outputs": [
    {
     "data": {
      "text/plain": [
       "Mapped Emotions\n",
       "[joy]                       12920\n",
       "[neutral]                   12823\n",
       "[anger]                      3878\n",
       "[surprise]                   3553\n",
       "[joy, joy]                   2129\n",
       "                            ...  \n",
       "[fear, sadness, sadness]        1\n",
       "[joy, anger, disgust]           1\n",
       "[joy, fear, surprise]           1\n",
       "[disgust, fear, joy]            1\n",
       "[joy, anger, joy, joy]          1\n",
       "Name: count, Length: 166, dtype: int64"
      ]
     },
     "execution_count": 26,
     "metadata": {},
     "output_type": "execute_result"
    }
   ],
   "source": [
    "train_data[\"Mapped Emotions\"].value_counts()"
   ]
  },
  {
   "cell_type": "code",
   "execution_count": 27,
   "metadata": {
    "execution": {
     "iopub.execute_input": "2023-07-12T17:46:52.832161Z",
     "iopub.status.busy": "2023-07-12T17:46:52.831377Z",
     "iopub.status.idle": "2023-07-12T17:46:52.854234Z",
     "shell.execute_reply": "2023-07-12T17:46:52.853224Z",
     "shell.execute_reply.started": "2023-07-12T17:46:52.832115Z"
    },
    "trusted": true
   },
   "outputs": [],
   "source": [
    "train_data['anger'] = np.zeros((len(train_data),1))\n",
    "train_data['disgust'] = np.zeros((len(train_data),1))\n",
    "train_data['fear'] = np.zeros((len(train_data),1))\n",
    "train_data['joy'] = np.zeros((len(train_data),1))\n",
    "train_data['sadness'] = np.zeros((len(train_data),1))\n",
    "train_data['surprise'] = np.zeros((len(train_data),1))\n",
    "train_data['neutral'] = np.zeros((len(train_data),1))\n",
    "\n",
    "valid_data['anger'] = np.zeros((len(valid_data),1))\n",
    "valid_data['disgust'] = np.zeros((len(valid_data),1))\n",
    "valid_data['fear'] = np.zeros((len(valid_data),1))\n",
    "valid_data['joy'] = np.zeros((len(valid_data),1))\n",
    "valid_data['sadness'] = np.zeros((len(valid_data),1))\n",
    "valid_data['surprise'] = np.zeros((len(valid_data),1))\n",
    "valid_data['neutral'] = np.zeros((len(valid_data),1))\n",
    "\n",
    "test_data['anger'] = np.zeros((len(test_data),1))\n",
    "test_data['disgust'] = np.zeros((len(test_data),1))\n",
    "test_data['fear'] = np.zeros((len(test_data),1))\n",
    "test_data['joy'] = np.zeros((len(test_data),1))\n",
    "test_data['sadness'] = np.zeros((len(test_data),1))\n",
    "test_data['surprise'] = np.zeros((len(test_data),1))\n",
    "test_data['neutral'] = np.zeros((len(test_data),1))"
   ]
  },
  {
   "cell_type": "code",
   "execution_count": 28,
   "metadata": {
    "execution": {
     "iopub.execute_input": "2023-07-12T17:46:52.856258Z",
     "iopub.status.busy": "2023-07-12T17:46:52.855720Z",
     "iopub.status.idle": "2023-07-12T17:46:53.121928Z",
     "shell.execute_reply": "2023-07-12T17:46:53.120903Z",
     "shell.execute_reply.started": "2023-07-12T17:46:52.856226Z"
    },
    "trusted": true
   },
   "outputs": [],
   "source": [
    "for i in ['anger', 'disgust', 'fear', 'joy', 'sadness', 'surprise','neutral']:\n",
    "    train_data[i] = train_data['Mapped Emotions'].apply(lambda x: 1 if i in x else 0)\n",
    "    valid_data[i] = valid_data['Mapped Emotions'].apply(lambda x: 1 if i in x else 0)\n",
    "    test_data[i] = test_data['Mapped Emotions'].apply(lambda x: 1 if i in x else 0)"
   ]
  },
  {
   "cell_type": "code",
   "execution_count": 29,
   "metadata": {
    "execution": {
     "iopub.execute_input": "2023-07-12T17:46:53.124188Z",
     "iopub.status.busy": "2023-07-12T17:46:53.123425Z",
     "iopub.status.idle": "2023-07-12T17:46:53.147933Z",
     "shell.execute_reply": "2023-07-12T17:46:53.146545Z",
     "shell.execute_reply.started": "2023-07-12T17:46:53.124151Z"
    },
    "trusted": true
   },
   "outputs": [
    {
     "data": {
      "text/html": [
       "<div>\n",
       "<style scoped>\n",
       "    .dataframe tbody tr th:only-of-type {\n",
       "        vertical-align: middle;\n",
       "    }\n",
       "\n",
       "    .dataframe tbody tr th {\n",
       "        vertical-align: top;\n",
       "    }\n",
       "\n",
       "    .dataframe thead th {\n",
       "        text-align: right;\n",
       "    }\n",
       "</style>\n",
       "<table border=\"1\" class=\"dataframe\">\n",
       "  <thead>\n",
       "    <tr style=\"text-align: right;\">\n",
       "      <th></th>\n",
       "      <th>Text</th>\n",
       "      <th>Class</th>\n",
       "      <th>ID</th>\n",
       "      <th>Class List</th>\n",
       "      <th>Class Length</th>\n",
       "      <th>Emotions</th>\n",
       "      <th>Mapped Emotions</th>\n",
       "      <th>anger</th>\n",
       "      <th>disgust</th>\n",
       "      <th>fear</th>\n",
       "      <th>joy</th>\n",
       "      <th>sadness</th>\n",
       "      <th>surprise</th>\n",
       "      <th>neutral</th>\n",
       "    </tr>\n",
       "  </thead>\n",
       "  <tbody>\n",
       "    <tr>\n",
       "      <th>0</th>\n",
       "      <td>My favourite food is anything I didn't have to...</td>\n",
       "      <td>27</td>\n",
       "      <td>eebbqej</td>\n",
       "      <td>[27]</td>\n",
       "      <td>1</td>\n",
       "      <td>[neutral]</td>\n",
       "      <td>[neutral]</td>\n",
       "      <td>0</td>\n",
       "      <td>0</td>\n",
       "      <td>0</td>\n",
       "      <td>0</td>\n",
       "      <td>0</td>\n",
       "      <td>0</td>\n",
       "      <td>1</td>\n",
       "    </tr>\n",
       "    <tr>\n",
       "      <th>1</th>\n",
       "      <td>Now if he does off himself, everyone will thin...</td>\n",
       "      <td>27</td>\n",
       "      <td>ed00q6i</td>\n",
       "      <td>[27]</td>\n",
       "      <td>1</td>\n",
       "      <td>[neutral]</td>\n",
       "      <td>[neutral]</td>\n",
       "      <td>0</td>\n",
       "      <td>0</td>\n",
       "      <td>0</td>\n",
       "      <td>0</td>\n",
       "      <td>0</td>\n",
       "      <td>0</td>\n",
       "      <td>1</td>\n",
       "    </tr>\n",
       "    <tr>\n",
       "      <th>2</th>\n",
       "      <td>WHY THE FUCK IS BAYLESS ISOING</td>\n",
       "      <td>2</td>\n",
       "      <td>eezlygj</td>\n",
       "      <td>[2]</td>\n",
       "      <td>1</td>\n",
       "      <td>[anger]</td>\n",
       "      <td>[anger]</td>\n",
       "      <td>1</td>\n",
       "      <td>0</td>\n",
       "      <td>0</td>\n",
       "      <td>0</td>\n",
       "      <td>0</td>\n",
       "      <td>0</td>\n",
       "      <td>0</td>\n",
       "    </tr>\n",
       "    <tr>\n",
       "      <th>3</th>\n",
       "      <td>To make her feel threatened</td>\n",
       "      <td>14</td>\n",
       "      <td>ed7ypvh</td>\n",
       "      <td>[14]</td>\n",
       "      <td>1</td>\n",
       "      <td>[fear]</td>\n",
       "      <td>[fear]</td>\n",
       "      <td>0</td>\n",
       "      <td>0</td>\n",
       "      <td>1</td>\n",
       "      <td>0</td>\n",
       "      <td>0</td>\n",
       "      <td>0</td>\n",
       "      <td>0</td>\n",
       "    </tr>\n",
       "    <tr>\n",
       "      <th>4</th>\n",
       "      <td>Dirty Southern Wankers</td>\n",
       "      <td>3</td>\n",
       "      <td>ed0bdzj</td>\n",
       "      <td>[3]</td>\n",
       "      <td>1</td>\n",
       "      <td>[annoyance]</td>\n",
       "      <td>[anger]</td>\n",
       "      <td>1</td>\n",
       "      <td>0</td>\n",
       "      <td>0</td>\n",
       "      <td>0</td>\n",
       "      <td>0</td>\n",
       "      <td>0</td>\n",
       "      <td>0</td>\n",
       "    </tr>\n",
       "  </tbody>\n",
       "</table>\n",
       "</div>"
      ],
      "text/plain": [
       "                                                Text Class       ID  \\\n",
       "0  My favourite food is anything I didn't have to...    27  eebbqej   \n",
       "1  Now if he does off himself, everyone will thin...    27  ed00q6i   \n",
       "2                     WHY THE FUCK IS BAYLESS ISOING     2  eezlygj   \n",
       "3                        To make her feel threatened    14  ed7ypvh   \n",
       "4                             Dirty Southern Wankers     3  ed0bdzj   \n",
       "\n",
       "  Class List  Class Length     Emotions Mapped Emotions  anger  disgust  fear  \\\n",
       "0       [27]             1    [neutral]       [neutral]      0        0     0   \n",
       "1       [27]             1    [neutral]       [neutral]      0        0     0   \n",
       "2        [2]             1      [anger]         [anger]      1        0     0   \n",
       "3       [14]             1       [fear]          [fear]      0        0     1   \n",
       "4        [3]             1  [annoyance]         [anger]      1        0     0   \n",
       "\n",
       "   joy  sadness  surprise  neutral  \n",
       "0    0        0         0        1  \n",
       "1    0        0         0        1  \n",
       "2    0        0         0        0  \n",
       "3    0        0         0        0  \n",
       "4    0        0         0        0  "
      ]
     },
     "execution_count": 29,
     "metadata": {},
     "output_type": "execute_result"
    }
   ],
   "source": [
    "train_data.head()"
   ]
  },
  {
   "cell_type": "code",
   "execution_count": 30,
   "metadata": {
    "execution": {
     "iopub.execute_input": "2023-07-12T17:46:53.150709Z",
     "iopub.status.busy": "2023-07-12T17:46:53.150180Z",
     "iopub.status.idle": "2023-07-12T17:46:53.167785Z",
     "shell.execute_reply": "2023-07-12T17:46:53.166860Z",
     "shell.execute_reply.started": "2023-07-12T17:46:53.150595Z"
    },
    "trusted": true
   },
   "outputs": [],
   "source": [
    "train_data.drop([\"Class\", \"ID\", \"Class List\", \"Class Length\", \"Emotions\", \"Mapped Emotions\"], axis=1, inplace=True)\n",
    "valid_data.drop([\"Class\", \"ID\", \"Class List\", \"Class Length\", \"Emotions\", \"Mapped Emotions\"], axis=1, inplace=True)\n",
    "test_data.drop([\"Class\", \"ID\", \"Class List\", \"Class Length\", \"Emotions\", \"Mapped Emotions\"], axis=1, inplace=True)"
   ]
  },
  {
   "cell_type": "markdown",
   "metadata": {},
   "source": [
    "# Data PreProcessing"
   ]
  },
  {
   "cell_type": "code",
   "execution_count": 31,
   "metadata": {
    "execution": {
     "iopub.execute_input": "2023-07-12T17:46:53.169473Z",
     "iopub.status.busy": "2023-07-12T17:46:53.169114Z",
     "iopub.status.idle": "2023-07-12T17:46:53.179383Z",
     "shell.execute_reply": "2023-07-12T17:46:53.178075Z",
     "shell.execute_reply.started": "2023-07-12T17:46:53.169431Z"
    },
    "trusted": true
   },
   "outputs": [],
   "source": [
    "def preprocess(sentence):\n",
    "    stop_words = set(stopwords.words('english'))\n",
    "    lemmatizer = WordNetLemmatizer()\n",
    "    sentence = re.sub('[^A-z]', ' ', sentence)\n",
    "    negative = ['not', 'neither', 'nor', 'but', 'however', 'although', 'nonetheless', 'despite', 'except',\n",
    "                        'even though', 'yet']\n",
    "    stop_words = [z for z in stop_words if z not in negative]\n",
    "    preprocessed_tokens = [lemmatizer.lemmatize(contractions.fix(temp.lower())) for temp in sentence.split() if temp not in stop_words] #lemmatization\n",
    "    return ' '.join([x for x in preprocessed_tokens]).strip()\n",
    "\n",
    "def text_preprocessing_pipeline(text):\n",
    "    '''Cleaning and parsing the text.'''\n",
    "    text = preprocess(text)\n",
    "    return text"
   ]
  },
  {
   "cell_type": "code",
   "execution_count": 32,
   "metadata": {
    "execution": {
     "iopub.execute_input": "2023-07-12T17:46:53.182419Z",
     "iopub.status.busy": "2023-07-12T17:46:53.181480Z",
     "iopub.status.idle": "2023-07-12T17:47:09.068106Z",
     "shell.execute_reply": "2023-07-12T17:47:09.067149Z",
     "shell.execute_reply.started": "2023-07-12T17:46:53.182384Z"
    },
    "trusted": true
   },
   "outputs": [],
   "source": [
    "train_data['Text'] = train_data['Text'].apply(lambda x: preprocess(x))"
   ]
  },
  {
   "cell_type": "code",
   "execution_count": 33,
   "metadata": {
    "execution": {
     "iopub.execute_input": "2023-07-12T17:47:09.070215Z",
     "iopub.status.busy": "2023-07-12T17:47:09.069373Z",
     "iopub.status.idle": "2023-07-12T17:47:10.884378Z",
     "shell.execute_reply": "2023-07-12T17:47:10.883315Z",
     "shell.execute_reply.started": "2023-07-12T17:47:09.070179Z"
    },
    "trusted": true
   },
   "outputs": [],
   "source": [
    "valid_data[\"Text\"] = valid_data[\"Text\"].apply(lambda x: preprocess(x))"
   ]
  },
  {
   "cell_type": "code",
   "execution_count": 34,
   "metadata": {
    "execution": {
     "iopub.execute_input": "2023-07-12T17:47:10.886270Z",
     "iopub.status.busy": "2023-07-12T17:47:10.885816Z",
     "iopub.status.idle": "2023-07-12T17:47:12.622750Z",
     "shell.execute_reply": "2023-07-12T17:47:12.621757Z",
     "shell.execute_reply.started": "2023-07-12T17:47:10.886234Z"
    },
    "trusted": true
   },
   "outputs": [],
   "source": [
    "test_data[\"Text\"] = test_data[\"Text\"].apply(text_preprocessing_pipeline)"
   ]
  },
  {
   "cell_type": "code",
   "execution_count": 35,
   "metadata": {
    "execution": {
     "iopub.execute_input": "2023-07-12T17:47:12.624658Z",
     "iopub.status.busy": "2023-07-12T17:47:12.624245Z",
     "iopub.status.idle": "2023-07-12T17:47:12.736711Z",
     "shell.execute_reply": "2023-07-12T17:47:12.735565Z",
     "shell.execute_reply.started": "2023-07-12T17:47:12.624620Z"
    },
    "trusted": true
   },
   "outputs": [
    {
     "data": {
      "text/plain": [
       "count    43410.000000\n",
       "mean         7.761253\n",
       "std          3.956936\n",
       "min          0.000000\n",
       "5%           2.000000\n",
       "50%          7.000000\n",
       "97%         16.000000\n",
       "max         33.000000\n",
       "Name: Text, dtype: float64"
      ]
     },
     "execution_count": 35,
     "metadata": {},
     "output_type": "execute_result"
    }
   ],
   "source": [
    "pd.Series(train_data[\"Text\"]).str.split().str.len().describe(percentiles=[0.05, 0.97])"
   ]
  },
  {
   "cell_type": "code",
   "execution_count": 36,
   "metadata": {
    "execution": {
     "iopub.execute_input": "2023-07-12T17:47:12.744616Z",
     "iopub.status.busy": "2023-07-12T17:47:12.744243Z",
     "iopub.status.idle": "2023-07-12T17:47:12.758306Z",
     "shell.execute_reply": "2023-07-12T17:47:12.757064Z",
     "shell.execute_reply.started": "2023-07-12T17:47:12.744587Z"
    },
    "trusted": true
   },
   "outputs": [
    {
     "data": {
      "text/html": [
       "<div>\n",
       "<style scoped>\n",
       "    .dataframe tbody tr th:only-of-type {\n",
       "        vertical-align: middle;\n",
       "    }\n",
       "\n",
       "    .dataframe tbody tr th {\n",
       "        vertical-align: top;\n",
       "    }\n",
       "\n",
       "    .dataframe thead th {\n",
       "        text-align: right;\n",
       "    }\n",
       "</style>\n",
       "<table border=\"1\" class=\"dataframe\">\n",
       "  <thead>\n",
       "    <tr style=\"text-align: right;\">\n",
       "      <th></th>\n",
       "      <th>Text</th>\n",
       "      <th>anger</th>\n",
       "      <th>disgust</th>\n",
       "      <th>fear</th>\n",
       "      <th>joy</th>\n",
       "      <th>sadness</th>\n",
       "      <th>surprise</th>\n",
       "      <th>neutral</th>\n",
       "    </tr>\n",
       "  </thead>\n",
       "  <tbody>\n",
       "    <tr>\n",
       "      <th>0</th>\n",
       "      <td>my favourite food anything i cook</td>\n",
       "      <td>0</td>\n",
       "      <td>0</td>\n",
       "      <td>0</td>\n",
       "      <td>0</td>\n",
       "      <td>0</td>\n",
       "      <td>0</td>\n",
       "      <td>1</td>\n",
       "    </tr>\n",
       "    <tr>\n",
       "      <th>1</th>\n",
       "      <td>now everyone think he laugh screwing people in...</td>\n",
       "      <td>0</td>\n",
       "      <td>0</td>\n",
       "      <td>0</td>\n",
       "      <td>0</td>\n",
       "      <td>0</td>\n",
       "      <td>0</td>\n",
       "      <td>1</td>\n",
       "    </tr>\n",
       "    <tr>\n",
       "      <th>2</th>\n",
       "      <td>why the fuck is bayless isoing</td>\n",
       "      <td>1</td>\n",
       "      <td>0</td>\n",
       "      <td>0</td>\n",
       "      <td>0</td>\n",
       "      <td>0</td>\n",
       "      <td>0</td>\n",
       "      <td>0</td>\n",
       "    </tr>\n",
       "    <tr>\n",
       "      <th>3</th>\n",
       "      <td>to make feel threatened</td>\n",
       "      <td>0</td>\n",
       "      <td>0</td>\n",
       "      <td>1</td>\n",
       "      <td>0</td>\n",
       "      <td>0</td>\n",
       "      <td>0</td>\n",
       "      <td>0</td>\n",
       "    </tr>\n",
       "    <tr>\n",
       "      <th>4</th>\n",
       "      <td>dirty southern wanker</td>\n",
       "      <td>1</td>\n",
       "      <td>0</td>\n",
       "      <td>0</td>\n",
       "      <td>0</td>\n",
       "      <td>0</td>\n",
       "      <td>0</td>\n",
       "      <td>0</td>\n",
       "    </tr>\n",
       "  </tbody>\n",
       "</table>\n",
       "</div>"
      ],
      "text/plain": [
       "                                                Text  anger  disgust  fear  \\\n",
       "0                  my favourite food anything i cook      0        0     0   \n",
       "1  now everyone think he laugh screwing people in...      0        0     0   \n",
       "2                     why the fuck is bayless isoing      1        0     0   \n",
       "3                            to make feel threatened      0        0     1   \n",
       "4                              dirty southern wanker      1        0     0   \n",
       "\n",
       "   joy  sadness  surprise  neutral  \n",
       "0    0        0         0        1  \n",
       "1    0        0         0        1  \n",
       "2    0        0         0        0  \n",
       "3    0        0         0        0  \n",
       "4    0        0         0        0  "
      ]
     },
     "execution_count": 36,
     "metadata": {},
     "output_type": "execute_result"
    }
   ],
   "source": [
    "train_data.head()"
   ]
  },
  {
   "cell_type": "code",
   "execution_count": 37,
   "metadata": {
    "execution": {
     "iopub.execute_input": "2023-07-12T17:47:12.760726Z",
     "iopub.status.busy": "2023-07-12T17:47:12.760339Z",
     "iopub.status.idle": "2023-07-12T17:47:12.786269Z",
     "shell.execute_reply": "2023-07-12T17:47:12.785194Z",
     "shell.execute_reply.started": "2023-07-12T17:47:12.760691Z"
    },
    "trusted": true
   },
   "outputs": [
    {
     "name": "stdout",
     "output_type": "stream",
     "text": [
      "anger:\n",
      " anger\n",
      "0    37831\n",
      "1     5579\n",
      "Name: count, dtype: int64\n",
      "\n",
      "\n",
      "disgust:\n",
      " disgust\n",
      "0    42617\n",
      "1      793\n",
      "Name: count, dtype: int64\n",
      "\n",
      "\n",
      "fear:\n",
      " fear\n",
      "0    42684\n",
      "1      726\n",
      "Name: count, dtype: int64\n",
      "\n",
      "\n",
      "joy:\n",
      " joy\n",
      "0    26000\n",
      "1    17410\n",
      "Name: count, dtype: int64\n",
      "\n",
      "\n",
      "sadness:\n",
      " sadness\n",
      "0    40147\n",
      "1     3263\n",
      "Name: count, dtype: int64\n",
      "\n",
      "\n",
      "surprise:\n",
      " surprise\n",
      "0    38043\n",
      "1     5367\n",
      "Name: count, dtype: int64\n",
      "\n",
      "\n",
      "neutral:\n",
      " neutral\n",
      "0    29191\n",
      "1    14219\n",
      "Name: count, dtype: int64\n",
      "\n",
      "\n"
     ]
    }
   ],
   "source": [
    "for col in train_data.columns[1:]:\n",
    "    print(f\"{col}:\\n\",train_data[col].value_counts())\n",
    "    print(\"\\n\")"
   ]
  },
  {
   "cell_type": "markdown",
   "metadata": {},
   "source": [
    "# Model_1 (Baseline RoBERTa with Freezed Layers)"
   ]
  },
  {
   "cell_type": "code",
   "execution_count": 38,
   "metadata": {
    "execution": {
     "iopub.execute_input": "2023-07-12T17:47:12.788374Z",
     "iopub.status.busy": "2023-07-12T17:47:12.787695Z",
     "iopub.status.idle": "2023-07-12T17:47:12.797678Z",
     "shell.execute_reply": "2023-07-12T17:47:12.796592Z",
     "shell.execute_reply.started": "2023-07-12T17:47:12.788338Z"
    },
    "trusted": true
   },
   "outputs": [],
   "source": [
    "train_labels = train_data.drop(\"Text\", axis=1)\n",
    "valid_labels = valid_data.drop(\"Text\", axis=1)\n",
    "test_labels = test_data.drop(\"Text\", axis=1)"
   ]
  },
  {
   "cell_type": "code",
   "execution_count": 39,
   "metadata": {
    "execution": {
     "iopub.execute_input": "2023-07-12T17:47:12.800098Z",
     "iopub.status.busy": "2023-07-12T17:47:12.799314Z",
     "iopub.status.idle": "2023-07-12T17:47:14.383226Z",
     "shell.execute_reply": "2023-07-12T17:47:14.382215Z",
     "shell.execute_reply.started": "2023-07-12T17:47:12.800065Z"
    },
    "trusted": true
   },
   "outputs": [],
   "source": [
    "from transformers import RobertaTokenizerFast\n",
    "tokenizer = RobertaTokenizerFast.from_pretrained(\"roberta-base\")"
   ]
  },
  {
   "cell_type": "code",
   "execution_count": 40,
   "metadata": {
    "execution": {
     "iopub.execute_input": "2023-07-12T17:47:14.385313Z",
     "iopub.status.busy": "2023-07-12T17:47:14.384922Z",
     "iopub.status.idle": "2023-07-12T17:47:14.392769Z",
     "shell.execute_reply": "2023-07-12T17:47:14.391811Z",
     "shell.execute_reply.started": "2023-07-12T17:47:14.385274Z"
    },
    "trusted": true
   },
   "outputs": [],
   "source": [
    "def roberta_encode(data, maximum_length, tokenizer) :\n",
    "    \n",
    "    \n",
    "    input_ids = []\n",
    "    attention_masks = []\n",
    "    token_type_ids = []\n",
    "    for i in range(len(data['Text'])):\n",
    "        \n",
    "        encoded = tokenizer.encode_plus(data[\"Text\"].iloc[i],\n",
    "                                        add_special_tokens=True,\n",
    "                                        max_length=maximum_length,\n",
    "                                        pad_to_max_length=True,\n",
    "                                        return_attention_mask=True,\n",
    "                                        truncation=True,\n",
    "                                        return_token_type_ids=True)\n",
    "      \n",
    "        input_ids.append(encoded['input_ids'])\n",
    "        attention_masks.append(encoded['attention_mask'])\n",
    "        token_type_ids.append(encoded[\"token_type_ids\"])\n",
    "        \n",
    "        \n",
    "    return np.array(input_ids),np.array(attention_masks),np.array(token_type_ids)"
   ]
  },
  {
   "cell_type": "code",
   "execution_count": 41,
   "metadata": {
    "execution": {
     "iopub.execute_input": "2023-07-12T17:47:14.395640Z",
     "iopub.status.busy": "2023-07-12T17:47:14.394901Z",
     "iopub.status.idle": "2023-07-12T17:47:14.431477Z",
     "shell.execute_reply": "2023-07-12T17:47:14.430508Z",
     "shell.execute_reply.started": "2023-07-12T17:47:14.395605Z"
    },
    "trusted": true
   },
   "outputs": [
    {
     "data": {
      "text/plain": [
       "43410"
      ]
     },
     "execution_count": 41,
     "metadata": {},
     "output_type": "execute_result"
    }
   ],
   "source": [
    "len(train_data.Text)"
   ]
  },
  {
   "cell_type": "code",
   "execution_count": 42,
   "metadata": {
    "execution": {
     "iopub.execute_input": "2023-07-12T17:47:14.433383Z",
     "iopub.status.busy": "2023-07-12T17:47:14.432817Z",
     "iopub.status.idle": "2023-07-12T17:47:22.550889Z",
     "shell.execute_reply": "2023-07-12T17:47:22.549826Z",
     "shell.execute_reply.started": "2023-07-12T17:47:14.433345Z"
    },
    "trusted": true
   },
   "outputs": [],
   "source": [
    "max_len = max([len(x.split()) for x in train_data['Text']])\n",
    "train_input_ids,train_attention_masks, train_token_type_ids = roberta_encode(train_data, max_len, tokenizer)\n",
    "valid_input_ids,valid_attention_masks, valid_token_type_ids = roberta_encode(valid_data, max_len, tokenizer)\n",
    "test_input_ids,test_attention_masks, test_token_type_ids = roberta_encode(test_data, max_len, tokenizer)"
   ]
  },
  {
   "cell_type": "code",
   "execution_count": 43,
   "metadata": {
    "execution": {
     "iopub.execute_input": "2023-07-12T17:47:22.553312Z",
     "iopub.status.busy": "2023-07-12T17:47:22.552621Z",
     "iopub.status.idle": "2023-07-12T17:47:22.562581Z",
     "shell.execute_reply": "2023-07-12T17:47:22.560850Z",
     "shell.execute_reply.started": "2023-07-12T17:47:22.553271Z"
    },
    "trusted": true
   },
   "outputs": [
    {
     "data": {
      "text/plain": [
       "(array([   0, 4783, 5548,  689,  932,  939, 7142,    2,    1,    1,    1,\n",
       "           1,    1,    1,    1,    1,    1,    1,    1,    1,    1,    1,\n",
       "           1,    1,    1,    1,    1,    1,    1,    1,    1,    1,    1]),\n",
       " array([1, 1, 1, 1, 1, 1, 1, 1, 0, 0, 0, 0, 0, 0, 0, 0, 0, 0, 0, 0, 0, 0,\n",
       "        0, 0, 0, 0, 0, 0, 0, 0, 0, 0, 0]),\n",
       " array([0, 0, 0, 0, 0, 0, 0, 0, 0, 0, 0, 0, 0, 0, 0, 0, 0, 0, 0, 0, 0, 0,\n",
       "        0, 0, 0, 0, 0, 0, 0, 0, 0, 0, 0]))"
      ]
     },
     "execution_count": 43,
     "metadata": {},
     "output_type": "execute_result"
    }
   ],
   "source": [
    "train_input_ids[0], train_attention_masks[0], train_token_type_ids[0]"
   ]
  },
  {
   "cell_type": "code",
   "execution_count": 44,
   "metadata": {
    "execution": {
     "iopub.execute_input": "2023-07-12T17:47:22.565779Z",
     "iopub.status.busy": "2023-07-12T17:47:22.564531Z",
     "iopub.status.idle": "2023-07-12T17:47:22.574601Z",
     "shell.execute_reply": "2023-07-12T17:47:22.573200Z",
     "shell.execute_reply.started": "2023-07-12T17:47:22.565738Z"
    },
    "trusted": true
   },
   "outputs": [
    {
     "data": {
      "text/plain": [
       "((43410, 7), (5426, 7), (5427, 7))"
      ]
     },
     "execution_count": 44,
     "metadata": {},
     "output_type": "execute_result"
    }
   ],
   "source": [
    "train_labels.shape, valid_labels.shape, test_labels.shape"
   ]
  },
  {
   "cell_type": "code",
   "execution_count": 45,
   "metadata": {
    "execution": {
     "iopub.execute_input": "2023-07-12T17:47:22.577221Z",
     "iopub.status.busy": "2023-07-12T17:47:22.576588Z",
     "iopub.status.idle": "2023-07-12T17:47:22.587983Z",
     "shell.execute_reply": "2023-07-12T17:47:22.586872Z",
     "shell.execute_reply.started": "2023-07-12T17:47:22.577183Z"
    },
    "trusted": true
   },
   "outputs": [
    {
     "data": {
      "text/plain": [
       "((43410, 33), (5426, 33), (5427, 33))"
      ]
     },
     "execution_count": 45,
     "metadata": {},
     "output_type": "execute_result"
    }
   ],
   "source": [
    "train_input_ids.shape, valid_input_ids.shape, test_input_ids.shape"
   ]
  },
  {
   "cell_type": "code",
   "execution_count": 46,
   "metadata": {
    "execution": {
     "iopub.execute_input": "2023-07-12T17:47:22.590097Z",
     "iopub.status.busy": "2023-07-12T17:47:22.589378Z",
     "iopub.status.idle": "2023-07-12T17:47:22.600480Z",
     "shell.execute_reply": "2023-07-12T17:47:22.599465Z",
     "shell.execute_reply.started": "2023-07-12T17:47:22.590058Z"
    },
    "trusted": true
   },
   "outputs": [
    {
     "data": {
      "text/plain": [
       "((43410, 33), (5426, 33), (5427, 33))"
      ]
     },
     "execution_count": 46,
     "metadata": {},
     "output_type": "execute_result"
    }
   ],
   "source": [
    "train_attention_masks.shape, valid_attention_masks.shape, test_attention_masks.shape"
   ]
  },
  {
   "cell_type": "code",
   "execution_count": 47,
   "metadata": {
    "execution": {
     "iopub.execute_input": "2023-07-12T17:47:22.603292Z",
     "iopub.status.busy": "2023-07-12T17:47:22.602197Z",
     "iopub.status.idle": "2023-07-12T17:47:22.613066Z",
     "shell.execute_reply": "2023-07-12T17:47:22.611707Z",
     "shell.execute_reply.started": "2023-07-12T17:47:22.603250Z"
    },
    "trusted": true
   },
   "outputs": [
    {
     "data": {
      "text/plain": [
       "((43410, 33), (5426, 33), (5427, 33))"
      ]
     },
     "execution_count": 47,
     "metadata": {},
     "output_type": "execute_result"
    }
   ],
   "source": [
    "train_token_type_ids.shape, valid_token_type_ids.shape, test_token_type_ids.shape"
   ]
  },
  {
   "cell_type": "code",
   "execution_count": 48,
   "metadata": {
    "execution": {
     "iopub.execute_input": "2023-07-12T17:47:22.615173Z",
     "iopub.status.busy": "2023-07-12T17:47:22.614555Z",
     "iopub.status.idle": "2023-07-12T17:47:22.632481Z",
     "shell.execute_reply": "2023-07-12T17:47:22.631555Z",
     "shell.execute_reply.started": "2023-07-12T17:47:22.615136Z"
    },
    "trusted": true
   },
   "outputs": [
    {
     "data": {
      "text/html": [
       "<div>\n",
       "<style scoped>\n",
       "    .dataframe tbody tr th:only-of-type {\n",
       "        vertical-align: middle;\n",
       "    }\n",
       "\n",
       "    .dataframe tbody tr th {\n",
       "        vertical-align: top;\n",
       "    }\n",
       "\n",
       "    .dataframe thead th {\n",
       "        text-align: right;\n",
       "    }\n",
       "</style>\n",
       "<table border=\"1\" class=\"dataframe\">\n",
       "  <thead>\n",
       "    <tr style=\"text-align: right;\">\n",
       "      <th></th>\n",
       "      <th>Text</th>\n",
       "      <th>anger</th>\n",
       "      <th>disgust</th>\n",
       "      <th>fear</th>\n",
       "      <th>joy</th>\n",
       "      <th>sadness</th>\n",
       "      <th>surprise</th>\n",
       "      <th>neutral</th>\n",
       "    </tr>\n",
       "  </thead>\n",
       "  <tbody>\n",
       "    <tr>\n",
       "      <th>0</th>\n",
       "      <td>my favourite food anything i cook</td>\n",
       "      <td>0</td>\n",
       "      <td>0</td>\n",
       "      <td>0</td>\n",
       "      <td>0</td>\n",
       "      <td>0</td>\n",
       "      <td>0</td>\n",
       "      <td>1</td>\n",
       "    </tr>\n",
       "  </tbody>\n",
       "</table>\n",
       "</div>"
      ],
      "text/plain": [
       "                                Text  anger  disgust  fear  joy  sadness  \\\n",
       "0  my favourite food anything i cook      0        0     0    0        0   \n",
       "\n",
       "   surprise  neutral  \n",
       "0         0        1  "
      ]
     },
     "execution_count": 48,
     "metadata": {},
     "output_type": "execute_result"
    }
   ],
   "source": [
    "train_data.head(1)"
   ]
  },
  {
   "cell_type": "code",
   "execution_count": 49,
   "metadata": {
    "execution": {
     "iopub.execute_input": "2023-07-12T17:54:17.953685Z",
     "iopub.status.busy": "2023-07-12T17:54:17.953183Z",
     "iopub.status.idle": "2023-07-12T17:54:17.969048Z",
     "shell.execute_reply": "2023-07-12T17:54:17.968002Z",
     "shell.execute_reply.started": "2023-07-12T17:54:17.953645Z"
    },
    "trusted": true
   },
   "outputs": [],
   "source": [
    "def create_model(bert_model, max_len, num_classes=7):\n",
    "    \n",
    "    input_ids = tf.keras.Input(shape=(max_len,),dtype='int32')\n",
    "    attention_masks = tf.keras.Input(shape=(max_len,),dtype='int32')\n",
    "    token_type_ids = tf.keras.Input(shape=(max_len,),dtype='int32')\n",
    "    \n",
    "    features = bert_model([input_ids,attention_masks, token_type_ids])\n",
    "    fc_1 = tf.keras.layers.Dense(256, activation=\"relu\")(features[1])\n",
    "    dropout_1 = tf.keras.layers.Dropout(0.7)(fc_1)\n",
    "    output = tf.keras.layers.Dense(num_classes, activation='sigmoid')(dropout_1)\n",
    "    \n",
    "    model = tf.keras.models.Model(inputs=[input_ids,attention_masks,token_type_ids], outputs=output)\n",
    "    \n",
    "    model.compile(tf.keras.optimizers.Adam(learning_rate=5e-5),\n",
    "                  loss='binary_crossentropy',\n",
    "                  metrics=['accuracy', tf.keras.metrics.Precision(name='precision')])\n",
    "    return model"
   ]
  },
  {
   "cell_type": "code",
   "execution_count": 50,
   "metadata": {
    "execution": {
     "iopub.execute_input": "2023-07-12T17:57:13.170414Z",
     "iopub.status.busy": "2023-07-12T17:57:13.169268Z",
     "iopub.status.idle": "2023-07-12T17:57:13.176311Z",
     "shell.execute_reply": "2023-07-12T17:57:13.174845Z",
     "shell.execute_reply.started": "2023-07-12T17:57:13.170373Z"
    },
    "trusted": true
   },
   "outputs": [],
   "source": [
    "from tensorflow.keras.callbacks import EarlyStopping\n",
    "es = EarlyStopping(monitor='val_loss', mode='min', verbose=1, patience=2)"
   ]
  },
  {
   "cell_type": "code",
   "execution_count": 51,
   "metadata": {
    "execution": {
     "iopub.execute_input": "2023-07-12T17:57:13.390785Z",
     "iopub.status.busy": "2023-07-12T17:57:13.390457Z",
     "iopub.status.idle": "2023-07-12T17:57:15.861451Z",
     "shell.execute_reply": "2023-07-12T17:57:15.860523Z",
     "shell.execute_reply.started": "2023-07-12T17:57:13.390758Z"
    },
    "trusted": true
   },
   "outputs": [
    {
     "name": "stderr",
     "output_type": "stream",
     "text": [
      "Some weights of the PyTorch model were not used when initializing the TF 2.0 model TFRobertaModel: ['roberta.embeddings.position_ids', 'lm_head.layer_norm.weight', 'lm_head.dense.bias', 'lm_head.layer_norm.bias', 'lm_head.dense.weight', 'lm_head.bias']\n",
      "- This IS expected if you are initializing TFRobertaModel from a PyTorch model trained on another task or with another architecture (e.g. initializing a TFBertForSequenceClassification model from a BertForPreTraining model).\n",
      "- This IS NOT expected if you are initializing TFRobertaModel from a PyTorch model that you expect to be exactly identical (e.g. initializing a TFBertForSequenceClassification model from a BertForSequenceClassification model).\n",
      "Some weights or buffers of the TF 2.0 model TFRobertaModel were not initialized from the PyTorch model and are newly initialized: ['roberta.pooler.dense.weight', 'roberta.pooler.dense.bias']\n",
      "You should probably TRAIN this model on a down-stream task to be able to use it for predictions and inference.\n"
     ]
    }
   ],
   "source": [
    "from transformers import TFRobertaModel\n",
    "roberta_model = TFRobertaModel.from_pretrained('roberta-base')\n",
    "roberta_model.trainable = False"
   ]
  },
  {
   "cell_type": "code",
   "execution_count": 52,
   "metadata": {
    "execution": {
     "iopub.execute_input": "2023-07-12T17:57:15.863922Z",
     "iopub.status.busy": "2023-07-12T17:57:15.863474Z",
     "iopub.status.idle": "2023-07-12T17:57:17.820396Z",
     "shell.execute_reply": "2023-07-12T17:57:17.819435Z",
     "shell.execute_reply.started": "2023-07-12T17:57:15.863886Z"
    },
    "trusted": true
   },
   "outputs": [
    {
     "name": "stdout",
     "output_type": "stream",
     "text": [
      "Model: \"model\"\n",
      "__________________________________________________________________________________________________\n",
      " Layer (type)                   Output Shape         Param #     Connected to                     \n",
      "==================================================================================================\n",
      " input_1 (InputLayer)           [(None, 33)]         0           []                               \n",
      "                                                                                                  \n",
      " input_2 (InputLayer)           [(None, 33)]         0           []                               \n",
      "                                                                                                  \n",
      " input_3 (InputLayer)           [(None, 33)]         0           []                               \n",
      "                                                                                                  \n",
      " tf_roberta_model (TFRobertaMod  TFBaseModelOutputWi  124645632  ['input_1[0][0]',                \n",
      " el)                            thPoolingAndCrossAt               'input_2[0][0]',                \n",
      "                                tentions(last_hidde               'input_3[0][0]']                \n",
      "                                n_state=(None, 33,                                                \n",
      "                                768),                                                             \n",
      "                                 pooler_output=(Non                                               \n",
      "                                e, 768),                                                          \n",
      "                                 past_key_values=No                                               \n",
      "                                ne, hidden_states=N                                               \n",
      "                                one, attentions=Non                                               \n",
      "                                e, cross_attentions                                               \n",
      "                                =None)                                                            \n",
      "                                                                                                  \n",
      " dense (Dense)                  (None, 256)          196864      ['tf_roberta_model[0][1]']       \n",
      "                                                                                                  \n",
      " dropout_37 (Dropout)           (None, 256)          0           ['dense[0][0]']                  \n",
      "                                                                                                  \n",
      " dense_1 (Dense)                (None, 7)            1799        ['dropout_37[0][0]']             \n",
      "                                                                                                  \n",
      "==================================================================================================\n",
      "Total params: 124,844,295\n",
      "Trainable params: 198,663\n",
      "Non-trainable params: 124,645,632\n",
      "__________________________________________________________________________________________________\n"
     ]
    }
   ],
   "source": [
    "model = create_model(roberta_model, max_len)\n",
    "model.summary()"
   ]
  },
  {
   "cell_type": "code",
   "execution_count": 57,
   "metadata": {},
   "outputs": [
    {
     "data": {
      "text/plain": [
       "('C:/Users/dell/Desktop/gradproject/AI04-Grad/multimodel/best-fine_tuned_roberta_emotion\\\\tokenizer_config.json',\n",
       " 'C:/Users/dell/Desktop/gradproject/AI04-Grad/multimodel/best-fine_tuned_roberta_emotion\\\\special_tokens_map.json',\n",
       " 'C:/Users/dell/Desktop/gradproject/AI04-Grad/multimodel/best-fine_tuned_roberta_emotion\\\\vocab.json',\n",
       " 'C:/Users/dell/Desktop/gradproject/AI04-Grad/multimodel/best-fine_tuned_roberta_emotion\\\\merges.txt',\n",
       " 'C:/Users/dell/Desktop/gradproject/AI04-Grad/multimodel/best-fine_tuned_roberta_emotion\\\\added_tokens.json')"
      ]
     },
     "execution_count": 57,
     "metadata": {},
     "output_type": "execute_result"
    }
   ],
   "source": [
    "from transformers import RobertaTokenizer\n",
    "\n",
    "# Load tokenizer from the base RoBERTa model\n",
    "base_model = \"roberta-base\"  # Or any model you fine-tuned from\n",
    "tokenizer = RobertaTokenizer.from_pretrained(base_model)\n",
    "\n",
    "# Save tokenizer files to your directory\n",
    "tokenizer.save_pretrained(\"C:/Users/dell/Desktop/gradproject/AI04-Grad/multimodel/best-fine_tuned_roberta_emotion\")\n"
   ]
  },
  {
   "cell_type": "code",
   "execution_count": 58,
   "metadata": {},
   "outputs": [],
   "source": [
    "model_path = \"C:/Users/dell/Desktop/gradproject/AI04-Grad/multimodel/best-fine_tuned_roberta_emotion\"\n"
   ]
  },
  {
   "cell_type": "code",
   "execution_count": 59,
   "metadata": {},
   "outputs": [
    {
     "name": "stdout",
     "output_type": "stream",
     "text": [
      "Model and tokenizer loaded successfully!\n"
     ]
    }
   ],
   "source": [
    "from transformers import RobertaForSequenceClassification, RobertaTokenizer, AutoConfig\n",
    "\n",
    "model_path = \"C:/Users/dell/Desktop/gradproject/AI04-Grad/multimodel/best-fine_tuned_roberta_emotion\"\n",
    "\n",
    "# Load the configuration\n",
    "config = AutoConfig.from_pretrained(model_path)\n",
    "\n",
    "# Load the pre-trained model\n",
    "model = RobertaForSequenceClassification.from_pretrained(model_path, config=config)\n",
    "\n",
    "# Load the tokenizer\n",
    "tokenizer = RobertaTokenizer.from_pretrained(model_path)\n",
    "\n",
    "print(\"Model and tokenizer loaded successfully!\")\n"
   ]
  },
  {
   "cell_type": "code",
   "execution_count": null,
   "metadata": {},
   "outputs": [
    {
     "name": "stdout",
     "output_type": "stream",
     "text": [
      "tensor([[ 4.7852,  0.3318, -0.7080, -0.6150, -1.3311, -1.2165, -1.3716]],\n",
      "       grad_fn=<AddmmBackward0>)\n"
     ]
    }
   ],
   "source": [
    "text = \"This is a test for the emotion recognition model.\"\n",
    "inputs = tokenizer(text, return_tensors=\"pt\", padding=True, truncation=True)\n",
    "\n",
    "outputs = model(**inputs)\n",
    "logits = outputs.logits\n",
    "print(logits)\n"
   ]
  },
  {
   "cell_type": "code",
   "execution_count": 65,
   "metadata": {},
   "outputs": [
    {
     "data": {
      "text/plain": [
       "('C:/Users/dell/Desktop/gradproject/AI04-Grad/multimodel/fine_tuned_roberta_emotion_model\\\\tokenizer_config.json',\n",
       " 'C:/Users/dell/Desktop/gradproject/AI04-Grad/multimodel/fine_tuned_roberta_emotion_model\\\\special_tokens_map.json',\n",
       " 'C:/Users/dell/Desktop/gradproject/AI04-Grad/multimodel/fine_tuned_roberta_emotion_model\\\\vocab.json',\n",
       " 'C:/Users/dell/Desktop/gradproject/AI04-Grad/multimodel/fine_tuned_roberta_emotion_model\\\\merges.txt',\n",
       " 'C:/Users/dell/Desktop/gradproject/AI04-Grad/multimodel/fine_tuned_roberta_emotion_model\\\\added_tokens.json')"
      ]
     },
     "execution_count": 65,
     "metadata": {},
     "output_type": "execute_result"
    }
   ],
   "source": [
    "from transformers import RobertaTokenizer\n",
    "\n",
    "# Download and save tokenizer\n",
    "tokenizer = RobertaTokenizer.from_pretrained(\"roberta-base\")\n",
    "tokenizer.save_pretrained(\"C:/Users/dell/Desktop/gradproject/AI04-Grad/multimodel/fine_tuned_roberta_emotion_model\")\n"
   ]
  },
  {
   "cell_type": "code",
   "execution_count": 77,
   "metadata": {
    "execution": {
     "iopub.execute_input": "2023-07-12T17:57:17.822058Z",
     "iopub.status.busy": "2023-07-12T17:57:17.821477Z",
     "iopub.status.idle": "2023-07-12T18:11:54.553275Z",
     "shell.execute_reply": "2023-07-12T18:11:54.552185Z",
     "shell.execute_reply.started": "2023-07-12T17:57:17.822021Z"
    },
    "trusted": true
   },
   "outputs": [
    {
     "name": "stderr",
     "output_type": "stream",
     "text": [
      "All PyTorch model weights were used when initializing TFRobertaForSequenceClassification.\n",
      "\n",
      "All the weights of TFRobertaForSequenceClassification were initialized from the PyTorch model.\n",
      "If your task is similar to the task the model of the checkpoint was trained on, you can already use TFRobertaForSequenceClassification for predictions without further training.\n"
     ]
    },
    {
     "name": "stdout",
     "output_type": "stream",
     "text": [
      "Model and tokenizer loaded successfully!\n",
      "Epoch 1/5\n"
     ]
    },
    {
     "ename": "AttributeError",
     "evalue": "in user code:\n\n    File \"c:\\Users\\dell\\anaconda3\\envs\\new_bert\\lib\\site-packages\\keras\\engine\\training.py\", line 1284, in train_function  *\n        return step_function(self, iterator)\n    File \"c:\\Users\\dell\\anaconda3\\envs\\new_bert\\lib\\site-packages\\keras\\engine\\training.py\", line 1268, in step_function  **\n        outputs = model.distribute_strategy.run(run_step, args=(data,))\n    File \"c:\\Users\\dell\\anaconda3\\envs\\new_bert\\lib\\site-packages\\keras\\engine\\training.py\", line 1249, in run_step  **\n        outputs = model.train_step(data)\n    File \"c:\\Users\\dell\\anaconda3\\envs\\new_bert\\lib\\site-packages\\transformers\\modeling_tf_utils.py\", line 1630, in train_step\n        x, y, sample_weight = keras.utils.unpack_x_y_sample_weight(data)\n\n    AttributeError: module 'keras.utils' has no attribute 'unpack_x_y_sample_weight'\n",
     "output_type": "error",
     "traceback": [
      "\u001b[1;31m---------------------------------------------------------------------------\u001b[0m",
      "\u001b[1;31mAttributeError\u001b[0m                            Traceback (most recent call last)",
      "Cell \u001b[1;32mIn[77], line 45\u001b[0m\n\u001b[0;32m     38\u001b[0m     model\u001b[38;5;241m.\u001b[39mcompile(\n\u001b[0;32m     39\u001b[0m         optimizer\u001b[38;5;241m=\u001b[39mtf\u001b[38;5;241m.\u001b[39mkeras\u001b[38;5;241m.\u001b[39moptimizers\u001b[38;5;241m.\u001b[39mAdam(learning_rate\u001b[38;5;241m=\u001b[39m\u001b[38;5;241m2e-5\u001b[39m),\n\u001b[0;32m     40\u001b[0m         loss\u001b[38;5;241m=\u001b[39mtf\u001b[38;5;241m.\u001b[39mkeras\u001b[38;5;241m.\u001b[39mlosses\u001b[38;5;241m.\u001b[39mSparseCategoricalCrossentropy(from_logits\u001b[38;5;241m=\u001b[39m\u001b[38;5;28;01mTrue\u001b[39;00m),\n\u001b[0;32m     41\u001b[0m         metrics\u001b[38;5;241m=\u001b[39m[\u001b[38;5;124m\"\u001b[39m\u001b[38;5;124maccuracy\u001b[39m\u001b[38;5;124m\"\u001b[39m]\n\u001b[0;32m     42\u001b[0m     )\n\u001b[0;32m     44\u001b[0m \u001b[38;5;66;03m# Train the model\u001b[39;00m\n\u001b[1;32m---> 45\u001b[0m history \u001b[38;5;241m=\u001b[39m \u001b[43mmodel\u001b[49m\u001b[38;5;241;43m.\u001b[39;49m\u001b[43mfit\u001b[49m\u001b[43m(\u001b[49m\n\u001b[0;32m     46\u001b[0m \u001b[43m    \u001b[49m\u001b[43mtrain_dataset\u001b[49m\u001b[43m,\u001b[49m\n\u001b[0;32m     47\u001b[0m \u001b[43m    \u001b[49m\u001b[43mvalidation_data\u001b[49m\u001b[38;5;241;43m=\u001b[39;49m\u001b[43mvalid_dataset\u001b[49m\u001b[43m,\u001b[49m\n\u001b[0;32m     48\u001b[0m \u001b[43m    \u001b[49m\u001b[43mepochs\u001b[49m\u001b[38;5;241;43m=\u001b[39;49m\u001b[38;5;241;43m5\u001b[39;49m\u001b[43m,\u001b[49m\n\u001b[0;32m     49\u001b[0m \u001b[43m    \u001b[49m\u001b[43mcallbacks\u001b[49m\u001b[38;5;241;43m=\u001b[39;49m\u001b[43m[\u001b[49m\u001b[43mtf\u001b[49m\u001b[38;5;241;43m.\u001b[39;49m\u001b[43mkeras\u001b[49m\u001b[38;5;241;43m.\u001b[39;49m\u001b[43mcallbacks\u001b[49m\u001b[38;5;241;43m.\u001b[39;49m\u001b[43mEarlyStopping\u001b[49m\u001b[43m(\u001b[49m\u001b[43mmonitor\u001b[49m\u001b[38;5;241;43m=\u001b[39;49m\u001b[38;5;124;43m'\u001b[39;49m\u001b[38;5;124;43mval_loss\u001b[39;49m\u001b[38;5;124;43m'\u001b[39;49m\u001b[43m,\u001b[49m\u001b[43m \u001b[49m\u001b[43mpatience\u001b[49m\u001b[38;5;241;43m=\u001b[39;49m\u001b[38;5;241;43m2\u001b[39;49m\u001b[43m)\u001b[49m\u001b[43m]\u001b[49m\n\u001b[0;32m     50\u001b[0m \u001b[43m)\u001b[49m\n\u001b[0;32m     52\u001b[0m \u001b[38;5;66;03m# Save the fine-tuned model\u001b[39;00m\n\u001b[0;32m     53\u001b[0m model\u001b[38;5;241m.\u001b[39msave_pretrained(\u001b[38;5;124m\"\u001b[39m\u001b[38;5;124mC:/Users/dell/Desktop/gradproject/AI04-Grad/multimodel/fine_tuned_roberta_emotion_model_updated\u001b[39m\u001b[38;5;124m\"\u001b[39m)\n",
      "File \u001b[1;32mc:\\Users\\dell\\anaconda3\\envs\\new_bert\\lib\\site-packages\\transformers\\modeling_tf_utils.py:1229\u001b[0m, in \u001b[0;36mTFPreTrainedModel.fit\u001b[1;34m(self, *args, **kwargs)\u001b[0m\n\u001b[0;32m   1226\u001b[0m \u001b[38;5;129m@functools\u001b[39m\u001b[38;5;241m.\u001b[39mwraps(keras\u001b[38;5;241m.\u001b[39mModel\u001b[38;5;241m.\u001b[39mfit)\n\u001b[0;32m   1227\u001b[0m \u001b[38;5;28;01mdef\u001b[39;00m \u001b[38;5;21mfit\u001b[39m(\u001b[38;5;28mself\u001b[39m, \u001b[38;5;241m*\u001b[39margs, \u001b[38;5;241m*\u001b[39m\u001b[38;5;241m*\u001b[39mkwargs):\n\u001b[0;32m   1228\u001b[0m     args, kwargs \u001b[38;5;241m=\u001b[39m convert_batch_encoding(\u001b[38;5;241m*\u001b[39margs, \u001b[38;5;241m*\u001b[39m\u001b[38;5;241m*\u001b[39mkwargs)\n\u001b[1;32m-> 1229\u001b[0m     \u001b[38;5;28;01mreturn\u001b[39;00m \u001b[38;5;28msuper\u001b[39m()\u001b[38;5;241m.\u001b[39mfit(\u001b[38;5;241m*\u001b[39margs, \u001b[38;5;241m*\u001b[39m\u001b[38;5;241m*\u001b[39mkwargs)\n",
      "File \u001b[1;32mc:\\Users\\dell\\anaconda3\\envs\\new_bert\\lib\\site-packages\\keras\\utils\\traceback_utils.py:70\u001b[0m, in \u001b[0;36mfilter_traceback.<locals>.error_handler\u001b[1;34m(*args, **kwargs)\u001b[0m\n\u001b[0;32m     67\u001b[0m     filtered_tb \u001b[38;5;241m=\u001b[39m _process_traceback_frames(e\u001b[38;5;241m.\u001b[39m__traceback__)\n\u001b[0;32m     68\u001b[0m     \u001b[38;5;66;03m# To get the full stack trace, call:\u001b[39;00m\n\u001b[0;32m     69\u001b[0m     \u001b[38;5;66;03m# `tf.debugging.disable_traceback_filtering()`\u001b[39;00m\n\u001b[1;32m---> 70\u001b[0m     \u001b[38;5;28;01mraise\u001b[39;00m e\u001b[38;5;241m.\u001b[39mwith_traceback(filtered_tb) \u001b[38;5;28;01mfrom\u001b[39;00m \u001b[38;5;28;01mNone\u001b[39;00m\n\u001b[0;32m     71\u001b[0m \u001b[38;5;28;01mfinally\u001b[39;00m:\n\u001b[0;32m     72\u001b[0m     \u001b[38;5;28;01mdel\u001b[39;00m filtered_tb\n",
      "File \u001b[1;32m~\\AppData\\Local\\Temp\\__autograph_generated_filejpjhgmnt.py:15\u001b[0m, in \u001b[0;36mouter_factory.<locals>.inner_factory.<locals>.tf__train_function\u001b[1;34m(iterator)\u001b[0m\n\u001b[0;32m     13\u001b[0m \u001b[38;5;28;01mtry\u001b[39;00m:\n\u001b[0;32m     14\u001b[0m     do_return \u001b[38;5;241m=\u001b[39m \u001b[38;5;28;01mTrue\u001b[39;00m\n\u001b[1;32m---> 15\u001b[0m     retval_ \u001b[38;5;241m=\u001b[39m ag__\u001b[38;5;241m.\u001b[39mconverted_call(ag__\u001b[38;5;241m.\u001b[39mld(step_function), (ag__\u001b[38;5;241m.\u001b[39mld(\u001b[38;5;28mself\u001b[39m), ag__\u001b[38;5;241m.\u001b[39mld(iterator)), \u001b[38;5;28;01mNone\u001b[39;00m, fscope)\n\u001b[0;32m     16\u001b[0m \u001b[38;5;28;01mexcept\u001b[39;00m:\n\u001b[0;32m     17\u001b[0m     do_return \u001b[38;5;241m=\u001b[39m \u001b[38;5;28;01mFalse\u001b[39;00m\n",
      "File \u001b[1;32mc:\\Users\\dell\\anaconda3\\envs\\new_bert\\lib\\site-packages\\transformers\\modeling_tf_utils.py:1630\u001b[0m, in \u001b[0;36mTFPreTrainedModel.train_step\u001b[1;34m(self, data)\u001b[0m\n\u001b[0;32m   1627\u001b[0m \u001b[38;5;28;01mif\u001b[39;00m \u001b[38;5;129;01mnot\u001b[39;00m \u001b[38;5;28mself\u001b[39m\u001b[38;5;241m.\u001b[39m_using_dummy_loss \u001b[38;5;129;01mand\u001b[39;00m parse(tf\u001b[38;5;241m.\u001b[39m__version__) \u001b[38;5;241m<\u001b[39m parse(\u001b[38;5;124m\"\u001b[39m\u001b[38;5;124m2.11.0\u001b[39m\u001b[38;5;124m\"\u001b[39m):\n\u001b[0;32m   1628\u001b[0m     \u001b[38;5;66;03m# Newer TF train steps leave this out\u001b[39;00m\n\u001b[0;32m   1629\u001b[0m     data \u001b[38;5;241m=\u001b[39m expand_1d(data)\n\u001b[1;32m-> 1630\u001b[0m x, y, sample_weight \u001b[38;5;241m=\u001b[39m \u001b[43mkeras\u001b[49m\u001b[38;5;241;43m.\u001b[39;49m\u001b[43mutils\u001b[49m\u001b[38;5;241;43m.\u001b[39;49m\u001b[43munpack_x_y_sample_weight\u001b[49m(data)\n\u001b[0;32m   1631\u001b[0m \u001b[38;5;66;03m# If the inputs are mutable dictionaries, make a shallow copy of them because we will modify\u001b[39;00m\n\u001b[0;32m   1632\u001b[0m \u001b[38;5;66;03m# them during input/label pre-processing. This avoids surprising the user by wrecking their data.\u001b[39;00m\n\u001b[0;32m   1633\u001b[0m \u001b[38;5;66;03m# In addition, modifying mutable Python inputs makes XLA compilation impossible.\u001b[39;00m\n\u001b[0;32m   1634\u001b[0m \u001b[38;5;28;01mif\u001b[39;00m \u001b[38;5;28misinstance\u001b[39m(x, \u001b[38;5;28mdict\u001b[39m):\n",
      "\u001b[1;31mAttributeError\u001b[0m: in user code:\n\n    File \"c:\\Users\\dell\\anaconda3\\envs\\new_bert\\lib\\site-packages\\keras\\engine\\training.py\", line 1284, in train_function  *\n        return step_function(self, iterator)\n    File \"c:\\Users\\dell\\anaconda3\\envs\\new_bert\\lib\\site-packages\\keras\\engine\\training.py\", line 1268, in step_function  **\n        outputs = model.distribute_strategy.run(run_step, args=(data,))\n    File \"c:\\Users\\dell\\anaconda3\\envs\\new_bert\\lib\\site-packages\\keras\\engine\\training.py\", line 1249, in run_step  **\n        outputs = model.train_step(data)\n    File \"c:\\Users\\dell\\anaconda3\\envs\\new_bert\\lib\\site-packages\\transformers\\modeling_tf_utils.py\", line 1630, in train_step\n        x, y, sample_weight = keras.utils.unpack_x_y_sample_weight(data)\n\n    AttributeError: module 'keras.utils' has no attribute 'unpack_x_y_sample_weight'\n"
     ]
    }
   ],
   "source": [
    "import tensorflow as tf\n",
    "from transformers import RobertaTokenizer, TFRobertaForSequenceClassification\n",
    "\n",
    "# Define paths\n",
    "model_path = \"C:/Users/dell/Desktop/gradproject/AI04-Grad/multimodel/fine_tuned_roberta_emotion_model\"\n",
    "tokenizer = RobertaTokenizer.from_pretrained(model_path)\n",
    "model = TFRobertaForSequenceClassification.from_pretrained(model_path)\n",
    "\n",
    "print(\"Model and tokenizer loaded successfully!\")\n",
    "\n",
    "# Example data (replace with your actual data)\n",
    "train_texts = [\"Sample text 1\", \"Sample text 2\", \"Sample text 3\"]\n",
    "train_labels = [0, 1, 0]  # Replace with actual labels\n",
    "\n",
    "valid_texts = [\"Validation text 1\", \"Validation text 2\"]\n",
    "valid_labels = [0, 1]  # Replace with actual labels\n",
    "\n",
    "# Tokenize the data\n",
    "def tokenize_data(texts, labels, tokenizer, max_length=128):\n",
    "    encodings = tokenizer(\n",
    "        texts,\n",
    "        max_length=max_length,\n",
    "        truncation=True,\n",
    "        padding=\"max_length\",\n",
    "        return_tensors=\"tf\"\n",
    "    )\n",
    "    dataset = tf.data.Dataset.from_tensor_slices((\n",
    "        {\"input_ids\": encodings[\"input_ids\"], \"attention_mask\": encodings[\"attention_mask\"]},\n",
    "        labels\n",
    "    ))\n",
    "    return dataset\n",
    "\n",
    "train_dataset = tokenize_data(train_texts, train_labels, tokenizer).batch(16)\n",
    "valid_dataset = tokenize_data(valid_texts, valid_labels, tokenizer).batch(16)\n",
    "\n",
    "# Compile the model\n",
    "with tf.device('/GPU:0'):  # Use GPU if available\n",
    "    model.compile(\n",
    "        optimizer=tf.keras.optimizers.Adam(learning_rate=2e-5),\n",
    "        loss=tf.keras.losses.SparseCategoricalCrossentropy(from_logits=True),\n",
    "        metrics=[\"accuracy\"]\n",
    "    )\n",
    "\n",
    "# Train the model\n",
    "history = model.fit(\n",
    "    train_dataset,\n",
    "    validation_data=valid_dataset,\n",
    "    epochs=5,\n",
    "    callbacks=[tf.keras.callbacks.EarlyStopping(monitor='val_loss', patience=2)]\n",
    ")\n",
    "\n",
    "# Save the fine-tuned model\n",
    "model.save_pretrained(\"C:/Users/dell/Desktop/gradproject/AI04-Grad/multimodel/fine_tuned_roberta_emotion_model_updated\")\n",
    "tokenizer.save_pretrained(\"C:/Users/dell/Desktop/gradproject/AI04-Grad/multimodel/fine_tuned_roberta_emotion_model_updated\")\n",
    "print(\"Model fine-tuning complete and saved!\")\n"
   ]
  },
  {
   "cell_type": "code",
   "execution_count": 61,
   "metadata": {
    "execution": {
     "iopub.execute_input": "2023-07-12T18:11:54.557089Z",
     "iopub.status.busy": "2023-07-12T18:11:54.556679Z",
     "iopub.status.idle": "2023-07-12T18:11:54.899277Z",
     "shell.execute_reply": "2023-07-12T18:11:54.898396Z",
     "shell.execute_reply.started": "2023-07-12T18:11:54.557050Z"
    },
    "trusted": true
   },
   "outputs": [
    {
     "ename": "NameError",
     "evalue": "name 'history' is not defined",
     "output_type": "error",
     "traceback": [
      "\u001b[1;31m---------------------------------------------------------------------------\u001b[0m",
      "\u001b[1;31mNameError\u001b[0m                                 Traceback (most recent call last)",
      "Cell \u001b[1;32mIn[61], line 2\u001b[0m\n\u001b[0;32m      1\u001b[0m \u001b[38;5;66;03m# summarize history for accuracy\u001b[39;00m\n\u001b[1;32m----> 2\u001b[0m plt\u001b[38;5;241m.\u001b[39mplot(\u001b[43mhistory\u001b[49m\u001b[38;5;241m.\u001b[39mhistory[\u001b[38;5;124m'\u001b[39m\u001b[38;5;124maccuracy\u001b[39m\u001b[38;5;124m'\u001b[39m])\n\u001b[0;32m      3\u001b[0m plt\u001b[38;5;241m.\u001b[39mplot(history\u001b[38;5;241m.\u001b[39mhistory[\u001b[38;5;124m'\u001b[39m\u001b[38;5;124mval_accuracy\u001b[39m\u001b[38;5;124m'\u001b[39m])\n\u001b[0;32m      4\u001b[0m plt\u001b[38;5;241m.\u001b[39mtitle(\u001b[38;5;124m'\u001b[39m\u001b[38;5;124mModel Accuracy\u001b[39m\u001b[38;5;124m'\u001b[39m)\n",
      "\u001b[1;31mNameError\u001b[0m: name 'history' is not defined"
     ]
    }
   ],
   "source": [
    "# summarize history for accuracy\n",
    "plt.plot(history.history['accuracy'])\n",
    "plt.plot(history.history['val_accuracy'])\n",
    "plt.title('Model Accuracy')\n",
    "plt.ylabel('Accuracy')\n",
    "plt.xlabel('Epoch')\n",
    "plt.legend(['train', 'valid'], loc='upper left')\n",
    "plt.show()"
   ]
  },
  {
   "cell_type": "code",
   "execution_count": 58,
   "metadata": {
    "execution": {
     "iopub.execute_input": "2023-07-12T18:11:54.901753Z",
     "iopub.status.busy": "2023-07-12T18:11:54.900755Z",
     "iopub.status.idle": "2023-07-12T18:11:55.195667Z",
     "shell.execute_reply": "2023-07-12T18:11:55.194756Z",
     "shell.execute_reply.started": "2023-07-12T18:11:54.901718Z"
    },
    "trusted": true
   },
   "outputs": [
    {
     "data": {
      "image/png": "[encoded data removed]",
      "text/plain": [
       "<Figure size 640x480 with 1 Axes>"
      ]
     },
     "metadata": {},
     "output_type": "display_data"
    }
   ],
   "source": [
    "# summarize history for loss\n",
    "plt.plot(history.history['loss'])\n",
    "plt.plot(history.history['val_loss'])\n",
    "plt.title('Model Loss')\n",
    "plt.ylabel('Loss')\n",
    "plt.xlabel('Epoch')\n",
    "plt.legend(['train', 'valid'], loc='upper left')\n",
    "plt.show()"
   ]
  },
  {
   "cell_type": "code",
   "execution_count": 59,
   "metadata": {
    "execution": {
     "iopub.execute_input": "2023-07-12T18:11:55.197401Z",
     "iopub.status.busy": "2023-07-12T18:11:55.196962Z",
     "iopub.status.idle": "2023-07-12T18:11:55.498155Z",
     "shell.execute_reply": "2023-07-12T18:11:55.497265Z",
     "shell.execute_reply.started": "2023-07-12T18:11:55.197366Z"
    },
    "trusted": true
   },
   "outputs": [
    {
     "data": {
      "image/png": "[encoded data removed]",
      "text/plain": [
       "<Figure size 640x480 with 1 Axes>"
      ]
     },
     "metadata": {},
     "output_type": "display_data"
    }
   ],
   "source": [
    "plt.plot(history.history['precision'])\n",
    "plt.plot(history.history['val_precision'])\n",
    "plt.title('Model Precision')\n",
    "plt.ylabel('Precision')\n",
    "plt.xlabel('Epoch')\n",
    "plt.legend(['train', 'valid'], loc='upper left')\n",
    "plt.show()"
   ]
  },
  {
   "cell_type": "code",
   "execution_count": 60,
   "metadata": {
    "execution": {
     "iopub.execute_input": "2023-07-12T18:11:55.499981Z",
     "iopub.status.busy": "2023-07-12T18:11:55.499622Z",
     "iopub.status.idle": "2023-07-12T18:12:18.952934Z",
     "shell.execute_reply": "2023-07-12T18:12:18.951882Z",
     "shell.execute_reply.started": "2023-07-12T18:11:55.499943Z"
    },
    "trusted": true
   },
   "outputs": [
    {
     "name": "stdout",
     "output_type": "stream",
     "text": [
      "170/170 [==============================] - 17s 81ms/step\n"
     ]
    }
   ],
   "source": [
    "pred_labels = model.predict([test_input_ids,test_attention_masks, test_token_type_ids])"
   ]
  },
  {
   "cell_type": "code",
   "execution_count": 61,
   "metadata": {
    "execution": {
     "iopub.execute_input": "2023-07-12T18:12:18.956005Z",
     "iopub.status.busy": "2023-07-12T18:12:18.955607Z",
     "iopub.status.idle": "2023-07-12T18:12:33.083956Z",
     "shell.execute_reply": "2023-07-12T18:12:33.083004Z",
     "shell.execute_reply.started": "2023-07-12T18:12:18.955968Z"
    },
    "trusted": true
   },
   "outputs": [
    {
     "name": "stdout",
     "output_type": "stream",
     "text": [
      "170/170 [==============================] - 14s 82ms/step - loss: 0.3584 - accuracy: 0.3785 - precision: 0.0000e+00\n"
     ]
    },
    {
     "data": {
      "text/plain": [
       "[0.3583530783653259, 0.3784779906272888, 0.0]"
      ]
     },
     "execution_count": 61,
     "metadata": {},
     "output_type": "execute_result"
    }
   ],
   "source": [
    "model.evaluate([test_input_ids,test_attention_masks, test_token_type_ids], test_labels)"
   ]
  },
  {
   "cell_type": "code",
   "execution_count": 62,
   "metadata": {
    "execution": {
     "iopub.execute_input": "2023-07-12T18:12:33.086118Z",
     "iopub.status.busy": "2023-07-12T18:12:33.085710Z",
     "iopub.status.idle": "2023-07-12T18:12:33.093251Z",
     "shell.execute_reply": "2023-07-12T18:12:33.092206Z",
     "shell.execute_reply.started": "2023-07-12T18:12:33.086083Z"
    },
    "trusted": true
   },
   "outputs": [
    {
     "data": {
      "text/plain": [
       "array([[0.13159665, 0.01973769, 0.0176015 , 0.4215047 , 0.07655225,\n",
       "        0.13015845, 0.3128461 ],\n",
       "       [0.13340227, 0.01882755, 0.01661362, 0.3960007 , 0.07280622,\n",
       "        0.12990455, 0.3237582 ],\n",
       "       [0.12393906, 0.01703671, 0.01507586, 0.41056064, 0.0672873 ,\n",
       "        0.12412437, 0.31853557],\n",
       "       [0.12512106, 0.01772231, 0.01570323, 0.41187838, 0.07208394,\n",
       "        0.12710157, 0.31864882],\n",
       "       [0.12879835, 0.01798301, 0.01622118, 0.398354  , 0.07100627,\n",
       "        0.12919076, 0.32303888]], dtype=float32)"
      ]
     },
     "execution_count": 62,
     "metadata": {},
     "output_type": "execute_result"
    }
   ],
   "source": [
    "pred_labels[:5]"
   ]
  },
  {
   "cell_type": "code",
   "execution_count": 63,
   "metadata": {
    "execution": {
     "iopub.execute_input": "2023-07-12T18:12:33.098085Z",
     "iopub.status.busy": "2023-07-12T18:12:33.097652Z",
     "iopub.status.idle": "2023-07-12T18:12:33.103824Z",
     "shell.execute_reply": "2023-07-12T18:12:33.102838Z",
     "shell.execute_reply.started": "2023-07-12T18:12:33.098053Z"
    },
    "trusted": true
   },
   "outputs": [],
   "source": [
    "def prob(x):\n",
    "    if x>0.5:\n",
    "        return 1\n",
    "    return 0"
   ]
  },
  {
   "cell_type": "code",
   "execution_count": 64,
   "metadata": {
    "execution": {
     "iopub.execute_input": "2023-07-12T18:12:33.106476Z",
     "iopub.status.busy": "2023-07-12T18:12:33.105295Z",
     "iopub.status.idle": "2023-07-12T18:12:33.228714Z",
     "shell.execute_reply": "2023-07-12T18:12:33.227836Z",
     "shell.execute_reply.started": "2023-07-12T18:12:33.106443Z"
    },
    "trusted": true
   },
   "outputs": [],
   "source": [
    "pred_labels = [list(map(prob,i)) for i in pred_labels]"
   ]
  },
  {
   "cell_type": "code",
   "execution_count": 65,
   "metadata": {
    "execution": {
     "iopub.execute_input": "2023-07-12T18:12:33.230344Z",
     "iopub.status.busy": "2023-07-12T18:12:33.230007Z",
     "iopub.status.idle": "2023-07-12T18:12:33.254227Z",
     "shell.execute_reply": "2023-07-12T18:12:33.253362Z",
     "shell.execute_reply.started": "2023-07-12T18:12:33.230312Z"
    },
    "trusted": true
   },
   "outputs": [
    {
     "name": "stdout",
     "output_type": "stream",
     "text": [
      "The Label Ranking Average Precision Score for the Test Set:  1.0\n"
     ]
    }
   ],
   "source": [
    "from sklearn.metrics import label_ranking_average_precision_score\n",
    "lrap = label_ranking_average_precision_score(pred_labels, test_labels)\n",
    "print(\"The Label Ranking Average Precision Score for the Test Set: \", lrap)"
   ]
  },
  {
   "cell_type": "code",
   "execution_count": 66,
   "metadata": {
    "execution": {
     "iopub.execute_input": "2023-07-12T18:12:33.255958Z",
     "iopub.status.busy": "2023-07-12T18:12:33.255621Z",
     "iopub.status.idle": "2023-07-12T18:12:33.300282Z",
     "shell.execute_reply": "2023-07-12T18:12:33.299349Z",
     "shell.execute_reply.started": "2023-07-12T18:12:33.255927Z"
    },
    "trusted": true
   },
   "outputs": [
    {
     "name": "stdout",
     "output_type": "stream",
     "text": [
      "              precision    recall  f1-score   support\n",
      "\n",
      "       anger       0.00      0.00      0.00       726\n",
      "     disgust       0.00      0.00      0.00       123\n",
      "        fear       0.00      0.00      0.00        98\n",
      "         joy       0.00      0.00      0.00      2104\n",
      "     sadness       0.00      0.00      0.00       379\n",
      "    surprise       0.00      0.00      0.00       677\n",
      "     neutral       0.00      0.00      0.00      1787\n",
      "\n",
      "   micro avg       0.00      0.00      0.00      5894\n",
      "   macro avg       0.00      0.00      0.00      5894\n",
      "weighted avg       0.00      0.00      0.00      5894\n",
      " samples avg       0.00      0.00      0.00      5894\n",
      "\n"
     ]
    }
   ],
   "source": [
    "from sklearn.metrics import classification_report\n",
    "target_names = train_data.columns[1:]\n",
    "print(classification_report(test_labels, pred_labels, target_names=target_names))"
   ]
  },
  {
   "cell_type": "markdown",
   "metadata": {},
   "source": [
    "# Model_2 (RoBERTa with Unfreezed Layers)"
   ]
  },
  {
   "cell_type": "code",
   "execution_count": 67,
   "metadata": {
    "execution": {
     "iopub.execute_input": "2023-07-12T18:14:18.248054Z",
     "iopub.status.busy": "2023-07-12T18:14:18.247664Z",
     "iopub.status.idle": "2023-07-12T18:14:18.252864Z",
     "shell.execute_reply": "2023-07-12T18:14:18.251920Z",
     "shell.execute_reply.started": "2023-07-12T18:14:18.248024Z"
    },
    "trusted": true
   },
   "outputs": [],
   "source": [
    "es_2 = EarlyStopping(monitor='val_loss', mode='min', verbose=1, patience=2)"
   ]
  },
  {
   "cell_type": "code",
   "execution_count": 68,
   "metadata": {
    "execution": {
     "iopub.execute_input": "2023-07-12T18:14:18.702848Z",
     "iopub.status.busy": "2023-07-12T18:14:18.701973Z",
     "iopub.status.idle": "2023-07-12T18:14:21.327140Z",
     "shell.execute_reply": "2023-07-12T18:14:21.326030Z",
     "shell.execute_reply.started": "2023-07-12T18:14:18.702810Z"
    },
    "trusted": true
   },
   "outputs": [
    {
     "name": "stderr",
     "output_type": "stream",
     "text": [
      "Some weights of the PyTorch model were not used when initializing the TF 2.0 model TFRobertaModel: ['roberta.embeddings.position_ids', 'lm_head.dense.weight', 'lm_head.dense.bias', 'lm_head.layer_norm.weight', 'lm_head.bias', 'lm_head.layer_norm.bias']\n",
      "- This IS expected if you are initializing TFRobertaModel from a PyTorch model trained on another task or with another architecture (e.g. initializing a TFBertForSequenceClassification model from a BertForPreTraining model).\n",
      "- This IS NOT expected if you are initializing TFRobertaModel from a PyTorch model that you expect to be exactly identical (e.g. initializing a TFBertForSequenceClassification model from a BertForSequenceClassification model).\n",
      "Some weights or buffers of the TF 2.0 model TFRobertaModel were not initialized from the PyTorch model and are newly initialized: ['roberta.pooler.dense.weight', 'roberta.pooler.dense.bias']\n",
      "You should probably TRAIN this model on a down-stream task to be able to use it for predictions and inference.\n"
     ]
    }
   ],
   "source": [
    "roberta_model = TFRobertaModel.from_pretrained('roberta-base')\n",
    "roberta_model.trainable = True"
   ]
  },
  {
   "cell_type": "code",
   "execution_count": 69,
   "metadata": {
    "execution": {
     "iopub.execute_input": "2023-07-12T18:14:21.329806Z",
     "iopub.status.busy": "2023-07-12T18:14:21.329115Z",
     "iopub.status.idle": "2023-07-12T18:14:23.284126Z",
     "shell.execute_reply": "2023-07-12T18:14:23.283175Z",
     "shell.execute_reply.started": "2023-07-12T18:14:21.329769Z"
    },
    "trusted": true
   },
   "outputs": [
    {
     "name": "stdout",
     "output_type": "stream",
     "text": [
      "Model: \"model_3\"\n",
      "__________________________________________________________________________________________________\n",
      " Layer (type)                   Output Shape         Param #     Connected to                     \n",
      "==================================================================================================\n",
      " input_10 (InputLayer)          [(None, 33)]         0           []                               \n",
      "                                                                                                  \n",
      " input_11 (InputLayer)          [(None, 33)]         0           []                               \n",
      "                                                                                                  \n",
      " input_12 (InputLayer)          [(None, 33)]         0           []                               \n",
      "                                                                                                  \n",
      " tf_roberta_model_3 (TFRobertaM  TFBaseModelOutputWi  124645632  ['input_10[0][0]',               \n",
      " odel)                          thPoolingAndCrossAt               'input_11[0][0]',               \n",
      "                                tentions(last_hidde               'input_12[0][0]']               \n",
      "                                n_state=(None, 33,                                                \n",
      "                                768),                                                             \n",
      "                                 pooler_output=(Non                                               \n",
      "                                e, 768),                                                          \n",
      "                                 past_key_values=No                                               \n",
      "                                ne, hidden_states=N                                               \n",
      "                                one, attentions=Non                                               \n",
      "                                e, cross_attentions                                               \n",
      "                                =None)                                                            \n",
      "                                                                                                  \n",
      " dense_6 (Dense)                (None, 256)          196864      ['tf_roberta_model_3[0][1]']     \n",
      "                                                                                                  \n",
      " dropout_151 (Dropout)          (None, 256)          0           ['dense_6[0][0]']                \n",
      "                                                                                                  \n",
      " dense_7 (Dense)                (None, 7)            1799        ['dropout_151[0][0]']            \n",
      "                                                                                                  \n",
      "==================================================================================================\n",
      "Total params: 124,844,295\n",
      "Trainable params: 124,844,295\n",
      "Non-trainable params: 0\n",
      "__________________________________________________________________________________________________\n"
     ]
    }
   ],
   "source": [
    "model_2 = create_model(roberta_model, max_len)\n",
    "model_2.summary()"
   ]
  },
  {
   "cell_type": "code",
   "execution_count": 70,
   "metadata": {
    "execution": {
     "iopub.execute_input": "2023-07-12T18:14:32.530346Z",
     "iopub.status.busy": "2023-07-12T18:14:32.529924Z",
     "iopub.status.idle": "2023-07-12T18:41:45.684170Z",
     "shell.execute_reply": "2023-07-12T18:41:45.683002Z",
     "shell.execute_reply.started": "2023-07-12T18:14:32.530309Z"
    },
    "trusted": true
   },
   "outputs": [
    {
     "name": "stdout",
     "output_type": "stream",
     "text": [
      "Epoch 1/5\n",
      "2714/2714 [==============================] - 458s 151ms/step - loss: 0.3417 - accuracy: 0.4993 - precision: 0.6355 - val_loss: 0.2867 - val_accuracy: 0.5722 - val_precision: 0.7409\n",
      "Epoch 2/5\n",
      "2714/2714 [==============================] - 392s 144ms/step - loss: 0.3040 - accuracy: 0.5744 - precision: 0.7074 - val_loss: 0.2735 - val_accuracy: 0.5934 - val_precision: 0.7511\n",
      "Epoch 3/5\n",
      "2714/2714 [==============================] - 391s 144ms/step - loss: 0.3189 - accuracy: 0.5294 - precision: 0.7077 - val_loss: 0.2996 - val_accuracy: 0.5728 - val_precision: 0.8392\n",
      "Epoch 4/5\n",
      "2714/2714 [==============================] - 392s 144ms/step - loss: 0.3045 - accuracy: 0.5742 - precision: 0.7122 - val_loss: 0.2852 - val_accuracy: 0.5826 - val_precision: 0.7117\n",
      "Epoch 4: early stopping\n"
     ]
    }
   ],
   "source": [
    "history_2 = model_2.fit([train_input_ids,train_attention_masks,train_token_type_ids], train_labels,\n",
    "                    validation_data=([valid_input_ids,valid_attention_masks,valid_token_type_ids], valid_labels),\n",
    "                    epochs=5,\n",
    "                    batch_size=16,\n",
    "                    callbacks=[es_2])"
   ]
  },
  {
   "cell_type": "code",
   "execution_count": 71,
   "metadata": {
    "execution": {
     "iopub.execute_input": "2023-07-12T18:41:51.013538Z",
     "iopub.status.busy": "2023-07-12T18:41:51.013146Z",
     "iopub.status.idle": "2023-07-12T18:42:20.558016Z",
     "shell.execute_reply": "2023-07-12T18:42:20.556210Z",
     "shell.execute_reply.started": "2023-07-12T18:41:51.013481Z"
    },
    "trusted": true
   },
   "outputs": [
    {
     "data": {
      "image/png": "[encoded data removed]",
      "text/plain": [
       "<Figure size 640x480 with 1 Axes>"
      ]
     },
     "metadata": {},
     "output_type": "display_data"
    }
   ],
   "source": [
    "# summarize history for accuracy\n",
    "plt.plot(history_2.history['accuracy'])\n",
    "plt.plot(history_2.history['val_accuracy'])\n",
    "plt.title('Model Accuracy')\n",
    "plt.ylabel('Accuracy')\n",
    "plt.xlabel('Epoch')\n",
    "plt.legend(['train', 'valid'], loc='upper left')\n",
    "plt.show()"
   ]
  },
  {
   "cell_type": "code",
   "execution_count": 72,
   "metadata": {
    "execution": {
     "iopub.execute_input": "2023-07-12T18:42:20.561723Z",
     "iopub.status.busy": "2023-07-12T18:42:20.561328Z",
     "iopub.status.idle": "2023-07-12T18:42:20.899359Z",
     "shell.execute_reply": "2023-07-12T18:42:20.898433Z",
     "shell.execute_reply.started": "2023-07-12T18:42:20.561680Z"
    },
    "trusted": true
   },
   "outputs": [
    {
     "data": {
      "image/png": "[encoded data removed]",
      "text/plain": [
       "<Figure size 640x480 with 1 Axes>"
      ]
     },
     "metadata": {},
     "output_type": "display_data"
    }
   ],
   "source": [
    "# summarize history for loss\n",
    "plt.plot(history_2.history['loss'])\n",
    "plt.plot(history_2.history['val_loss'])\n",
    "plt.title('Model Loss')\n",
    "plt.ylabel('Loss')\n",
    "plt.xlabel('Epoch')\n",
    "plt.legend(['train', 'valid'], loc='upper left')\n",
    "plt.show()"
   ]
  },
  {
   "cell_type": "code",
   "execution_count": 73,
   "metadata": {
    "execution": {
     "iopub.execute_input": "2023-07-12T18:42:20.901365Z",
     "iopub.status.busy": "2023-07-12T18:42:20.900811Z",
     "iopub.status.idle": "2023-07-12T18:42:21.219387Z",
     "shell.execute_reply": "2023-07-12T18:42:21.218513Z",
     "shell.execute_reply.started": "2023-07-12T18:42:20.901328Z"
    },
    "trusted": true
   },
   "outputs": [
    {
     "data": {
      "image/png": "[encoded data removed]",
      "text/plain": [
       "<Figure size 640x480 with 1 Axes>"
      ]
     },
     "metadata": {},
     "output_type": "display_data"
    }
   ],
   "source": [
    "plt.plot(history_2.history['precision'])\n",
    "plt.plot(history_2.history['val_precision'])\n",
    "plt.title('Model Precision')\n",
    "plt.ylabel('Precision')\n",
    "plt.xlabel('Epoch')\n",
    "plt.legend(['train', 'valid'], loc='upper left')\n",
    "plt.show()"
   ]
  },
  {
   "cell_type": "code",
   "execution_count": 74,
   "metadata": {
    "execution": {
     "iopub.execute_input": "2023-07-12T18:42:21.222966Z",
     "iopub.status.busy": "2023-07-12T18:42:21.222629Z",
     "iopub.status.idle": "2023-07-12T18:42:44.632880Z",
     "shell.execute_reply": "2023-07-12T18:42:44.631812Z",
     "shell.execute_reply.started": "2023-07-12T18:42:21.222940Z"
    },
    "trusted": true
   },
   "outputs": [
    {
     "name": "stdout",
     "output_type": "stream",
     "text": [
      "170/170 [==============================] - 16s 79ms/step\n"
     ]
    }
   ],
   "source": [
    "pred_labels_2 = model_2.predict([test_input_ids,test_attention_masks, test_token_type_ids])"
   ]
  },
  {
   "cell_type": "code",
   "execution_count": 75,
   "metadata": {
    "execution": {
     "iopub.execute_input": "2023-07-12T18:42:44.635639Z",
     "iopub.status.busy": "2023-07-12T18:42:44.634425Z",
     "iopub.status.idle": "2023-07-12T18:42:44.643236Z",
     "shell.execute_reply": "2023-07-12T18:42:44.642247Z",
     "shell.execute_reply.started": "2023-07-12T18:42:44.635601Z"
    },
    "trusted": true
   },
   "outputs": [
    {
     "data": {
      "text/plain": [
       "array([[1.72326624e-01, 8.65511671e-02, 9.22327191e-02, 1.22329906e-01,\n",
       "        4.87401515e-01, 6.46626577e-02, 1.01856992e-01],\n",
       "       [1.75258338e-01, 8.68608579e-02, 9.23543051e-02, 1.21721536e-01,\n",
       "        4.83334899e-01, 6.53022155e-02, 1.03054732e-01],\n",
       "       [6.82920218e-03, 2.08591126e-04, 2.97423230e-05, 9.68022406e-01,\n",
       "        2.60201818e-03, 2.09089722e-02, 2.88523696e-02],\n",
       "       [4.40404378e-03, 8.48675118e-05, 1.00685438e-05, 9.83035564e-01,\n",
       "        1.42716279e-03, 1.32825775e-02, 1.60889123e-02],\n",
       "       [3.31375152e-01, 1.48474937e-02, 1.47519661e-02, 1.15493514e-01,\n",
       "        4.35542539e-02, 1.48706481e-01, 3.90042543e-01]], dtype=float32)"
      ]
     },
     "execution_count": 75,
     "metadata": {},
     "output_type": "execute_result"
    }
   ],
   "source": [
    "pred_labels_2[:5]"
   ]
  },
  {
   "cell_type": "code",
   "execution_count": 76,
   "metadata": {
    "execution": {
     "iopub.execute_input": "2023-07-12T18:42:44.645818Z",
     "iopub.status.busy": "2023-07-12T18:42:44.644649Z",
     "iopub.status.idle": "2023-07-12T18:43:05.201003Z",
     "shell.execute_reply": "2023-07-12T18:43:05.199885Z",
     "shell.execute_reply.started": "2023-07-12T18:42:44.645782Z"
    },
    "trusted": true
   },
   "outputs": [
    {
     "name": "stdout",
     "output_type": "stream",
     "text": [
      "170/170 [==============================] - 14s 82ms/step - loss: 0.2887 - accuracy: 0.5766 - precision: 0.7059\n"
     ]
    },
    {
     "data": {
      "text/plain": [
       "[0.2886902987957001, 0.5765616297721863, 0.7058982253074646]"
      ]
     },
     "execution_count": 76,
     "metadata": {},
     "output_type": "execute_result"
    }
   ],
   "source": [
    "model_2.evaluate([test_input_ids,test_attention_masks, test_token_type_ids], test_labels)"
   ]
  },
  {
   "cell_type": "code",
   "execution_count": 77,
   "metadata": {
    "execution": {
     "iopub.execute_input": "2023-07-12T18:43:05.202913Z",
     "iopub.status.busy": "2023-07-12T18:43:05.202451Z",
     "iopub.status.idle": "2023-07-12T18:43:05.329304Z",
     "shell.execute_reply": "2023-07-12T18:43:05.328399Z",
     "shell.execute_reply.started": "2023-07-12T18:43:05.202870Z"
    },
    "trusted": true
   },
   "outputs": [],
   "source": [
    "pred_labels_2 = [list(map(prob,i)) for i in pred_labels_2]"
   ]
  },
  {
   "cell_type": "code",
   "execution_count": 78,
   "metadata": {
    "execution": {
     "iopub.execute_input": "2023-07-12T18:43:05.330820Z",
     "iopub.status.busy": "2023-07-12T18:43:05.330459Z",
     "iopub.status.idle": "2023-07-12T18:43:05.856343Z",
     "shell.execute_reply": "2023-07-12T18:43:05.855197Z",
     "shell.execute_reply.started": "2023-07-12T18:43:05.330781Z"
    },
    "trusted": true
   },
   "outputs": [
    {
     "name": "stdout",
     "output_type": "stream",
     "text": [
      "The Label Ranking Average Precision Score for the Test Set:  0.8068300472944056\n"
     ]
    }
   ],
   "source": [
    "lrap = label_ranking_average_precision_score(pred_labels_2, test_labels)\n",
    "print(\"The Label Ranking Average Precision Score for the Test Set: \", lrap)"
   ]
  },
  {
   "cell_type": "code",
   "execution_count": 79,
   "metadata": {
    "execution": {
     "iopub.execute_input": "2023-07-12T18:43:05.858270Z",
     "iopub.status.busy": "2023-07-12T18:43:05.857832Z",
     "iopub.status.idle": "2023-07-12T18:43:05.895160Z",
     "shell.execute_reply": "2023-07-12T18:43:05.894252Z",
     "shell.execute_reply.started": "2023-07-12T18:43:05.858235Z"
    },
    "trusted": true
   },
   "outputs": [
    {
     "name": "stdout",
     "output_type": "stream",
     "text": [
      "              precision    recall  f1-score   support\n",
      "\n",
      "       anger       0.47      0.06      0.11       726\n",
      "     disgust       0.00      0.00      0.00       123\n",
      "        fear       0.00      0.00      0.00        98\n",
      "         joy       0.86      0.69      0.76      2104\n",
      "     sadness       0.38      0.03      0.06       379\n",
      "    surprise       0.00      0.00      0.00       677\n",
      "     neutral       0.59      0.62      0.61      1787\n",
      "\n",
      "   micro avg       0.71      0.44      0.55      5894\n",
      "   macro avg       0.33      0.20      0.22      5894\n",
      "weighted avg       0.57      0.44      0.47      5894\n",
      " samples avg       0.48      0.46      0.47      5894\n",
      "\n"
     ]
    }
   ],
   "source": [
    "print(classification_report(test_labels, pred_labels_2, target_names=train_data.columns[1:]))"
   ]
  },
  {
   "cell_type": "markdown",
   "metadata": {},
   "source": [
    "# Model_3 (Dropping Neutral and disgust)"
   ]
  },
  {
   "cell_type": "code",
   "execution_count": 80,
   "metadata": {
    "execution": {
     "iopub.execute_input": "2023-07-12T18:44:31.482261Z",
     "iopub.status.busy": "2023-07-12T18:44:31.481873Z",
     "iopub.status.idle": "2023-07-12T18:44:31.496576Z",
     "shell.execute_reply": "2023-07-12T18:44:31.494475Z",
     "shell.execute_reply.started": "2023-07-12T18:44:31.482230Z"
    },
    "trusted": true
   },
   "outputs": [
    {
     "data": {
      "text/html": [
       "<div>\n",
       "<style scoped>\n",
       "    .dataframe tbody tr th:only-of-type {\n",
       "        vertical-align: middle;\n",
       "    }\n",
       "\n",
       "    .dataframe tbody tr th {\n",
       "        vertical-align: top;\n",
       "    }\n",
       "\n",
       "    .dataframe thead th {\n",
       "        text-align: right;\n",
       "    }\n",
       "</style>\n",
       "<table border=\"1\" class=\"dataframe\">\n",
       "  <thead>\n",
       "    <tr style=\"text-align: right;\">\n",
       "      <th></th>\n",
       "      <th>Text</th>\n",
       "      <th>anger</th>\n",
       "      <th>disgust</th>\n",
       "      <th>fear</th>\n",
       "      <th>joy</th>\n",
       "      <th>sadness</th>\n",
       "      <th>surprise</th>\n",
       "      <th>neutral</th>\n",
       "    </tr>\n",
       "  </thead>\n",
       "  <tbody>\n",
       "    <tr>\n",
       "      <th>0</th>\n",
       "      <td>my favourite food anything i cook</td>\n",
       "      <td>0</td>\n",
       "      <td>0</td>\n",
       "      <td>0</td>\n",
       "      <td>0</td>\n",
       "      <td>0</td>\n",
       "      <td>0</td>\n",
       "      <td>1</td>\n",
       "    </tr>\n",
       "    <tr>\n",
       "      <th>1</th>\n",
       "      <td>now everyone think he laugh screwing people in...</td>\n",
       "      <td>0</td>\n",
       "      <td>0</td>\n",
       "      <td>0</td>\n",
       "      <td>0</td>\n",
       "      <td>0</td>\n",
       "      <td>0</td>\n",
       "      <td>1</td>\n",
       "    </tr>\n",
       "    <tr>\n",
       "      <th>2</th>\n",
       "      <td>why the fuck is bayless isoing</td>\n",
       "      <td>1</td>\n",
       "      <td>0</td>\n",
       "      <td>0</td>\n",
       "      <td>0</td>\n",
       "      <td>0</td>\n",
       "      <td>0</td>\n",
       "      <td>0</td>\n",
       "    </tr>\n",
       "    <tr>\n",
       "      <th>3</th>\n",
       "      <td>to make feel threatened</td>\n",
       "      <td>0</td>\n",
       "      <td>0</td>\n",
       "      <td>1</td>\n",
       "      <td>0</td>\n",
       "      <td>0</td>\n",
       "      <td>0</td>\n",
       "      <td>0</td>\n",
       "    </tr>\n",
       "    <tr>\n",
       "      <th>4</th>\n",
       "      <td>dirty southern wanker</td>\n",
       "      <td>1</td>\n",
       "      <td>0</td>\n",
       "      <td>0</td>\n",
       "      <td>0</td>\n",
       "      <td>0</td>\n",
       "      <td>0</td>\n",
       "      <td>0</td>\n",
       "    </tr>\n",
       "  </tbody>\n",
       "</table>\n",
       "</div>"
      ],
      "text/plain": [
       "                                                Text  anger  disgust  fear  \\\n",
       "0                  my favourite food anything i cook      0        0     0   \n",
       "1  now everyone think he laugh screwing people in...      0        0     0   \n",
       "2                     why the fuck is bayless isoing      1        0     0   \n",
       "3                            to make feel threatened      0        0     1   \n",
       "4                              dirty southern wanker      1        0     0   \n",
       "\n",
       "   joy  sadness  surprise  neutral  \n",
       "0    0        0         0        1  \n",
       "1    0        0         0        1  \n",
       "2    0        0         0        0  \n",
       "3    0        0         0        0  \n",
       "4    0        0         0        0  "
      ]
     },
     "execution_count": 80,
     "metadata": {},
     "output_type": "execute_result"
    }
   ],
   "source": [
    "train_data.head()"
   ]
  },
  {
   "cell_type": "code",
   "execution_count": 81,
   "metadata": {
    "execution": {
     "iopub.execute_input": "2023-07-12T18:44:31.980278Z",
     "iopub.status.busy": "2023-07-12T18:44:31.979435Z",
     "iopub.status.idle": "2023-07-12T18:44:32.009667Z",
     "shell.execute_reply": "2023-07-12T18:44:32.008650Z",
     "shell.execute_reply.started": "2023-07-12T18:44:31.980250Z"
    },
    "trusted": true
   },
   "outputs": [],
   "source": [
    "train_data_new = train_data.drop(train_data[train_data['neutral'] == 1].index)\n",
    "valid_data_new = valid_data.drop(valid_data[valid_data['neutral'] == 1].index)\n",
    "test_data_new = test_data.drop(test_data[test_data['neutral'] == 1].index)\n",
    "\n",
    "train_data_new = train_data_new.drop(train_data_new[train_data_new['disgust'] == 1].index)\n",
    "valid_data_new = valid_data_new.drop(valid_data_new[valid_data_new['disgust'] == 1].index)\n",
    "test_data_new = test_data_new.drop(test_data_new[test_data_new['disgust'] == 1].index)\n",
    "\n",
    "train_data_new = train_data_new.drop(['neutral', 'disgust'], axis=1)\n",
    "valid_data_new = valid_data_new.drop(['neutral', 'disgust'], axis=1)\n",
    "test_data_new = test_data_new.drop(['neutral', 'disgust'], axis=1)"
   ]
  },
  {
   "cell_type": "code",
   "execution_count": 82,
   "metadata": {
    "execution": {
     "iopub.execute_input": "2023-07-12T18:44:32.633486Z",
     "iopub.status.busy": "2023-07-12T18:44:32.633129Z",
     "iopub.status.idle": "2023-07-12T18:44:32.646717Z",
     "shell.execute_reply": "2023-07-12T18:44:32.645418Z",
     "shell.execute_reply.started": "2023-07-12T18:44:32.633455Z"
    },
    "trusted": true
   },
   "outputs": [
    {
     "data": {
      "text/html": [
       "<div>\n",
       "<style scoped>\n",
       "    .dataframe tbody tr th:only-of-type {\n",
       "        vertical-align: middle;\n",
       "    }\n",
       "\n",
       "    .dataframe tbody tr th {\n",
       "        vertical-align: top;\n",
       "    }\n",
       "\n",
       "    .dataframe thead th {\n",
       "        text-align: right;\n",
       "    }\n",
       "</style>\n",
       "<table border=\"1\" class=\"dataframe\">\n",
       "  <thead>\n",
       "    <tr style=\"text-align: right;\">\n",
       "      <th></th>\n",
       "      <th>Text</th>\n",
       "      <th>anger</th>\n",
       "      <th>fear</th>\n",
       "      <th>joy</th>\n",
       "      <th>sadness</th>\n",
       "      <th>surprise</th>\n",
       "    </tr>\n",
       "  </thead>\n",
       "  <tbody>\n",
       "    <tr>\n",
       "      <th>2</th>\n",
       "      <td>why the fuck is bayless isoing</td>\n",
       "      <td>1</td>\n",
       "      <td>0</td>\n",
       "      <td>0</td>\n",
       "      <td>0</td>\n",
       "      <td>0</td>\n",
       "    </tr>\n",
       "    <tr>\n",
       "      <th>3</th>\n",
       "      <td>to make feel threatened</td>\n",
       "      <td>0</td>\n",
       "      <td>1</td>\n",
       "      <td>0</td>\n",
       "      <td>0</td>\n",
       "      <td>0</td>\n",
       "    </tr>\n",
       "    <tr>\n",
       "      <th>4</th>\n",
       "      <td>dirty southern wanker</td>\n",
       "      <td>1</td>\n",
       "      <td>0</td>\n",
       "      <td>0</td>\n",
       "      <td>0</td>\n",
       "      <td>0</td>\n",
       "    </tr>\n",
       "    <tr>\n",
       "      <th>5</th>\n",
       "      <td>omg peyton isn t good enough to help u in the ...</td>\n",
       "      <td>0</td>\n",
       "      <td>0</td>\n",
       "      <td>0</td>\n",
       "      <td>0</td>\n",
       "      <td>1</td>\n",
       "    </tr>\n",
       "    <tr>\n",
       "      <th>6</th>\n",
       "      <td>yes i heard about f bomb that thanks reply hub...</td>\n",
       "      <td>0</td>\n",
       "      <td>0</td>\n",
       "      <td>1</td>\n",
       "      <td>0</td>\n",
       "      <td>0</td>\n",
       "    </tr>\n",
       "  </tbody>\n",
       "</table>\n",
       "</div>"
      ],
      "text/plain": [
       "                                                Text  anger  fear  joy  \\\n",
       "2                     why the fuck is bayless isoing      1     0    0   \n",
       "3                            to make feel threatened      0     1    0   \n",
       "4                              dirty southern wanker      1     0    0   \n",
       "5  omg peyton isn t good enough to help u in the ...      0     0    0   \n",
       "6  yes i heard about f bomb that thanks reply hub...      0     0    1   \n",
       "\n",
       "   sadness  surprise  \n",
       "2        0         0  \n",
       "3        0         0  \n",
       "4        0         0  \n",
       "5        0         1  \n",
       "6        0         0  "
      ]
     },
     "execution_count": 82,
     "metadata": {},
     "output_type": "execute_result"
    }
   ],
   "source": [
    "train_data_new.head()"
   ]
  },
  {
   "cell_type": "code",
   "execution_count": 83,
   "metadata": {
    "execution": {
     "iopub.execute_input": "2023-07-12T18:44:33.057355Z",
     "iopub.status.busy": "2023-07-12T18:44:33.056959Z",
     "iopub.status.idle": "2023-07-12T18:44:33.064241Z",
     "shell.execute_reply": "2023-07-12T18:44:33.063009Z",
     "shell.execute_reply.started": "2023-07-12T18:44:33.057323Z"
    },
    "trusted": true
   },
   "outputs": [
    {
     "data": {
      "text/plain": [
       "(28427, 6)"
      ]
     },
     "execution_count": 83,
     "metadata": {},
     "output_type": "execute_result"
    }
   ],
   "source": [
    "train_data_new.shape"
   ]
  },
  {
   "cell_type": "code",
   "execution_count": 84,
   "metadata": {
    "execution": {
     "iopub.execute_input": "2023-07-12T18:44:33.703838Z",
     "iopub.status.busy": "2023-07-12T18:44:33.703447Z",
     "iopub.status.idle": "2023-07-12T18:44:33.711906Z",
     "shell.execute_reply": "2023-07-12T18:44:33.710829Z",
     "shell.execute_reply.started": "2023-07-12T18:44:33.703811Z"
    },
    "trusted": true
   },
   "outputs": [],
   "source": [
    "train_labels = train_data_new.drop(\"Text\", axis=1)\n",
    "valid_labels = valid_data_new.drop(\"Text\", axis=1)\n",
    "test_labels = test_data_new.drop(\"Text\", axis=1)"
   ]
  },
  {
   "cell_type": "code",
   "execution_count": 85,
   "metadata": {
    "execution": {
     "iopub.execute_input": "2023-07-12T18:44:34.485132Z",
     "iopub.status.busy": "2023-07-12T18:44:34.484756Z",
     "iopub.status.idle": "2023-07-12T18:44:34.748451Z",
     "shell.execute_reply": "2023-07-12T18:44:34.747438Z",
     "shell.execute_reply.started": "2023-07-12T18:44:34.485102Z"
    },
    "trusted": true
   },
   "outputs": [],
   "source": [
    "tokenizer = RobertaTokenizerFast.from_pretrained(\"roberta-base\")"
   ]
  },
  {
   "cell_type": "code",
   "execution_count": 86,
   "metadata": {
    "execution": {
     "iopub.execute_input": "2023-07-12T18:44:35.193100Z",
     "iopub.status.busy": "2023-07-12T18:44:35.192065Z",
     "iopub.status.idle": "2023-07-12T18:44:35.201101Z",
     "shell.execute_reply": "2023-07-12T18:44:35.200145Z",
     "shell.execute_reply.started": "2023-07-12T18:44:35.193061Z"
    },
    "trusted": true
   },
   "outputs": [
    {
     "data": {
      "text/plain": [
       "Index(['Text', 'anger', 'fear', 'joy', 'sadness', 'surprise'], dtype='object')"
      ]
     },
     "execution_count": 86,
     "metadata": {},
     "output_type": "execute_result"
    }
   ],
   "source": [
    "train_data_new.columns"
   ]
  },
  {
   "cell_type": "code",
   "execution_count": 87,
   "metadata": {
    "execution": {
     "iopub.execute_input": "2023-07-12T18:44:36.028149Z",
     "iopub.status.busy": "2023-07-12T18:44:36.027463Z",
     "iopub.status.idle": "2023-07-12T18:44:36.035130Z",
     "shell.execute_reply": "2023-07-12T18:44:36.034059Z",
     "shell.execute_reply.started": "2023-07-12T18:44:36.028118Z"
    },
    "trusted": true
   },
   "outputs": [
    {
     "data": {
      "text/plain": [
       "range(0, 28427)"
      ]
     },
     "execution_count": 87,
     "metadata": {},
     "output_type": "execute_result"
    }
   ],
   "source": [
    "range(len(train_data_new[\"Text\"]))"
   ]
  },
  {
   "cell_type": "code",
   "execution_count": 88,
   "metadata": {
    "execution": {
     "iopub.execute_input": "2023-07-12T18:44:36.709000Z",
     "iopub.status.busy": "2023-07-12T18:44:36.708208Z",
     "iopub.status.idle": "2023-07-12T18:44:41.531850Z",
     "shell.execute_reply": "2023-07-12T18:44:41.530857Z",
     "shell.execute_reply.started": "2023-07-12T18:44:36.708956Z"
    },
    "trusted": true
   },
   "outputs": [],
   "source": [
    "max_len = max([len(x.split()) for x in train_data_new['Text']])\n",
    "train_input_ids, train_attention_masks, train_token_type_ids = roberta_encode(train_data_new, max_len, tokenizer)\n",
    "valid_input_ids, valid_attention_masks, valid_token_type_ids = roberta_encode(valid_data_new, max_len, tokenizer)\n",
    "test_input_ids, test_attention_masks, test_token_type_ids = roberta_encode(test_data_new, max_len, tokenizer)"
   ]
  },
  {
   "cell_type": "code",
   "execution_count": 89,
   "metadata": {
    "execution": {
     "iopub.execute_input": "2023-07-12T18:44:41.534270Z",
     "iopub.status.busy": "2023-07-12T18:44:41.533817Z",
     "iopub.status.idle": "2023-07-12T18:44:41.541435Z",
     "shell.execute_reply": "2023-07-12T18:44:41.540384Z",
     "shell.execute_reply.started": "2023-07-12T18:44:41.534235Z"
    },
    "trusted": true
   },
   "outputs": [
    {
     "data": {
      "text/plain": [
       "((3520, 25), (3520, 25), (3520, 25))"
      ]
     },
     "execution_count": 89,
     "metadata": {},
     "output_type": "execute_result"
    }
   ],
   "source": [
    "test_input_ids.shape, test_attention_masks.shape, test_token_type_ids.shape"
   ]
  },
  {
   "cell_type": "code",
   "execution_count": 90,
   "metadata": {
    "execution": {
     "iopub.execute_input": "2023-07-12T18:44:41.544292Z",
     "iopub.status.busy": "2023-07-12T18:44:41.543350Z",
     "iopub.status.idle": "2023-07-12T18:44:41.552431Z",
     "shell.execute_reply": "2023-07-12T18:44:41.551294Z",
     "shell.execute_reply.started": "2023-07-12T18:44:41.544256Z"
    },
    "trusted": true
   },
   "outputs": [
    {
     "data": {
      "text/plain": [
       "(3520, 5)"
      ]
     },
     "execution_count": 90,
     "metadata": {},
     "output_type": "execute_result"
    }
   ],
   "source": [
    "test_labels.shape"
   ]
  },
  {
   "cell_type": "code",
   "execution_count": 91,
   "metadata": {
    "execution": {
     "iopub.execute_input": "2023-07-12T18:44:41.555596Z",
     "iopub.status.busy": "2023-07-12T18:44:41.555225Z",
     "iopub.status.idle": "2023-07-12T18:44:41.561269Z",
     "shell.execute_reply": "2023-07-12T18:44:41.560274Z",
     "shell.execute_reply.started": "2023-07-12T18:44:41.555565Z"
    },
    "trusted": true
   },
   "outputs": [],
   "source": [
    "es_3 = EarlyStopping(monitor='val_loss', mode='min', verbose=1, patience=2)"
   ]
  },
  {
   "cell_type": "code",
   "execution_count": 92,
   "metadata": {
    "execution": {
     "iopub.execute_input": "2023-07-12T18:44:41.563155Z",
     "iopub.status.busy": "2023-07-12T18:44:41.562482Z",
     "iopub.status.idle": "2023-07-12T18:44:41.573885Z",
     "shell.execute_reply": "2023-07-12T18:44:41.572935Z",
     "shell.execute_reply.started": "2023-07-12T18:44:41.563118Z"
    },
    "trusted": true
   },
   "outputs": [],
   "source": [
    "def create_model(bert_model, max_len, num_classes=7):\n",
    "    \n",
    "    input_ids = tf.keras.Input(shape=(max_len,),dtype='int32')\n",
    "    attention_masks = tf.keras.Input(shape=(max_len,),dtype='int32')\n",
    "    token_type_ids = tf.keras.Input(shape=(max_len,),dtype='int32')\n",
    "    \n",
    "    features = bert_model([input_ids,attention_masks, token_type_ids])\n",
    "    output = tf.keras.layers.Dense(num_classes, activation='sigmoid')(features[1])\n",
    "    \n",
    "    model = tf.keras.models.Model(inputs=[input_ids,attention_masks,token_type_ids], outputs=output)\n",
    "    \n",
    "    model.compile(tf.keras.optimizers.Adam(learning_rate=5e-5, weight_decay=1e-6),\n",
    "                  loss='categorical_crossentropy',\n",
    "                  metrics=['accuracy', tf.keras.metrics.Precision(name='precision')])\n",
    "    return model"
   ]
  },
  {
   "cell_type": "code",
   "execution_count": 93,
   "metadata": {
    "execution": {
     "iopub.execute_input": "2023-07-12T18:44:42.242807Z",
     "iopub.status.busy": "2023-07-12T18:44:42.242410Z",
     "iopub.status.idle": "2023-07-12T18:44:44.488593Z",
     "shell.execute_reply": "2023-07-12T18:44:44.487654Z",
     "shell.execute_reply.started": "2023-07-12T18:44:42.242778Z"
    },
    "trusted": true
   },
   "outputs": [
    {
     "name": "stderr",
     "output_type": "stream",
     "text": [
      "Some weights of the PyTorch model were not used when initializing the TF 2.0 model TFRobertaModel: ['roberta.embeddings.position_ids', 'lm_head.dense.weight', 'lm_head.dense.bias', 'lm_head.layer_norm.weight', 'lm_head.bias', 'lm_head.layer_norm.bias']\n",
      "- This IS expected if you are initializing TFRobertaModel from a PyTorch model trained on another task or with another architecture (e.g. initializing a TFBertForSequenceClassification model from a BertForPreTraining model).\n",
      "- This IS NOT expected if you are initializing TFRobertaModel from a PyTorch model that you expect to be exactly identical (e.g. initializing a TFBertForSequenceClassification model from a BertForSequenceClassification model).\n",
      "Some weights or buffers of the TF 2.0 model TFRobertaModel were not initialized from the PyTorch model and are newly initialized: ['roberta.pooler.dense.weight', 'roberta.pooler.dense.bias']\n",
      "You should probably TRAIN this model on a down-stream task to be able to use it for predictions and inference.\n"
     ]
    }
   ],
   "source": [
    "roberta_model = TFRobertaModel.from_pretrained('roberta-base')\n",
    "roberta_model.trainable = True"
   ]
  },
  {
   "cell_type": "code",
   "execution_count": 94,
   "metadata": {
    "execution": {
     "iopub.execute_input": "2023-07-12T18:44:44.491305Z",
     "iopub.status.busy": "2023-07-12T18:44:44.490813Z",
     "iopub.status.idle": "2023-07-12T18:44:46.397777Z",
     "shell.execute_reply": "2023-07-12T18:44:46.396940Z",
     "shell.execute_reply.started": "2023-07-12T18:44:44.491255Z"
    },
    "trusted": true
   },
   "outputs": [
    {
     "name": "stdout",
     "output_type": "stream",
     "text": [
      "Model: \"model_4\"\n",
      "__________________________________________________________________________________________________\n",
      " Layer (type)                   Output Shape         Param #     Connected to                     \n",
      "==================================================================================================\n",
      " input_13 (InputLayer)          [(None, 25)]         0           []                               \n",
      "                                                                                                  \n",
      " input_14 (InputLayer)          [(None, 25)]         0           []                               \n",
      "                                                                                                  \n",
      " input_15 (InputLayer)          [(None, 25)]         0           []                               \n",
      "                                                                                                  \n",
      " tf_roberta_model_4 (TFRobertaM  TFBaseModelOutputWi  124645632  ['input_13[0][0]',               \n",
      " odel)                          thPoolingAndCrossAt               'input_14[0][0]',               \n",
      "                                tentions(last_hidde               'input_15[0][0]']               \n",
      "                                n_state=(None, 25,                                                \n",
      "                                768),                                                             \n",
      "                                 pooler_output=(Non                                               \n",
      "                                e, 768),                                                          \n",
      "                                 past_key_values=No                                               \n",
      "                                ne, hidden_states=N                                               \n",
      "                                one, attentions=Non                                               \n",
      "                                e, cross_attentions                                               \n",
      "                                =None)                                                            \n",
      "                                                                                                  \n",
      " dense_8 (Dense)                (None, 5)            3845        ['tf_roberta_model_4[0][1]']     \n",
      "                                                                                                  \n",
      "==================================================================================================\n",
      "Total params: 124,649,477\n",
      "Trainable params: 124,649,477\n",
      "Non-trainable params: 0\n",
      "__________________________________________________________________________________________________\n"
     ]
    }
   ],
   "source": [
    "model_3 = create_model(roberta_model, max_len, num_classes=5)\n",
    "model_3.summary()"
   ]
  },
  {
   "cell_type": "code",
   "execution_count": 95,
   "metadata": {
    "execution": {
     "iopub.execute_input": "2023-07-12T18:44:46.399829Z",
     "iopub.status.busy": "2023-07-12T18:44:46.399372Z",
     "iopub.status.idle": "2023-07-12T19:02:41.639801Z",
     "shell.execute_reply": "2023-07-12T19:02:41.638840Z",
     "shell.execute_reply.started": "2023-07-12T18:44:46.399794Z"
    },
    "trusted": true
   },
   "outputs": [
    {
     "name": "stdout",
     "output_type": "stream",
     "text": [
      "Epoch 1/10\n",
      "1777/1777 [==============================] - 317s 150ms/step - loss: 0.8842 - accuracy: 0.3486 - precision: 0.2170 - val_loss: 0.8021 - val_accuracy: 0.1852 - val_precision: 0.2156\n",
      "Epoch 2/10\n",
      "1777/1777 [==============================] - 252s 142ms/step - loss: 0.7527 - accuracy: 0.1800 - precision: 0.2158 - val_loss: 0.7427 - val_accuracy: 0.1852 - val_precision: 0.2156\n",
      "Epoch 3/10\n",
      "1777/1777 [==============================] - 253s 142ms/step - loss: 0.6841 - accuracy: 0.1800 - precision: 0.2158 - val_loss: 0.7668 - val_accuracy: 0.1852 - val_precision: 0.2156\n",
      "Epoch 4/10\n",
      "1777/1777 [==============================] - 253s 142ms/step - loss: 0.6304 - accuracy: 0.1800 - precision: 0.2158 - val_loss: 0.8049 - val_accuracy: 0.1852 - val_precision: 0.2156\n",
      "Epoch 4: early stopping\n"
     ]
    }
   ],
   "source": [
    "history_3 = model_3.fit([train_input_ids,train_attention_masks,train_token_type_ids], train_labels,\n",
    "                    validation_data=([valid_input_ids,valid_attention_masks,valid_token_type_ids], valid_labels),\n",
    "                    epochs=10,\n",
    "                    batch_size=16,\n",
    "                    callbacks=[es_3])"
   ]
  },
  {
   "cell_type": "code",
   "execution_count": 96,
   "metadata": {
    "execution": {
     "iopub.execute_input": "2023-07-12T19:02:41.643286Z",
     "iopub.status.busy": "2023-07-12T19:02:41.642954Z",
     "iopub.status.idle": "2023-07-12T19:02:41.953737Z",
     "shell.execute_reply": "2023-07-12T19:02:41.952856Z",
     "shell.execute_reply.started": "2023-07-12T19:02:41.643259Z"
    },
    "trusted": true
   },
   "outputs": [
    {
     "data": {
      "image/png": "[encoded data removed]",
      "text/plain": [
       "<Figure size 640x480 with 1 Axes>"
      ]
     },
     "metadata": {},
     "output_type": "display_data"
    }
   ],
   "source": [
    "# summarize history for accuracy\n",
    "plt.plot(history_3.history['accuracy'])\n",
    "plt.plot(history_3.history['val_accuracy'])\n",
    "plt.title('Model Accuracy')\n",
    "plt.ylabel('Accuracy')\n",
    "plt.xlabel('Epoch')\n",
    "plt.legend(['train', 'valid'], loc='upper left')\n",
    "plt.show()"
   ]
  },
  {
   "cell_type": "code",
   "execution_count": 97,
   "metadata": {
    "execution": {
     "iopub.execute_input": "2023-07-12T19:02:41.956253Z",
     "iopub.status.busy": "2023-07-12T19:02:41.955242Z",
     "iopub.status.idle": "2023-07-12T19:02:42.238434Z",
     "shell.execute_reply": "2023-07-12T19:02:42.237437Z",
     "shell.execute_reply.started": "2023-07-12T19:02:41.956218Z"
    },
    "trusted": true
   },
   "outputs": [
    {
     "data": {
      "image/png": "[encoded data removed]",
      "text/plain": [
       "<Figure size 640x480 with 1 Axes>"
      ]
     },
     "metadata": {},
     "output_type": "display_data"
    }
   ],
   "source": [
    "# summarize history for loss\n",
    "plt.plot(history_3.history['loss'])\n",
    "plt.plot(history_3.history['val_loss'])\n",
    "plt.title('Model Loss')\n",
    "plt.ylabel('Loss')\n",
    "plt.xlabel('Epoch')\n",
    "plt.legend(['train', 'valid'], loc='upper left')\n",
    "plt.show()"
   ]
  },
  {
   "cell_type": "code",
   "execution_count": 98,
   "metadata": {
    "execution": {
     "iopub.execute_input": "2023-07-12T19:02:42.240088Z",
     "iopub.status.busy": "2023-07-12T19:02:42.239713Z",
     "iopub.status.idle": "2023-07-12T19:02:42.566313Z",
     "shell.execute_reply": "2023-07-12T19:02:42.565399Z",
     "shell.execute_reply.started": "2023-07-12T19:02:42.240052Z"
    },
    "trusted": true
   },
   "outputs": [
    {
     "data": {
      "image/png": "[encoded data removed]",
      "text/plain": [
       "<Figure size 640x480 with 1 Axes>"
      ]
     },
     "metadata": {},
     "output_type": "display_data"
    }
   ],
   "source": [
    "# summarize history for precision\n",
    "plt.plot(history_3.history['precision'])\n",
    "plt.plot(history_3.history['val_precision'])\n",
    "plt.title('Model Precision')\n",
    "plt.ylabel('Precision')\n",
    "plt.xlabel('Epoch')\n",
    "plt.legend(['train', 'valid'], loc='upper left')\n",
    "plt.show()"
   ]
  },
  {
   "cell_type": "code",
   "execution_count": 99,
   "metadata": {
    "execution": {
     "iopub.execute_input": "2023-07-12T19:02:42.568246Z",
     "iopub.status.busy": "2023-07-12T19:02:42.567878Z",
     "iopub.status.idle": "2023-07-12T19:02:50.011766Z",
     "shell.execute_reply": "2023-07-12T19:02:50.010839Z",
     "shell.execute_reply.started": "2023-07-12T19:02:42.568211Z"
    },
    "trusted": true
   },
   "outputs": [
    {
     "name": "stdout",
     "output_type": "stream",
     "text": [
      "110/110 [==============================] - 7s 51ms/step\n"
     ]
    }
   ],
   "source": [
    "pred_labels_3 = model_3.predict([test_input_ids, test_attention_masks, test_token_type_ids])"
   ]
  },
  {
   "cell_type": "code",
   "execution_count": 100,
   "metadata": {
    "execution": {
     "iopub.execute_input": "2023-07-12T19:02:50.014064Z",
     "iopub.status.busy": "2023-07-12T19:02:50.013710Z",
     "iopub.status.idle": "2023-07-12T19:02:50.022374Z",
     "shell.execute_reply": "2023-07-12T19:02:50.021378Z",
     "shell.execute_reply.started": "2023-07-12T19:02:50.014027Z"
    },
    "trusted": true
   },
   "outputs": [
    {
     "data": {
      "text/plain": [
       "array([[1., 1., 1., 1., 1.],\n",
       "       [1., 1., 1., 1., 1.],\n",
       "       [1., 1., 1., 1., 1.],\n",
       "       [1., 1., 1., 1., 1.],\n",
       "       [1., 1., 1., 1., 1.]], dtype=float32)"
      ]
     },
     "execution_count": 100,
     "metadata": {},
     "output_type": "execute_result"
    }
   ],
   "source": [
    "pred_labels_3[:5]"
   ]
  },
  {
   "cell_type": "code",
   "execution_count": 101,
   "metadata": {
    "execution": {
     "iopub.execute_input": "2023-07-12T19:02:50.024525Z",
     "iopub.status.busy": "2023-07-12T19:02:50.023831Z",
     "iopub.status.idle": "2023-07-12T19:02:57.290321Z",
     "shell.execute_reply": "2023-07-12T19:02:57.289365Z",
     "shell.execute_reply.started": "2023-07-12T19:02:50.024477Z"
    },
    "trusted": true
   },
   "outputs": [
    {
     "name": "stdout",
     "output_type": "stream",
     "text": [
      "110/110 [==============================] - 7s 65ms/step - loss: 0.8032 - accuracy: 0.1875 - precision: 0.2134\n"
     ]
    },
    {
     "data": {
      "text/plain": [
       "[0.8031780123710632, 0.1875, 0.2133522778749466]"
      ]
     },
     "execution_count": 101,
     "metadata": {},
     "output_type": "execute_result"
    }
   ],
   "source": [
    "model_3.evaluate([test_input_ids, test_attention_masks, test_token_type_ids], test_labels)"
   ]
  },
  {
   "cell_type": "code",
   "execution_count": 102,
   "metadata": {
    "execution": {
     "iopub.execute_input": "2023-07-12T19:02:57.294332Z",
     "iopub.status.busy": "2023-07-12T19:02:57.294050Z",
     "iopub.status.idle": "2023-07-12T19:02:57.358144Z",
     "shell.execute_reply": "2023-07-12T19:02:57.357318Z",
     "shell.execute_reply.started": "2023-07-12T19:02:57.294307Z"
    },
    "trusted": true
   },
   "outputs": [],
   "source": [
    "pred_labels_3 = [list(map(prob,i)) for i in pred_labels_3]"
   ]
  },
  {
   "cell_type": "code",
   "execution_count": 103,
   "metadata": {
    "execution": {
     "iopub.execute_input": "2023-07-12T19:02:57.359785Z",
     "iopub.status.busy": "2023-07-12T19:02:57.359338Z",
     "iopub.status.idle": "2023-07-12T19:02:57.367010Z",
     "shell.execute_reply": "2023-07-12T19:02:57.365913Z",
     "shell.execute_reply.started": "2023-07-12T19:02:57.359751Z"
    },
    "trusted": true
   },
   "outputs": [
    {
     "data": {
      "text/plain": [
       "[[1, 1, 1, 1, 1],\n",
       " [1, 1, 1, 1, 1],\n",
       " [1, 1, 1, 1, 1],\n",
       " [1, 1, 1, 1, 1],\n",
       " [1, 1, 1, 1, 1]]"
      ]
     },
     "execution_count": 103,
     "metadata": {},
     "output_type": "execute_result"
    }
   ],
   "source": [
    "pred_labels_3[:5]"
   ]
  },
  {
   "cell_type": "code",
   "execution_count": 104,
   "metadata": {
    "execution": {
     "iopub.execute_input": "2023-07-12T19:02:57.369234Z",
     "iopub.status.busy": "2023-07-12T19:02:57.368902Z",
     "iopub.status.idle": "2023-07-12T19:02:57.388800Z",
     "shell.execute_reply": "2023-07-12T19:02:57.387951Z",
     "shell.execute_reply.started": "2023-07-12T19:02:57.369203Z"
    },
    "trusted": true
   },
   "outputs": [
    {
     "name": "stdout",
     "output_type": "stream",
     "text": [
      "The Label Ranking Average Precision Score for the Test Set:  1.0\n"
     ]
    }
   ],
   "source": [
    "from sklearn.metrics import label_ranking_average_precision_score\n",
    "lrap = label_ranking_average_precision_score(pred_labels_3, test_labels)\n",
    "print(\"The Label Ranking Average Precision Score for the Test Set: \", lrap)"
   ]
  },
  {
   "cell_type": "code",
   "execution_count": 105,
   "metadata": {
    "execution": {
     "iopub.execute_input": "2023-07-12T19:02:57.390388Z",
     "iopub.status.busy": "2023-07-12T19:02:57.389928Z",
     "iopub.status.idle": "2023-07-12T19:02:57.422441Z",
     "shell.execute_reply": "2023-07-12T19:02:57.421520Z",
     "shell.execute_reply.started": "2023-07-12T19:02:57.390355Z"
    },
    "trusted": true
   },
   "outputs": [
    {
     "name": "stdout",
     "output_type": "stream",
     "text": [
      "              precision    recall  f1-score   support\n",
      "\n",
      "       anger       0.19      1.00      0.32       660\n",
      "        fear       0.03      1.00      0.05        91\n",
      "         joy       0.57      1.00      0.73      2022\n",
      "     sadness       0.10      1.00      0.18       358\n",
      "    surprise       0.18      1.00      0.30       624\n",
      "\n",
      "   micro avg       0.21      1.00      0.35      3755\n",
      "   macro avg       0.21      1.00      0.32      3755\n",
      "weighted avg       0.38      1.00      0.52      3755\n",
      " samples avg       0.21      1.00      0.35      3755\n",
      "\n"
     ]
    }
   ],
   "source": [
    "from sklearn.metrics import classification_report\n",
    "target_names = train_data_new.columns[1:]\n",
    "print(classification_report(test_labels, pred_labels_3, target_names=target_names))"
   ]
  },
  {
   "cell_type": "code",
   "execution_count": null,
   "metadata": {},
   "outputs": [],
   "source": []
  }
 ],
 "metadata": {
  "kernelspec": {
   "display_name": "new_bert",
   "language": "python",
   "name": "python3"
  },
  "language_info": {
   "codemirror_mode": {
    "name": "ipython",
    "version": 3
   },
   "file_extension": ".py",
   "mimetype": "text/x-python",
   "name": "python",
   "nbconvert_exporter": "python",
   "pygments_lexer": "ipython3",
   "version": "3.9.20"
  }
 },
 "nbformat": 4,
 "nbformat_minor": 4
}
