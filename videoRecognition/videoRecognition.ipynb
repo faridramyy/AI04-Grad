{
 "cells": [
  {
   "cell_type": "code",
   "execution_count": null,
   "metadata": {},
   "outputs": [],
   "source": [
    "import cv2\n",
    "import torch\n",
    "from fer_pytorch.fer import FER\n",
    "\n",
    "# Check OpenCV version\n",
    "print(f\"OpenCV version: {cv2.__version__}\")\n",
    "\n",
    "# Check Torch version\n",
    "print(f\"Torch version: {torch.__version__}\")\n",
    "\n",
    "# Initialize FER model and test\n",
    "fer_model = FER()\n",
    "print(\"FER model initialized successfully\")\n",
    "\n",
    "# Test FER on a sample image\n",
    "img_path = 'path_to_your_image.jpg'  # Provide the path to a sample image file\n",
    "img = cv2.imread(img_path)\n",
    "\n",
    "if img is not None:\n",
    "    result = fer_model.predict_image(img, show_top=True)\n",
    "    print(\"Emotion prediction result:\", result)\n",
    "else:\n",
    "    print(\"Failed to load image. Make sure the path is correct.\")\n",
    "\n",
    "# Simple PyTorch tensor test\n",
    "x = torch.rand(5, 3)\n",
    "print(\"Sample PyTorch tensor:\\n\", x)\n"
   ]
  },
  {
   "cell_type": "code",
   "execution_count": null,
   "metadata": {},
   "outputs": [],
   "source": [
    "import torch\n",
    "print(torch.cuda.is_available())  # Should return True if CUDA is available\n",
    "print(torch.cuda.device_count())  # Should show the number of GPUs available\n"
   ]
  },
  {
   "cell_type": "code",
   "execution_count": null,
   "metadata": {},
   "outputs": [],
   "source": [
    "    "
   ]
  }
 ],
 "metadata": {
  "kernelspec": {
   "display_name": "my_env",
   "language": "python",
   "name": "python3"
  },
  "language_info": {
   "name": "python",
   "version": "3.8.20"
  }
 },
 "nbformat": 4,
 "nbformat_minor": 2
}
